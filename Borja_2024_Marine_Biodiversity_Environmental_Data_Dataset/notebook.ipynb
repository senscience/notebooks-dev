{
 "cells": [
  {
   "cell_type": "markdown",
   "metadata": {},
   "source": [
    "# Marine Biodiversity and Environmental Data Exploration with `mlcroissant`\n",
    "This notebook provides a guide for loading and exploring a dataset using the `mlcroissant` library.\n",
    "\n",
    "### Dataset Source\n",
    "The dataset source is provided via a Croissant schema URL."
   ]
  },
  {
   "cell_type": "code",
   "execution_count": 1,
   "metadata": {},
   "outputs": [],
   "source": [
    "import mlcroissant as mlc\n",
    "import pandas as pd\n",
    "import matplotlib.pyplot as plt\n",
    "\n",
    "from tabulate import tabulate\n",
    "from IPython.display import Markdown"
   ]
  },
  {
   "cell_type": "markdown",
   "metadata": {},
   "source": [
    "## 1. Data Loading\n",
    "Load metadata and records from the dataset using `mlcroissant`."
   ]
  },
  {
   "cell_type": "code",
   "execution_count": 2,
   "metadata": {},
   "outputs": [
    {
     "name": "stderr",
     "output_type": "stream",
     "text": [
      "WARNING:absl:WARNING: The JSON-LD `@context` is not standard. Refer to the official @context (e.g., from the example datasets in https://github.com/mlcommons/croissant/tree/main/datasets/1.0). The different keys are: {'jsonPath', 'md5', 'isLiveDataset', 'key', 'subField', 'fileProperty', 'repeated', 'fileSet', 'data', 'sc', 'format', 'parentField', 'separator', 'replace', 'examples', 'transform', 'references', 'regex', 'includes', 'path', '@language'}\n"
     ]
    },
    {
     "name": "stdout",
     "output_type": "stream",
     "text": [
      "Borja_2024_Marine_Biodiversity_Environmental_Data_Dataset: This dataset encompasses extensive long-term monitoring data from the Basque Country, focusing on assessing the responsiveness of 83 environmental variables across water, sediment, biota, phytoplankton, macroinvertebrates, and fish. It includes metadata and biodiversity data from various aquatic environments, detailing site-specific identifiers, sampling methods, and instruments used. The dataset is crucial for understanding trends in environmental quality and the effects of human pressures and management actions over time.\n"
     ]
    }
   ],
   "source": [
    "# Define the dataset URL\n",
    "url = 'https://dev.senscience.cloud/portal/10.82843/pm80-mh77/fair2.json'\n",
    "\n",
    "# Load the dataset metadata\n",
    "dataset = mlc.Dataset(url)\n",
    "metadata = dataset.metadata.to_json()\n",
    "print(f\"{metadata['name']}: {metadata['description']}\")"
   ]
  },
  {
   "cell_type": "markdown",
   "metadata": {},
   "source": [
    "## 2. Data Overview\n",
    "Review available record sets, fields, and their IDs."
   ]
  },
  {
   "cell_type": "code",
   "execution_count": 3,
   "metadata": {},
   "outputs": [],
   "source": [
    "# Format the list column as a Markdown-compatible string\n",
    "def format_list_column(row):\n",
    "    if isinstance(row, list):\n",
    "        return \"\\n\".join(f\"- {item}\" for item in row)  # Bullet point list\n",
    "    return str(row)"
   ]
  },
  {
   "cell_type": "code",
   "execution_count": 4,
   "metadata": {},
   "outputs": [
    {
     "data": {
      "text/markdown": [
       "| Record Set ID                                                                                                           | Description                                                                                                                                                                                                                                                                                                                                                                                                                                                                                                                                                                               |\n",
       "|:------------------------------------------------------------------------------------------------------------------------|:------------------------------------------------------------------------------------------------------------------------------------------------------------------------------------------------------------------------------------------------------------------------------------------------------------------------------------------------------------------------------------------------------------------------------------------------------------------------------------------------------------------------------------------------------------------------------------------|\n",
       "| https://senscience.ai/frontiers/borja/README.csv                                                                        | The datasheet encompasses metadata and biodiversity data related to diverse aquatic environments. It includes information on taxonomic groups, site-specific sampling identifiers, sampling methods, and descriptions of instruments used. Examples include fish and Gillnetting, with references to specific sites like LTER_400. The data covers various descriptive fields such as taxonomic classification, site, and method details, providing a comprehensive overview of aquatic biodiversity research.                                                                            |\n",
       "| https://senscience.ai/frontiers/borja/METADATA.csv                                                                      | The datasheet contains metadata about environmental sampling in the Bay of Biscay, Spain. It details locations (site names and IDs), geographical coordinates, and timespan of data collection from 1989 to 2023. It categorizes samples into taxa groups and provides protocols for sampling. Contact information for involved researchers is included, listing names and emails. The dataset covers various taxa such as water, macroalgae, and invertebrates, and is collected consistently across multiple years and sites.                                                           |\n",
       "| https://senscience.ai/frontiers/borja/WATER.csv                                                                         | The dataset contains water quality measurements, including parameters like temperature, salinity, dissolved oxygen, and pH, collected from various sites. It includes metadata such as date collected, site ID, sample ID, and record basis. The dataset also provides depth information and sampling effort, with parameter values and standard units. The data spans multiple years, with repeated observations for several parameters across different locations.                                                                                                                      |\n",
       "| https://senscience.ai/frontiers/borja/BIOTA.csv                                                                         | The dataset captures biota sample information, detailing collection dates, locations, sample IDs, and species (taxonomy) names with corresponding IDs. It includes environmental parameters measured in biota, the units of these measurements, and specific measurement values. The dataset uniformly records specimens as \"Frozen Specimen\" from intertidal zones, with consistent sampling efforts noted. Key taxa include \"Mytilus galloprovincialis,\" \"Magallana gigas,\" and \"Magallana angulata.\" It offers insight into biotic composition and related environmental observations. |\n",
       "| https://senscience.ai/frontiers/borja/SEDIMENTS.csv                                                                     | The dataset captures sediment samples with details on collection dates, site IDs, and sample IDs. It includes metadata such as basis of record, depth measurements, and sampling effort. Key parameters measured include organic matter percentage, gravel, mud, and metal concentrations, alongside redox potential, with respective values and standard units. The dataset provides insights into sediment composition and characteristics across various sites and depths, offering valuable information for environmental and geological studies.                                     |\n",
       "| https://senscience.ai/frontiers/borja/PHYTOPLANKTON.csv                                                                 | The dataset records phytoplankton abundance, collected at various sites on specific dates, identified by unique sample IDs. It includes taxonomic information, depth measurements, and consistent recording effort. All observations, based on material samples, use standardized units and focus on abundance parameters, providing insights into phytoplankton distribution across different locations and times. The dataset is comprehensive, with no missing values, facilitating detailed ecological studies and analysis.                                                          |\n",
       "| https://senscience.ai/frontiers/borja/MACROALGAE.csv                                                                    | The dataset contains macroalgae observations, detailing collection dates, site identifiers, sample identifiers, and taxonomic data. Observations are consistently recorded as human observations in intertidal zones, with a constant sampling effort and depth range. Each entry includes a taxon name and ID, with coverage percentages as measured parameters, all standardized in percentage units. The data provides a comprehensive record of macroalgae coverage across various sites over time.                                                                                   |\n",
       "| https://senscience.ai/frontiers/borja/INVERTEBRATES.csv                                                                 | The datasheet documents invertebrate abundance across various sites and dates, detailing parameters like site ID, sample ID, taxonomic names, and their corresponding IDs. It includes metadata such as depth, sampling effort, and records classified as \"MaterialSample.\" The dataset captures both minimum and maximum depths, with a consistent unit of \"Ind/m2\" for parameter values, focusing on invertebrate sampling efforts and abundance.                                                                                                                                       |\n",
       "| https://senscience.ai/frontiers/borja/FISH.csv                                                                          | The datasheet contains data on fish abundance collected from various sites over a span of years. It includes details like site IDs, sample IDs, collection dates, and taxonomic information. Depth measurements, both minimum and maximum, are recorded along with sampling efforts. The observations are categorized under a \"HumanObservation\" record type and parameterized by abundance with values expressed in two unit variations, \"Ind\" and \"ind\".                                                                                                                                |\n",
       "| https://senscience.ai/frontiers/borja/METHOD.csv                                                                        | The datasheet contains information on environmental sampling protocols, detailing various taxa groups like sediments, water, and biota, alongside the instruments used, sampling protocols, and references to related documentation. Descriptions provide insights into the sampling frequency and methodology in different environments, such as coastal and estuarine areas. The data offers metadata linked to scientific studies and protocols, emphasizing the procedural aspects of environmental monitoring.                                                                       |\n",
       "| https://senscience.ai/frontiers/borja/AUTHORS.csv                                                                       | The datasheet contains information about authors, including their last names, first names, and middle initials. It includes details on whether they are in the author list, their email addresses, ORCID identifiers, and affiliations with departments and institutions. Additionally, it provides institutional details such as street addresses, city, zip code, and country. Most authors are affiliated with AZTI and are based in Spain, with Pasaia being a frequent city of affiliation.                                                                                          |\n",
       "| https://api.dev.senscience.cloud/frontiers/8704cfcf-0667-4eaf-b0b1-679597df683f-16/1f815237-2720-4af1-8a91-0a68ec18fef2 | The datasheet provides analytical data on various environmental subgroups, detailing chemical parameters and their respective units. It includes information on analysis methods and codes, capturing diverse testing techniques like gas chromatography and mass spectrometry. The fields cover distinct categories such as sediments, water, and biota, and feature alphanumeric codes for specific chemicals or compounds analyzed. The datasheet appears to structure metadata essential for understanding environmental chemical analysis.                                           |"
      ],
      "text/plain": [
       "<IPython.core.display.Markdown object>"
      ]
     },
     "metadata": {},
     "output_type": "display_data"
    }
   ],
   "source": [
    "# List all the record sets available in the dataset\n",
    "df = pd.DataFrame(metadata[\"recordSet\"])\n",
    "columns_to_keep = {\n",
    "    \"@id\": \"Record Set ID\",\n",
    "    \"description\": \"Description\"\n",
    "}\n",
    "df = df[list(columns_to_keep.keys())]\n",
    "df = df.rename(columns=columns_to_keep)\n",
    "\n",
    "# Convert DataFrame to Markdown table\n",
    "markdown_table = tabulate(df, headers=\"keys\", tablefmt=\"pipe\", showindex=False)\n",
    "\n",
    "# Render the table as Markdown in Jupyter\n",
    "display(Markdown(markdown_table))"
   ]
  },
  {
   "cell_type": "markdown",
   "metadata": {},
   "source": [
    "## 3. Data Extraction\n",
    "Load data from a specific record set into a DataFrame for analysis. Use the record set and field `@id`s from the overview."
   ]
  },
  {
   "cell_type": "code",
   "execution_count": 5,
   "metadata": {},
   "outputs": [
    {
     "data": {
      "text/markdown": [
       "#### https://senscience.ai/frontiers/borja/PHYTOPLANKTON.csv"
      ],
      "text/plain": [
       "<IPython.core.display.Markdown object>"
      ]
     },
     "metadata": {},
     "output_type": "display_data"
    },
    {
     "data": {
      "text/html": [
       "<div>\n",
       "<style scoped>\n",
       "    .dataframe tbody tr th:only-of-type {\n",
       "        vertical-align: middle;\n",
       "    }\n",
       "\n",
       "    .dataframe tbody tr th {\n",
       "        vertical-align: top;\n",
       "    }\n",
       "\n",
       "    .dataframe thead th {\n",
       "        text-align: right;\n",
       "    }\n",
       "</style>\n",
       "<table border=\"1\" class=\"dataframe\">\n",
       "  <thead>\n",
       "    <tr style=\"text-align: right;\">\n",
       "      <th></th>\n",
       "      <th>https://senscience.ai/frontiers/borja/PHYTOPLANKTON.csv/datecollected</th>\n",
       "      <th>https://senscience.ai/frontiers/borja/PHYTOPLANKTON.csv/siteid</th>\n",
       "      <th>https://senscience.ai/frontiers/borja/PHYTOPLANKTON.csv/sampleid</th>\n",
       "      <th>https://senscience.ai/frontiers/borja/PHYTOPLANKTON.csv/basisofrecord</th>\n",
       "      <th>https://senscience.ai/frontiers/borja/PHYTOPLANKTON.csv/minimumdepthinmeters</th>\n",
       "      <th>https://senscience.ai/frontiers/borja/PHYTOPLANKTON.csv/maximumdepthinmeters</th>\n",
       "      <th>https://senscience.ai/frontiers/borja/PHYTOPLANKTON.csv/taxaname</th>\n",
       "      <th>https://senscience.ai/frontiers/borja/PHYTOPLANKTON.csv/taxanameid</th>\n",
       "      <th>https://senscience.ai/frontiers/borja/PHYTOPLANKTON.csv/samplingeffort</th>\n",
       "      <th>https://senscience.ai/frontiers/borja/PHYTOPLANKTON.csv/parameter</th>\n",
       "      <th>https://senscience.ai/frontiers/borja/PHYTOPLANKTON.csv/parameter_value</th>\n",
       "      <th>https://senscience.ai/frontiers/borja/PHYTOPLANKTON.csv/parameter_standardunit</th>\n",
       "    </tr>\n",
       "  </thead>\n",
       "  <tbody>\n",
       "    <tr>\n",
       "      <th>0</th>\n",
       "      <td>2002-04-22</td>\n",
       "      <td>b'E-BI10'</td>\n",
       "      <td>b'E-BI10_20020422'</td>\n",
       "      <td>b'MaterialSample'</td>\n",
       "      <td>0.0</td>\n",
       "      <td>0.5</td>\n",
       "      <td>b'Cryptomonas'</td>\n",
       "      <td>106282.0</td>\n",
       "      <td>b'125 ml'</td>\n",
       "      <td>b'Abundance'</td>\n",
       "      <td>4.20</td>\n",
       "      <td>b'cel/ml'</td>\n",
       "    </tr>\n",
       "    <tr>\n",
       "      <th>1</th>\n",
       "      <td>2002-04-22</td>\n",
       "      <td>b'E-BI10'</td>\n",
       "      <td>b'E-BI10_20020422'</td>\n",
       "      <td>b'MaterialSample'</td>\n",
       "      <td>0.0</td>\n",
       "      <td>0.5</td>\n",
       "      <td>b'Eutreptiella'</td>\n",
       "      <td>17657.0</td>\n",
       "      <td>b'125 ml'</td>\n",
       "      <td>b'Abundance'</td>\n",
       "      <td>170.00</td>\n",
       "      <td>b'cel/ml'</td>\n",
       "    </tr>\n",
       "    <tr>\n",
       "      <th>2</th>\n",
       "      <td>2002-04-22</td>\n",
       "      <td>b'E-BI10'</td>\n",
       "      <td>b'E-BI10_20020422'</td>\n",
       "      <td>b'MaterialSample'</td>\n",
       "      <td>0.0</td>\n",
       "      <td>0.5</td>\n",
       "      <td>b'Melosira varians'</td>\n",
       "      <td>149043.0</td>\n",
       "      <td>b'125 ml'</td>\n",
       "      <td>b'Abundance'</td>\n",
       "      <td>0.24</td>\n",
       "      <td>b'cel/ml'</td>\n",
       "    </tr>\n",
       "    <tr>\n",
       "      <th>3</th>\n",
       "      <td>2002-04-22</td>\n",
       "      <td>b'E-BI10'</td>\n",
       "      <td>b'E-BI10_20020422'</td>\n",
       "      <td>b'MaterialSample'</td>\n",
       "      <td>0.0</td>\n",
       "      <td>0.5</td>\n",
       "      <td>b'Melosira\\xc2\\xa0nummuloides'</td>\n",
       "      <td>149044.0</td>\n",
       "      <td>b'125 ml'</td>\n",
       "      <td>b'Abundance'</td>\n",
       "      <td>1.28</td>\n",
       "      <td>b'cel/ml'</td>\n",
       "    </tr>\n",
       "    <tr>\n",
       "      <th>4</th>\n",
       "      <td>2002-04-22</td>\n",
       "      <td>b'E-BI10'</td>\n",
       "      <td>b'E-BI10_20020422'</td>\n",
       "      <td>b'MaterialSample'</td>\n",
       "      <td>0.0</td>\n",
       "      <td>0.5</td>\n",
       "      <td>b'Navicula'</td>\n",
       "      <td>149142.0</td>\n",
       "      <td>b'125 ml'</td>\n",
       "      <td>b'Abundance'</td>\n",
       "      <td>94.00</td>\n",
       "      <td>b'cel/ml'</td>\n",
       "    </tr>\n",
       "  </tbody>\n",
       "</table>\n",
       "</div>"
      ],
      "text/plain": [
       "  https://senscience.ai/frontiers/borja/PHYTOPLANKTON.csv/datecollected  \\\n",
       "0                                         2002-04-22                      \n",
       "1                                         2002-04-22                      \n",
       "2                                         2002-04-22                      \n",
       "3                                         2002-04-22                      \n",
       "4                                         2002-04-22                      \n",
       "\n",
       "  https://senscience.ai/frontiers/borja/PHYTOPLANKTON.csv/siteid  \\\n",
       "0                                          b'E-BI10'               \n",
       "1                                          b'E-BI10'               \n",
       "2                                          b'E-BI10'               \n",
       "3                                          b'E-BI10'               \n",
       "4                                          b'E-BI10'               \n",
       "\n",
       "  https://senscience.ai/frontiers/borja/PHYTOPLANKTON.csv/sampleid  \\\n",
       "0                                 b'E-BI10_20020422'                 \n",
       "1                                 b'E-BI10_20020422'                 \n",
       "2                                 b'E-BI10_20020422'                 \n",
       "3                                 b'E-BI10_20020422'                 \n",
       "4                                 b'E-BI10_20020422'                 \n",
       "\n",
       "  https://senscience.ai/frontiers/borja/PHYTOPLANKTON.csv/basisofrecord  \\\n",
       "0                                  b'MaterialSample'                      \n",
       "1                                  b'MaterialSample'                      \n",
       "2                                  b'MaterialSample'                      \n",
       "3                                  b'MaterialSample'                      \n",
       "4                                  b'MaterialSample'                      \n",
       "\n",
       "   https://senscience.ai/frontiers/borja/PHYTOPLANKTON.csv/minimumdepthinmeters  \\\n",
       "0                                                0.0                              \n",
       "1                                                0.0                              \n",
       "2                                                0.0                              \n",
       "3                                                0.0                              \n",
       "4                                                0.0                              \n",
       "\n",
       "   https://senscience.ai/frontiers/borja/PHYTOPLANKTON.csv/maximumdepthinmeters  \\\n",
       "0                                                0.5                              \n",
       "1                                                0.5                              \n",
       "2                                                0.5                              \n",
       "3                                                0.5                              \n",
       "4                                                0.5                              \n",
       "\n",
       "  https://senscience.ai/frontiers/borja/PHYTOPLANKTON.csv/taxaname  \\\n",
       "0                                     b'Cryptomonas'                 \n",
       "1                                    b'Eutreptiella'                 \n",
       "2                                b'Melosira varians'                 \n",
       "3                     b'Melosira\\xc2\\xa0nummuloides'                 \n",
       "4                                        b'Navicula'                 \n",
       "\n",
       "   https://senscience.ai/frontiers/borja/PHYTOPLANKTON.csv/taxanameid  \\\n",
       "0                                           106282.0                    \n",
       "1                                            17657.0                    \n",
       "2                                           149043.0                    \n",
       "3                                           149044.0                    \n",
       "4                                           149142.0                    \n",
       "\n",
       "  https://senscience.ai/frontiers/borja/PHYTOPLANKTON.csv/samplingeffort  \\\n",
       "0                                          b'125 ml'                       \n",
       "1                                          b'125 ml'                       \n",
       "2                                          b'125 ml'                       \n",
       "3                                          b'125 ml'                       \n",
       "4                                          b'125 ml'                       \n",
       "\n",
       "  https://senscience.ai/frontiers/borja/PHYTOPLANKTON.csv/parameter  \\\n",
       "0                                       b'Abundance'                  \n",
       "1                                       b'Abundance'                  \n",
       "2                                       b'Abundance'                  \n",
       "3                                       b'Abundance'                  \n",
       "4                                       b'Abundance'                  \n",
       "\n",
       "   https://senscience.ai/frontiers/borja/PHYTOPLANKTON.csv/parameter_value  \\\n",
       "0                                               4.20                         \n",
       "1                                             170.00                         \n",
       "2                                               0.24                         \n",
       "3                                               1.28                         \n",
       "4                                              94.00                         \n",
       "\n",
       "  https://senscience.ai/frontiers/borja/PHYTOPLANKTON.csv/parameter_standardunit  \n",
       "0                                          b'cel/ml'                              \n",
       "1                                          b'cel/ml'                              \n",
       "2                                          b'cel/ml'                              \n",
       "3                                          b'cel/ml'                              \n",
       "4                                          b'cel/ml'                              "
      ]
     },
     "metadata": {},
     "output_type": "display_data"
    },
    {
     "data": {
      "text/markdown": [
       "---"
      ],
      "text/plain": [
       "<IPython.core.display.Markdown object>"
      ]
     },
     "metadata": {},
     "output_type": "display_data"
    },
    {
     "data": {
      "text/markdown": [
       "#### https://senscience.ai/frontiers/borja/INVERTEBRATES.csv"
      ],
      "text/plain": [
       "<IPython.core.display.Markdown object>"
      ]
     },
     "metadata": {},
     "output_type": "display_data"
    },
    {
     "data": {
      "text/html": [
       "<div>\n",
       "<style scoped>\n",
       "    .dataframe tbody tr th:only-of-type {\n",
       "        vertical-align: middle;\n",
       "    }\n",
       "\n",
       "    .dataframe tbody tr th {\n",
       "        vertical-align: top;\n",
       "    }\n",
       "\n",
       "    .dataframe thead th {\n",
       "        text-align: right;\n",
       "    }\n",
       "</style>\n",
       "<table border=\"1\" class=\"dataframe\">\n",
       "  <thead>\n",
       "    <tr style=\"text-align: right;\">\n",
       "      <th></th>\n",
       "      <th>https://senscience.ai/frontiers/borja/INVERTEBRATES.csv/datecollected</th>\n",
       "      <th>https://senscience.ai/frontiers/borja/INVERTEBRATES.csv/siteid</th>\n",
       "      <th>https://senscience.ai/frontiers/borja/INVERTEBRATES.csv/sampleid</th>\n",
       "      <th>https://senscience.ai/frontiers/borja/INVERTEBRATES.csv/basisofrecord</th>\n",
       "      <th>https://senscience.ai/frontiers/borja/INVERTEBRATES.csv/minimumdepthinmeters</th>\n",
       "      <th>https://senscience.ai/frontiers/borja/INVERTEBRATES.csv/maximumdepthinmeters</th>\n",
       "      <th>https://senscience.ai/frontiers/borja/INVERTEBRATES.csv/taxaname</th>\n",
       "      <th>https://senscience.ai/frontiers/borja/INVERTEBRATES.csv/taxanameid</th>\n",
       "      <th>https://senscience.ai/frontiers/borja/INVERTEBRATES.csv/samplingeffort</th>\n",
       "      <th>https://senscience.ai/frontiers/borja/INVERTEBRATES.csv/parameter</th>\n",
       "      <th>https://senscience.ai/frontiers/borja/INVERTEBRATES.csv/parameter_value</th>\n",
       "      <th>https://senscience.ai/frontiers/borja/INVERTEBRATES.csv/parameter_standardunit</th>\n",
       "    </tr>\n",
       "  </thead>\n",
       "  <tbody>\n",
       "    <tr>\n",
       "      <th>0</th>\n",
       "      <td>2010-01-20</td>\n",
       "      <td>b'E-A5'</td>\n",
       "      <td>b'E-A5_20100120'</td>\n",
       "      <td>b'MaterialSample'</td>\n",
       "      <td>b'Intertidal'</td>\n",
       "      <td>b'Intertidal'</td>\n",
       "      <td>b'Potamopyrgus antipodarum'</td>\n",
       "      <td>147123.0</td>\n",
       "      <td>b'0.25 m2 * 3'</td>\n",
       "      <td>b'Abundance'</td>\n",
       "      <td>5.33</td>\n",
       "      <td>b'Ind/m2'</td>\n",
       "    </tr>\n",
       "    <tr>\n",
       "      <th>1</th>\n",
       "      <td>2013-01-30</td>\n",
       "      <td>b'E-A5'</td>\n",
       "      <td>b'E-A5_20130130'</td>\n",
       "      <td>b'MaterialSample'</td>\n",
       "      <td>b'Intertidal'</td>\n",
       "      <td>b'Intertidal'</td>\n",
       "      <td>b'Trematoda'</td>\n",
       "      <td>19948.0</td>\n",
       "      <td>b'0.25 m2 * 3'</td>\n",
       "      <td>b'Abundance'</td>\n",
       "      <td>1.33</td>\n",
       "      <td>b'Ind/m2'</td>\n",
       "    </tr>\n",
       "    <tr>\n",
       "      <th>2</th>\n",
       "      <td>2016-01-26</td>\n",
       "      <td>b'E-A5'</td>\n",
       "      <td>b'E-A5_20160126'</td>\n",
       "      <td>b'MaterialSample'</td>\n",
       "      <td>b'Intertidal'</td>\n",
       "      <td>b'Intertidal'</td>\n",
       "      <td>b'NEMERTEA'</td>\n",
       "      <td>152391.0</td>\n",
       "      <td>b'0.25 m2 * 3'</td>\n",
       "      <td>b'Abundance'</td>\n",
       "      <td>1.00</td>\n",
       "      <td>b'Ind/m2'</td>\n",
       "    </tr>\n",
       "    <tr>\n",
       "      <th>3</th>\n",
       "      <td>2019-01-21</td>\n",
       "      <td>b'E-A5'</td>\n",
       "      <td>b'E-A5_20190121'</td>\n",
       "      <td>b'MaterialSample'</td>\n",
       "      <td>b'Intertidal'</td>\n",
       "      <td>b'Intertidal'</td>\n",
       "      <td>b'NEMERTEA'</td>\n",
       "      <td>152391.0</td>\n",
       "      <td>b'0.25 m2 * 3'</td>\n",
       "      <td>b'Abundance'</td>\n",
       "      <td>3.00</td>\n",
       "      <td>b'Ind/m2'</td>\n",
       "    </tr>\n",
       "    <tr>\n",
       "      <th>4</th>\n",
       "      <td>2021-03-15</td>\n",
       "      <td>b'E-A5'</td>\n",
       "      <td>b'E-A5_20210315'</td>\n",
       "      <td>b'MaterialSample'</td>\n",
       "      <td>b'Intertidal'</td>\n",
       "      <td>b'Intertidal'</td>\n",
       "      <td>b'NEMERTEA'</td>\n",
       "      <td>152391.0</td>\n",
       "      <td>b'0.25 m2 * 3'</td>\n",
       "      <td>b'Abundance'</td>\n",
       "      <td>1.00</td>\n",
       "      <td>b'Ind/m2'</td>\n",
       "    </tr>\n",
       "  </tbody>\n",
       "</table>\n",
       "</div>"
      ],
      "text/plain": [
       "  https://senscience.ai/frontiers/borja/INVERTEBRATES.csv/datecollected  \\\n",
       "0                                         2010-01-20                      \n",
       "1                                         2013-01-30                      \n",
       "2                                         2016-01-26                      \n",
       "3                                         2019-01-21                      \n",
       "4                                         2021-03-15                      \n",
       "\n",
       "  https://senscience.ai/frontiers/borja/INVERTEBRATES.csv/siteid  \\\n",
       "0                                            b'E-A5'               \n",
       "1                                            b'E-A5'               \n",
       "2                                            b'E-A5'               \n",
       "3                                            b'E-A5'               \n",
       "4                                            b'E-A5'               \n",
       "\n",
       "  https://senscience.ai/frontiers/borja/INVERTEBRATES.csv/sampleid  \\\n",
       "0                                   b'E-A5_20100120'                 \n",
       "1                                   b'E-A5_20130130'                 \n",
       "2                                   b'E-A5_20160126'                 \n",
       "3                                   b'E-A5_20190121'                 \n",
       "4                                   b'E-A5_20210315'                 \n",
       "\n",
       "  https://senscience.ai/frontiers/borja/INVERTEBRATES.csv/basisofrecord  \\\n",
       "0                                  b'MaterialSample'                      \n",
       "1                                  b'MaterialSample'                      \n",
       "2                                  b'MaterialSample'                      \n",
       "3                                  b'MaterialSample'                      \n",
       "4                                  b'MaterialSample'                      \n",
       "\n",
       "  https://senscience.ai/frontiers/borja/INVERTEBRATES.csv/minimumdepthinmeters  \\\n",
       "0                                      b'Intertidal'                             \n",
       "1                                      b'Intertidal'                             \n",
       "2                                      b'Intertidal'                             \n",
       "3                                      b'Intertidal'                             \n",
       "4                                      b'Intertidal'                             \n",
       "\n",
       "  https://senscience.ai/frontiers/borja/INVERTEBRATES.csv/maximumdepthinmeters  \\\n",
       "0                                      b'Intertidal'                             \n",
       "1                                      b'Intertidal'                             \n",
       "2                                      b'Intertidal'                             \n",
       "3                                      b'Intertidal'                             \n",
       "4                                      b'Intertidal'                             \n",
       "\n",
       "  https://senscience.ai/frontiers/borja/INVERTEBRATES.csv/taxaname  \\\n",
       "0                        b'Potamopyrgus antipodarum'                 \n",
       "1                                       b'Trematoda'                 \n",
       "2                                        b'NEMERTEA'                 \n",
       "3                                        b'NEMERTEA'                 \n",
       "4                                        b'NEMERTEA'                 \n",
       "\n",
       "   https://senscience.ai/frontiers/borja/INVERTEBRATES.csv/taxanameid  \\\n",
       "0                                           147123.0                    \n",
       "1                                            19948.0                    \n",
       "2                                           152391.0                    \n",
       "3                                           152391.0                    \n",
       "4                                           152391.0                    \n",
       "\n",
       "  https://senscience.ai/frontiers/borja/INVERTEBRATES.csv/samplingeffort  \\\n",
       "0                                     b'0.25 m2 * 3'                       \n",
       "1                                     b'0.25 m2 * 3'                       \n",
       "2                                     b'0.25 m2 * 3'                       \n",
       "3                                     b'0.25 m2 * 3'                       \n",
       "4                                     b'0.25 m2 * 3'                       \n",
       "\n",
       "  https://senscience.ai/frontiers/borja/INVERTEBRATES.csv/parameter  \\\n",
       "0                                       b'Abundance'                  \n",
       "1                                       b'Abundance'                  \n",
       "2                                       b'Abundance'                  \n",
       "3                                       b'Abundance'                  \n",
       "4                                       b'Abundance'                  \n",
       "\n",
       "   https://senscience.ai/frontiers/borja/INVERTEBRATES.csv/parameter_value  \\\n",
       "0                                               5.33                         \n",
       "1                                               1.33                         \n",
       "2                                               1.00                         \n",
       "3                                               3.00                         \n",
       "4                                               1.00                         \n",
       "\n",
       "  https://senscience.ai/frontiers/borja/INVERTEBRATES.csv/parameter_standardunit  \n",
       "0                                          b'Ind/m2'                              \n",
       "1                                          b'Ind/m2'                              \n",
       "2                                          b'Ind/m2'                              \n",
       "3                                          b'Ind/m2'                              \n",
       "4                                          b'Ind/m2'                              "
      ]
     },
     "metadata": {},
     "output_type": "display_data"
    },
    {
     "data": {
      "text/markdown": [
       "---"
      ],
      "text/plain": [
       "<IPython.core.display.Markdown object>"
      ]
     },
     "metadata": {},
     "output_type": "display_data"
    },
    {
     "data": {
      "text/markdown": [
       "#### https://senscience.ai/frontiers/borja/MACROALGAE.csv"
      ],
      "text/plain": [
       "<IPython.core.display.Markdown object>"
      ]
     },
     "metadata": {},
     "output_type": "display_data"
    },
    {
     "data": {
      "text/html": [
       "<div>\n",
       "<style scoped>\n",
       "    .dataframe tbody tr th:only-of-type {\n",
       "        vertical-align: middle;\n",
       "    }\n",
       "\n",
       "    .dataframe tbody tr th {\n",
       "        vertical-align: top;\n",
       "    }\n",
       "\n",
       "    .dataframe thead th {\n",
       "        text-align: right;\n",
       "    }\n",
       "</style>\n",
       "<table border=\"1\" class=\"dataframe\">\n",
       "  <thead>\n",
       "    <tr style=\"text-align: right;\">\n",
       "      <th></th>\n",
       "      <th>https://senscience.ai/frontiers/borja/MACROALGAE.csv/datecollected</th>\n",
       "      <th>https://senscience.ai/frontiers/borja/MACROALGAE.csv/siteid</th>\n",
       "      <th>https://senscience.ai/frontiers/borja/MACROALGAE.csv/sampleid</th>\n",
       "      <th>https://senscience.ai/frontiers/borja/MACROALGAE.csv/basisofrecord</th>\n",
       "      <th>https://senscience.ai/frontiers/borja/MACROALGAE.csv/minimumdepthinmeters</th>\n",
       "      <th>https://senscience.ai/frontiers/borja/MACROALGAE.csv/maximumdepthinmeters</th>\n",
       "      <th>https://senscience.ai/frontiers/borja/MACROALGAE.csv/taxaname</th>\n",
       "      <th>https://senscience.ai/frontiers/borja/MACROALGAE.csv/taxanameid</th>\n",
       "      <th>https://senscience.ai/frontiers/borja/MACROALGAE.csv/samplingeffort</th>\n",
       "      <th>https://senscience.ai/frontiers/borja/MACROALGAE.csv/parameter</th>\n",
       "      <th>https://senscience.ai/frontiers/borja/MACROALGAE.csv/parameter_value</th>\n",
       "      <th>https://senscience.ai/frontiers/borja/MACROALGAE.csv/parameter_standardunit</th>\n",
       "    </tr>\n",
       "  </thead>\n",
       "  <tbody>\n",
       "    <tr>\n",
       "      <th>0</th>\n",
       "      <td>2002-05-22</td>\n",
       "      <td>b'M-EA1'</td>\n",
       "      <td>b'M-EA1_20020522'</td>\n",
       "      <td>b'HumanObservation'</td>\n",
       "      <td>b'Intertidal'</td>\n",
       "      <td>b'Intertidal'</td>\n",
       "      <td>b'Enteromorpha sp.'</td>\n",
       "      <td>144294.0</td>\n",
       "      <td>b'0.25 m2'</td>\n",
       "      <td>b'Coverage'</td>\n",
       "      <td>37.5</td>\n",
       "      <td>b'%'</td>\n",
       "    </tr>\n",
       "    <tr>\n",
       "      <th>1</th>\n",
       "      <td>2005-06-06</td>\n",
       "      <td>b'M-EA1'</td>\n",
       "      <td>b'M-EA1_20050606'</td>\n",
       "      <td>b'HumanObservation'</td>\n",
       "      <td>b'Intertidal'</td>\n",
       "      <td>b'Intertidal'</td>\n",
       "      <td>b'Enteromorpha sp.'</td>\n",
       "      <td>144294.0</td>\n",
       "      <td>b'0.25 m2'</td>\n",
       "      <td>b'Coverage'</td>\n",
       "      <td>87.5</td>\n",
       "      <td>b'%'</td>\n",
       "    </tr>\n",
       "    <tr>\n",
       "      <th>2</th>\n",
       "      <td>2008-06-03</td>\n",
       "      <td>b'M-EA1'</td>\n",
       "      <td>b'M-EA1_20080603'</td>\n",
       "      <td>b'HumanObservation'</td>\n",
       "      <td>b'Intertidal'</td>\n",
       "      <td>b'Intertidal'</td>\n",
       "      <td>b'Enteromorpha sp.'</td>\n",
       "      <td>144294.0</td>\n",
       "      <td>b'0.25 m2'</td>\n",
       "      <td>b'Coverage'</td>\n",
       "      <td>87.5</td>\n",
       "      <td>b'%'</td>\n",
       "    </tr>\n",
       "    <tr>\n",
       "      <th>3</th>\n",
       "      <td>2011-05-05</td>\n",
       "      <td>b'M-EA1'</td>\n",
       "      <td>b'M-EA1_20110505'</td>\n",
       "      <td>b'HumanObservation'</td>\n",
       "      <td>b'Intertidal'</td>\n",
       "      <td>b'Intertidal'</td>\n",
       "      <td>b'Enteromorpha sp.'</td>\n",
       "      <td>144294.0</td>\n",
       "      <td>b'0.25 m2'</td>\n",
       "      <td>b'Coverage'</td>\n",
       "      <td>87.5</td>\n",
       "      <td>b'%'</td>\n",
       "    </tr>\n",
       "    <tr>\n",
       "      <th>4</th>\n",
       "      <td>2014-05-14</td>\n",
       "      <td>b'M-EA1'</td>\n",
       "      <td>b'M-EA1_20140514'</td>\n",
       "      <td>b'HumanObservation'</td>\n",
       "      <td>b'Intertidal'</td>\n",
       "      <td>b'Intertidal'</td>\n",
       "      <td>b'Enteromorpha sp.'</td>\n",
       "      <td>144294.0</td>\n",
       "      <td>b'0.25 m2'</td>\n",
       "      <td>b'Coverage'</td>\n",
       "      <td>87.5</td>\n",
       "      <td>b'%'</td>\n",
       "    </tr>\n",
       "  </tbody>\n",
       "</table>\n",
       "</div>"
      ],
      "text/plain": [
       "  https://senscience.ai/frontiers/borja/MACROALGAE.csv/datecollected  \\\n",
       "0                                         2002-05-22                   \n",
       "1                                         2005-06-06                   \n",
       "2                                         2008-06-03                   \n",
       "3                                         2011-05-05                   \n",
       "4                                         2014-05-14                   \n",
       "\n",
       "  https://senscience.ai/frontiers/borja/MACROALGAE.csv/siteid  \\\n",
       "0                                           b'M-EA1'            \n",
       "1                                           b'M-EA1'            \n",
       "2                                           b'M-EA1'            \n",
       "3                                           b'M-EA1'            \n",
       "4                                           b'M-EA1'            \n",
       "\n",
       "  https://senscience.ai/frontiers/borja/MACROALGAE.csv/sampleid  \\\n",
       "0                                  b'M-EA1_20020522'              \n",
       "1                                  b'M-EA1_20050606'              \n",
       "2                                  b'M-EA1_20080603'              \n",
       "3                                  b'M-EA1_20110505'              \n",
       "4                                  b'M-EA1_20140514'              \n",
       "\n",
       "  https://senscience.ai/frontiers/borja/MACROALGAE.csv/basisofrecord  \\\n",
       "0                                b'HumanObservation'                   \n",
       "1                                b'HumanObservation'                   \n",
       "2                                b'HumanObservation'                   \n",
       "3                                b'HumanObservation'                   \n",
       "4                                b'HumanObservation'                   \n",
       "\n",
       "  https://senscience.ai/frontiers/borja/MACROALGAE.csv/minimumdepthinmeters  \\\n",
       "0                                      b'Intertidal'                          \n",
       "1                                      b'Intertidal'                          \n",
       "2                                      b'Intertidal'                          \n",
       "3                                      b'Intertidal'                          \n",
       "4                                      b'Intertidal'                          \n",
       "\n",
       "  https://senscience.ai/frontiers/borja/MACROALGAE.csv/maximumdepthinmeters  \\\n",
       "0                                      b'Intertidal'                          \n",
       "1                                      b'Intertidal'                          \n",
       "2                                      b'Intertidal'                          \n",
       "3                                      b'Intertidal'                          \n",
       "4                                      b'Intertidal'                          \n",
       "\n",
       "  https://senscience.ai/frontiers/borja/MACROALGAE.csv/taxaname  \\\n",
       "0                                b'Enteromorpha sp.'              \n",
       "1                                b'Enteromorpha sp.'              \n",
       "2                                b'Enteromorpha sp.'              \n",
       "3                                b'Enteromorpha sp.'              \n",
       "4                                b'Enteromorpha sp.'              \n",
       "\n",
       "   https://senscience.ai/frontiers/borja/MACROALGAE.csv/taxanameid  \\\n",
       "0                                           144294.0                 \n",
       "1                                           144294.0                 \n",
       "2                                           144294.0                 \n",
       "3                                           144294.0                 \n",
       "4                                           144294.0                 \n",
       "\n",
       "  https://senscience.ai/frontiers/borja/MACROALGAE.csv/samplingeffort  \\\n",
       "0                                         b'0.25 m2'                    \n",
       "1                                         b'0.25 m2'                    \n",
       "2                                         b'0.25 m2'                    \n",
       "3                                         b'0.25 m2'                    \n",
       "4                                         b'0.25 m2'                    \n",
       "\n",
       "  https://senscience.ai/frontiers/borja/MACROALGAE.csv/parameter  \\\n",
       "0                                        b'Coverage'               \n",
       "1                                        b'Coverage'               \n",
       "2                                        b'Coverage'               \n",
       "3                                        b'Coverage'               \n",
       "4                                        b'Coverage'               \n",
       "\n",
       "   https://senscience.ai/frontiers/borja/MACROALGAE.csv/parameter_value  \\\n",
       "0                                               37.5                      \n",
       "1                                               87.5                      \n",
       "2                                               87.5                      \n",
       "3                                               87.5                      \n",
       "4                                               87.5                      \n",
       "\n",
       "  https://senscience.ai/frontiers/borja/MACROALGAE.csv/parameter_standardunit  \n",
       "0                                               b'%'                           \n",
       "1                                               b'%'                           \n",
       "2                                               b'%'                           \n",
       "3                                               b'%'                           \n",
       "4                                               b'%'                           "
      ]
     },
     "metadata": {},
     "output_type": "display_data"
    },
    {
     "data": {
      "text/markdown": [
       "---"
      ],
      "text/plain": [
       "<IPython.core.display.Markdown object>"
      ]
     },
     "metadata": {},
     "output_type": "display_data"
    },
    {
     "data": {
      "text/markdown": [
       "#### https://senscience.ai/frontiers/borja/FISH.csv"
      ],
      "text/plain": [
       "<IPython.core.display.Markdown object>"
      ]
     },
     "metadata": {},
     "output_type": "display_data"
    },
    {
     "data": {
      "text/html": [
       "<div>\n",
       "<style scoped>\n",
       "    .dataframe tbody tr th:only-of-type {\n",
       "        vertical-align: middle;\n",
       "    }\n",
       "\n",
       "    .dataframe tbody tr th {\n",
       "        vertical-align: top;\n",
       "    }\n",
       "\n",
       "    .dataframe thead th {\n",
       "        text-align: right;\n",
       "    }\n",
       "</style>\n",
       "<table border=\"1\" class=\"dataframe\">\n",
       "  <thead>\n",
       "    <tr style=\"text-align: right;\">\n",
       "      <th></th>\n",
       "      <th>https://senscience.ai/frontiers/borja/FISH.csv/datecollected</th>\n",
       "      <th>https://senscience.ai/frontiers/borja/FISH.csv/siteid</th>\n",
       "      <th>https://senscience.ai/frontiers/borja/FISH.csv/sampleid</th>\n",
       "      <th>https://senscience.ai/frontiers/borja/FISH.csv/basisofrecord</th>\n",
       "      <th>https://senscience.ai/frontiers/borja/FISH.csv/minimumdepthinmeters</th>\n",
       "      <th>https://senscience.ai/frontiers/borja/FISH.csv/maximumdepthinmeters</th>\n",
       "      <th>https://senscience.ai/frontiers/borja/FISH.csv/taxaname</th>\n",
       "      <th>https://senscience.ai/frontiers/borja/FISH.csv/taxanameid</th>\n",
       "      <th>https://senscience.ai/frontiers/borja/FISH.csv/samplingeffort</th>\n",
       "      <th>https://senscience.ai/frontiers/borja/FISH.csv/parameter</th>\n",
       "      <th>https://senscience.ai/frontiers/borja/FISH.csv/parameter_value</th>\n",
       "      <th>https://senscience.ai/frontiers/borja/FISH.csv/parameter_standardunit</th>\n",
       "    </tr>\n",
       "  </thead>\n",
       "  <tbody>\n",
       "    <tr>\n",
       "      <th>0</th>\n",
       "      <td>2008-09-26</td>\n",
       "      <td>b'AAE'</td>\n",
       "      <td>b'AAE_20080926'</td>\n",
       "      <td>b'HumanObservation'</td>\n",
       "      <td>0.0</td>\n",
       "      <td>4.0</td>\n",
       "      <td>b'Palaemon sp.'</td>\n",
       "      <td>107032.0</td>\n",
       "      <td>b'Three hauls, 1.5 m wide beam trawl, net of 1...</td>\n",
       "      <td>b'Abundance'</td>\n",
       "      <td>1.0</td>\n",
       "      <td>b'ind'</td>\n",
       "    </tr>\n",
       "    <tr>\n",
       "      <th>1</th>\n",
       "      <td>2017-10-11</td>\n",
       "      <td>b'AAE'</td>\n",
       "      <td>b'AAE_20171011'</td>\n",
       "      <td>b'HumanObservation'</td>\n",
       "      <td>0.0</td>\n",
       "      <td>4.0</td>\n",
       "      <td>b'Palaemon sp.'</td>\n",
       "      <td>107032.0</td>\n",
       "      <td>b'Three hauls, 1.5 m wide beam trawl, net of 1...</td>\n",
       "      <td>b'Abundance'</td>\n",
       "      <td>2.0</td>\n",
       "      <td>b'Ind'</td>\n",
       "    </tr>\n",
       "    <tr>\n",
       "      <th>2</th>\n",
       "      <td>2020-10-08</td>\n",
       "      <td>b'AAE'</td>\n",
       "      <td>b'AAE_20201008'</td>\n",
       "      <td>b'HumanObservation'</td>\n",
       "      <td>0.0</td>\n",
       "      <td>4.0</td>\n",
       "      <td>b'Palaemon sp.'</td>\n",
       "      <td>107032.0</td>\n",
       "      <td>b'Three hauls, 1.5 m wide beam trawl, net of 1...</td>\n",
       "      <td>b'Abundance'</td>\n",
       "      <td>3.0</td>\n",
       "      <td>b'Ind'</td>\n",
       "    </tr>\n",
       "    <tr>\n",
       "      <th>3</th>\n",
       "      <td>2002-09-19</td>\n",
       "      <td>b'AAE'</td>\n",
       "      <td>b'AAE_20020919'</td>\n",
       "      <td>b'HumanObservation'</td>\n",
       "      <td>0.0</td>\n",
       "      <td>4.0</td>\n",
       "      <td>b'Crangon crangon'</td>\n",
       "      <td>107552.0</td>\n",
       "      <td>b'Three hauls, 1.5 m wide beam trawl, net of 1...</td>\n",
       "      <td>b'Abundance'</td>\n",
       "      <td>2.0</td>\n",
       "      <td>b'ind'</td>\n",
       "    </tr>\n",
       "    <tr>\n",
       "      <th>4</th>\n",
       "      <td>2017-10-11</td>\n",
       "      <td>b'AAE'</td>\n",
       "      <td>b'AAE_20171011'</td>\n",
       "      <td>b'HumanObservation'</td>\n",
       "      <td>0.0</td>\n",
       "      <td>4.0</td>\n",
       "      <td>b'Crangon crangon'</td>\n",
       "      <td>107552.0</td>\n",
       "      <td>b'Three hauls, 1.5 m wide beam trawl, net of 1...</td>\n",
       "      <td>b'Abundance'</td>\n",
       "      <td>4.0</td>\n",
       "      <td>b'Ind'</td>\n",
       "    </tr>\n",
       "  </tbody>\n",
       "</table>\n",
       "</div>"
      ],
      "text/plain": [
       "  https://senscience.ai/frontiers/borja/FISH.csv/datecollected  \\\n",
       "0                                         2008-09-26             \n",
       "1                                         2017-10-11             \n",
       "2                                         2020-10-08             \n",
       "3                                         2002-09-19             \n",
       "4                                         2017-10-11             \n",
       "\n",
       "  https://senscience.ai/frontiers/borja/FISH.csv/siteid  \\\n",
       "0                                             b'AAE'      \n",
       "1                                             b'AAE'      \n",
       "2                                             b'AAE'      \n",
       "3                                             b'AAE'      \n",
       "4                                             b'AAE'      \n",
       "\n",
       "  https://senscience.ai/frontiers/borja/FISH.csv/sampleid  \\\n",
       "0                                    b'AAE_20080926'        \n",
       "1                                    b'AAE_20171011'        \n",
       "2                                    b'AAE_20201008'        \n",
       "3                                    b'AAE_20020919'        \n",
       "4                                    b'AAE_20171011'        \n",
       "\n",
       "  https://senscience.ai/frontiers/borja/FISH.csv/basisofrecord  \\\n",
       "0                                b'HumanObservation'             \n",
       "1                                b'HumanObservation'             \n",
       "2                                b'HumanObservation'             \n",
       "3                                b'HumanObservation'             \n",
       "4                                b'HumanObservation'             \n",
       "\n",
       "   https://senscience.ai/frontiers/borja/FISH.csv/minimumdepthinmeters  \\\n",
       "0                                                0.0                     \n",
       "1                                                0.0                     \n",
       "2                                                0.0                     \n",
       "3                                                0.0                     \n",
       "4                                                0.0                     \n",
       "\n",
       "   https://senscience.ai/frontiers/borja/FISH.csv/maximumdepthinmeters  \\\n",
       "0                                                4.0                     \n",
       "1                                                4.0                     \n",
       "2                                                4.0                     \n",
       "3                                                4.0                     \n",
       "4                                                4.0                     \n",
       "\n",
       "  https://senscience.ai/frontiers/borja/FISH.csv/taxaname  \\\n",
       "0                                    b'Palaemon sp.'        \n",
       "1                                    b'Palaemon sp.'        \n",
       "2                                    b'Palaemon sp.'        \n",
       "3                                 b'Crangon crangon'        \n",
       "4                                 b'Crangon crangon'        \n",
       "\n",
       "   https://senscience.ai/frontiers/borja/FISH.csv/taxanameid  \\\n",
       "0                                           107032.0           \n",
       "1                                           107032.0           \n",
       "2                                           107032.0           \n",
       "3                                           107552.0           \n",
       "4                                           107552.0           \n",
       "\n",
       "  https://senscience.ai/frontiers/borja/FISH.csv/samplingeffort  \\\n",
       "0  b'Three hauls, 1.5 m wide beam trawl, net of 1...              \n",
       "1  b'Three hauls, 1.5 m wide beam trawl, net of 1...              \n",
       "2  b'Three hauls, 1.5 m wide beam trawl, net of 1...              \n",
       "3  b'Three hauls, 1.5 m wide beam trawl, net of 1...              \n",
       "4  b'Three hauls, 1.5 m wide beam trawl, net of 1...              \n",
       "\n",
       "  https://senscience.ai/frontiers/borja/FISH.csv/parameter  \\\n",
       "0                                       b'Abundance'         \n",
       "1                                       b'Abundance'         \n",
       "2                                       b'Abundance'         \n",
       "3                                       b'Abundance'         \n",
       "4                                       b'Abundance'         \n",
       "\n",
       "   https://senscience.ai/frontiers/borja/FISH.csv/parameter_value  \\\n",
       "0                                                1.0                \n",
       "1                                                2.0                \n",
       "2                                                3.0                \n",
       "3                                                2.0                \n",
       "4                                                4.0                \n",
       "\n",
       "  https://senscience.ai/frontiers/borja/FISH.csv/parameter_standardunit  \n",
       "0                                             b'ind'                     \n",
       "1                                             b'Ind'                     \n",
       "2                                             b'Ind'                     \n",
       "3                                             b'ind'                     \n",
       "4                                             b'Ind'                     "
      ]
     },
     "metadata": {},
     "output_type": "display_data"
    },
    {
     "data": {
      "text/markdown": [
       "---"
      ],
      "text/plain": [
       "<IPython.core.display.Markdown object>"
      ]
     },
     "metadata": {},
     "output_type": "display_data"
    }
   ],
   "source": [
    "record_set_ids = [\n",
    "    'https://senscience.ai/frontiers/borja/PHYTOPLANKTON.csv',\n",
    "    'https://senscience.ai/frontiers/borja/INVERTEBRATES.csv',\n",
    "    'https://senscience.ai/frontiers/borja/MACROALGAE.csv',\n",
    "    'https://senscience.ai/frontiers/borja/FISH.csv'\n",
    "]\n",
    "\n",
    "dataframes = {\n",
    "    record_set_id: pd.DataFrame(list(dataset.records(record_set=record_set_id)))\n",
    "    for record_set_id in record_set_ids\n",
    "}\n",
    "\n",
    "for name, df in dataframes.items():\n",
    "    display(Markdown(f\"#### {name}\"))\n",
    "    display(df.head())\n",
    "    display(Markdown(\"---\"))"
   ]
  },
  {
   "cell_type": "markdown",
   "metadata": {},
   "source": [
    "## 4. Exploratory Data Analysis (EDA)"
   ]
  },
  {
   "cell_type": "markdown",
   "metadata": {},
   "source": [
    "### 4.1 Identify missing values"
   ]
  },
  {
   "cell_type": "code",
   "execution_count": 6,
   "metadata": {},
   "outputs": [
    {
     "data": {
      "text/markdown": [
       "#### https://senscience.ai/frontiers/borja/PHYTOPLANKTON.csv"
      ],
      "text/plain": [
       "<IPython.core.display.Markdown object>"
      ]
     },
     "metadata": {},
     "output_type": "display_data"
    },
    {
     "data": {
      "text/plain": [
       "'Has missing values: False'"
      ]
     },
     "metadata": {},
     "output_type": "display_data"
    },
    {
     "data": {
      "text/markdown": [
       "---"
      ],
      "text/plain": [
       "<IPython.core.display.Markdown object>"
      ]
     },
     "metadata": {},
     "output_type": "display_data"
    },
    {
     "data": {
      "text/markdown": [
       "#### https://senscience.ai/frontiers/borja/INVERTEBRATES.csv"
      ],
      "text/plain": [
       "<IPython.core.display.Markdown object>"
      ]
     },
     "metadata": {},
     "output_type": "display_data"
    },
    {
     "data": {
      "text/plain": [
       "'Has missing values: False'"
      ]
     },
     "metadata": {},
     "output_type": "display_data"
    },
    {
     "data": {
      "text/markdown": [
       "---"
      ],
      "text/plain": [
       "<IPython.core.display.Markdown object>"
      ]
     },
     "metadata": {},
     "output_type": "display_data"
    },
    {
     "data": {
      "text/markdown": [
       "#### https://senscience.ai/frontiers/borja/MACROALGAE.csv"
      ],
      "text/plain": [
       "<IPython.core.display.Markdown object>"
      ]
     },
     "metadata": {},
     "output_type": "display_data"
    },
    {
     "data": {
      "text/plain": [
       "'Has missing values: False'"
      ]
     },
     "metadata": {},
     "output_type": "display_data"
    },
    {
     "data": {
      "text/markdown": [
       "---"
      ],
      "text/plain": [
       "<IPython.core.display.Markdown object>"
      ]
     },
     "metadata": {},
     "output_type": "display_data"
    },
    {
     "data": {
      "text/markdown": [
       "#### https://senscience.ai/frontiers/borja/FISH.csv"
      ],
      "text/plain": [
       "<IPython.core.display.Markdown object>"
      ]
     },
     "metadata": {},
     "output_type": "display_data"
    },
    {
     "data": {
      "text/plain": [
       "'Has missing values: False'"
      ]
     },
     "metadata": {},
     "output_type": "display_data"
    },
    {
     "data": {
      "text/markdown": [
       "---"
      ],
      "text/plain": [
       "<IPython.core.display.Markdown object>"
      ]
     },
     "metadata": {},
     "output_type": "display_data"
    }
   ],
   "source": [
    "for name, df in dataframes.items():\n",
    "    display(Markdown(f\"#### {name}\"))\n",
    "    display(f\"Has missing values: {df.isnull().values.any()}\")\n",
    "    display(Markdown(\"---\"))"
   ]
  },
  {
   "cell_type": "markdown",
   "metadata": {},
   "source": [
    "The dataset does not require cleaning, as there are no missing values in the record sets."
   ]
  },
  {
   "cell_type": "markdown",
   "metadata": {},
   "source": [
    "### 4.2 Inspect the data"
   ]
  },
  {
   "cell_type": "code",
   "execution_count": 7,
   "metadata": {},
   "outputs": [
    {
     "data": {
      "text/markdown": [
       "#### https://senscience.ai/frontiers/borja/PHYTOPLANKTON.csv"
      ],
      "text/plain": [
       "<IPython.core.display.Markdown object>"
      ]
     },
     "metadata": {},
     "output_type": "display_data"
    },
    {
     "data": {
      "text/html": [
       "<div>\n",
       "<style scoped>\n",
       "    .dataframe tbody tr th:only-of-type {\n",
       "        vertical-align: middle;\n",
       "    }\n",
       "\n",
       "    .dataframe tbody tr th {\n",
       "        vertical-align: top;\n",
       "    }\n",
       "\n",
       "    .dataframe thead th {\n",
       "        text-align: right;\n",
       "    }\n",
       "</style>\n",
       "<table border=\"1\" class=\"dataframe\">\n",
       "  <thead>\n",
       "    <tr style=\"text-align: right;\">\n",
       "      <th></th>\n",
       "      <th>https://senscience.ai/frontiers/borja/PHYTOPLANKTON.csv/datecollected</th>\n",
       "      <th>https://senscience.ai/frontiers/borja/PHYTOPLANKTON.csv/minimumdepthinmeters</th>\n",
       "      <th>https://senscience.ai/frontiers/borja/PHYTOPLANKTON.csv/maximumdepthinmeters</th>\n",
       "      <th>https://senscience.ai/frontiers/borja/PHYTOPLANKTON.csv/taxanameid</th>\n",
       "      <th>https://senscience.ai/frontiers/borja/PHYTOPLANKTON.csv/parameter_value</th>\n",
       "    </tr>\n",
       "  </thead>\n",
       "  <tbody>\n",
       "    <tr>\n",
       "      <th>count</th>\n",
       "      <td>57945</td>\n",
       "      <td>57945.0</td>\n",
       "      <td>57945.0</td>\n",
       "      <td>5.794500e+04</td>\n",
       "      <td>57945.000000</td>\n",
       "    </tr>\n",
       "    <tr>\n",
       "      <th>mean</th>\n",
       "      <td>2014-02-19 21:53:45.368884224</td>\n",
       "      <td>0.0</td>\n",
       "      <td>0.5</td>\n",
       "      <td>2.838935e+05</td>\n",
       "      <td>94.080877</td>\n",
       "    </tr>\n",
       "    <tr>\n",
       "      <th>min</th>\n",
       "      <td>2002-04-22 00:00:00</td>\n",
       "      <td>0.0</td>\n",
       "      <td>0.5</td>\n",
       "      <td>8.010000e+02</td>\n",
       "      <td>0.001000</td>\n",
       "    </tr>\n",
       "    <tr>\n",
       "      <th>25%</th>\n",
       "      <td>2010-06-02 00:00:00</td>\n",
       "      <td>0.0</td>\n",
       "      <td>0.5</td>\n",
       "      <td>1.096030e+05</td>\n",
       "      <td>0.100000</td>\n",
       "    </tr>\n",
       "    <tr>\n",
       "      <th>50%</th>\n",
       "      <td>2014-10-27 00:00:00</td>\n",
       "      <td>0.0</td>\n",
       "      <td>0.5</td>\n",
       "      <td>1.490690e+05</td>\n",
       "      <td>2.124000</td>\n",
       "    </tr>\n",
       "    <tr>\n",
       "      <th>75%</th>\n",
       "      <td>2017-10-26 00:00:00</td>\n",
       "      <td>0.0</td>\n",
       "      <td>0.5</td>\n",
       "      <td>2.360930e+05</td>\n",
       "      <td>15.930000</td>\n",
       "    </tr>\n",
       "    <tr>\n",
       "      <th>max</th>\n",
       "      <td>2023-12-11 00:00:00</td>\n",
       "      <td>0.0</td>\n",
       "      <td>0.5</td>\n",
       "      <td>1.474876e+06</td>\n",
       "      <td>545159.455000</td>\n",
       "    </tr>\n",
       "    <tr>\n",
       "      <th>std</th>\n",
       "      <td>NaN</td>\n",
       "      <td>0.0</td>\n",
       "      <td>0.0</td>\n",
       "      <td>3.286302e+05</td>\n",
       "      <td>2617.335479</td>\n",
       "    </tr>\n",
       "  </tbody>\n",
       "</table>\n",
       "</div>"
      ],
      "text/plain": [
       "      https://senscience.ai/frontiers/borja/PHYTOPLANKTON.csv/datecollected  \\\n",
       "count                                              57945                      \n",
       "mean                       2014-02-19 21:53:45.368884224                      \n",
       "min                                  2002-04-22 00:00:00                      \n",
       "25%                                  2010-06-02 00:00:00                      \n",
       "50%                                  2014-10-27 00:00:00                      \n",
       "75%                                  2017-10-26 00:00:00                      \n",
       "max                                  2023-12-11 00:00:00                      \n",
       "std                                                  NaN                      \n",
       "\n",
       "       https://senscience.ai/frontiers/borja/PHYTOPLANKTON.csv/minimumdepthinmeters  \\\n",
       "count                                            57945.0                              \n",
       "mean                                                 0.0                              \n",
       "min                                                  0.0                              \n",
       "25%                                                  0.0                              \n",
       "50%                                                  0.0                              \n",
       "75%                                                  0.0                              \n",
       "max                                                  0.0                              \n",
       "std                                                  0.0                              \n",
       "\n",
       "       https://senscience.ai/frontiers/borja/PHYTOPLANKTON.csv/maximumdepthinmeters  \\\n",
       "count                                            57945.0                              \n",
       "mean                                                 0.5                              \n",
       "min                                                  0.5                              \n",
       "25%                                                  0.5                              \n",
       "50%                                                  0.5                              \n",
       "75%                                                  0.5                              \n",
       "max                                                  0.5                              \n",
       "std                                                  0.0                              \n",
       "\n",
       "       https://senscience.ai/frontiers/borja/PHYTOPLANKTON.csv/taxanameid  \\\n",
       "count                                       5.794500e+04                    \n",
       "mean                                        2.838935e+05                    \n",
       "min                                         8.010000e+02                    \n",
       "25%                                         1.096030e+05                    \n",
       "50%                                         1.490690e+05                    \n",
       "75%                                         2.360930e+05                    \n",
       "max                                         1.474876e+06                    \n",
       "std                                         3.286302e+05                    \n",
       "\n",
       "       https://senscience.ai/frontiers/borja/PHYTOPLANKTON.csv/parameter_value  \n",
       "count                                       57945.000000                        \n",
       "mean                                           94.080877                        \n",
       "min                                             0.001000                        \n",
       "25%                                             0.100000                        \n",
       "50%                                             2.124000                        \n",
       "75%                                            15.930000                        \n",
       "max                                        545159.455000                        \n",
       "std                                          2617.335479                        "
      ]
     },
     "metadata": {},
     "output_type": "display_data"
    },
    {
     "data": {
      "text/markdown": [
       "---"
      ],
      "text/plain": [
       "<IPython.core.display.Markdown object>"
      ]
     },
     "metadata": {},
     "output_type": "display_data"
    },
    {
     "data": {
      "text/markdown": [
       "#### https://senscience.ai/frontiers/borja/INVERTEBRATES.csv"
      ],
      "text/plain": [
       "<IPython.core.display.Markdown object>"
      ]
     },
     "metadata": {},
     "output_type": "display_data"
    },
    {
     "data": {
      "text/html": [
       "<div>\n",
       "<style scoped>\n",
       "    .dataframe tbody tr th:only-of-type {\n",
       "        vertical-align: middle;\n",
       "    }\n",
       "\n",
       "    .dataframe tbody tr th {\n",
       "        vertical-align: top;\n",
       "    }\n",
       "\n",
       "    .dataframe thead th {\n",
       "        text-align: right;\n",
       "    }\n",
       "</style>\n",
       "<table border=\"1\" class=\"dataframe\">\n",
       "  <thead>\n",
       "    <tr style=\"text-align: right;\">\n",
       "      <th></th>\n",
       "      <th>https://senscience.ai/frontiers/borja/INVERTEBRATES.csv/datecollected</th>\n",
       "      <th>https://senscience.ai/frontiers/borja/INVERTEBRATES.csv/taxanameid</th>\n",
       "      <th>https://senscience.ai/frontiers/borja/INVERTEBRATES.csv/parameter_value</th>\n",
       "    </tr>\n",
       "  </thead>\n",
       "  <tbody>\n",
       "    <tr>\n",
       "      <th>count</th>\n",
       "      <td>28041</td>\n",
       "      <td>2.804100e+04</td>\n",
       "      <td>28041.000000</td>\n",
       "    </tr>\n",
       "    <tr>\n",
       "      <th>mean</th>\n",
       "      <td>2011-10-15 05:07:27.159516416</td>\n",
       "      <td>1.871916e+05</td>\n",
       "      <td>62.125438</td>\n",
       "    </tr>\n",
       "    <tr>\n",
       "      <th>min</th>\n",
       "      <td>1995-02-20 00:00:00</td>\n",
       "      <td>5.500000e+01</td>\n",
       "      <td>0.000000</td>\n",
       "    </tr>\n",
       "    <tr>\n",
       "      <th>25%</th>\n",
       "      <td>2006-02-16 00:00:00</td>\n",
       "      <td>1.200170e+05</td>\n",
       "      <td>3.000000</td>\n",
       "    </tr>\n",
       "    <tr>\n",
       "      <th>50%</th>\n",
       "      <td>2013-01-30 00:00:00</td>\n",
       "      <td>1.304520e+05</td>\n",
       "      <td>7.000000</td>\n",
       "    </tr>\n",
       "    <tr>\n",
       "      <th>75%</th>\n",
       "      <td>2018-03-14 00:00:00</td>\n",
       "      <td>1.414330e+05</td>\n",
       "      <td>20.000000</td>\n",
       "    </tr>\n",
       "    <tr>\n",
       "      <th>max</th>\n",
       "      <td>2023-03-06 00:00:00</td>\n",
       "      <td>1.719172e+06</td>\n",
       "      <td>35484.750000</td>\n",
       "    </tr>\n",
       "    <tr>\n",
       "      <th>std</th>\n",
       "      <td>NaN</td>\n",
       "      <td>2.334717e+05</td>\n",
       "      <td>435.708404</td>\n",
       "    </tr>\n",
       "  </tbody>\n",
       "</table>\n",
       "</div>"
      ],
      "text/plain": [
       "      https://senscience.ai/frontiers/borja/INVERTEBRATES.csv/datecollected  \\\n",
       "count                                              28041                      \n",
       "mean                       2011-10-15 05:07:27.159516416                      \n",
       "min                                  1995-02-20 00:00:00                      \n",
       "25%                                  2006-02-16 00:00:00                      \n",
       "50%                                  2013-01-30 00:00:00                      \n",
       "75%                                  2018-03-14 00:00:00                      \n",
       "max                                  2023-03-06 00:00:00                      \n",
       "std                                                  NaN                      \n",
       "\n",
       "       https://senscience.ai/frontiers/borja/INVERTEBRATES.csv/taxanameid  \\\n",
       "count                                       2.804100e+04                    \n",
       "mean                                        1.871916e+05                    \n",
       "min                                         5.500000e+01                    \n",
       "25%                                         1.200170e+05                    \n",
       "50%                                         1.304520e+05                    \n",
       "75%                                         1.414330e+05                    \n",
       "max                                         1.719172e+06                    \n",
       "std                                         2.334717e+05                    \n",
       "\n",
       "       https://senscience.ai/frontiers/borja/INVERTEBRATES.csv/parameter_value  \n",
       "count                                       28041.000000                        \n",
       "mean                                           62.125438                        \n",
       "min                                             0.000000                        \n",
       "25%                                             3.000000                        \n",
       "50%                                             7.000000                        \n",
       "75%                                            20.000000                        \n",
       "max                                         35484.750000                        \n",
       "std                                           435.708404                        "
      ]
     },
     "metadata": {},
     "output_type": "display_data"
    },
    {
     "data": {
      "text/markdown": [
       "---"
      ],
      "text/plain": [
       "<IPython.core.display.Markdown object>"
      ]
     },
     "metadata": {},
     "output_type": "display_data"
    },
    {
     "data": {
      "text/markdown": [
       "#### https://senscience.ai/frontiers/borja/MACROALGAE.csv"
      ],
      "text/plain": [
       "<IPython.core.display.Markdown object>"
      ]
     },
     "metadata": {},
     "output_type": "display_data"
    },
    {
     "data": {
      "text/html": [
       "<div>\n",
       "<style scoped>\n",
       "    .dataframe tbody tr th:only-of-type {\n",
       "        vertical-align: middle;\n",
       "    }\n",
       "\n",
       "    .dataframe tbody tr th {\n",
       "        vertical-align: top;\n",
       "    }\n",
       "\n",
       "    .dataframe thead th {\n",
       "        text-align: right;\n",
       "    }\n",
       "</style>\n",
       "<table border=\"1\" class=\"dataframe\">\n",
       "  <thead>\n",
       "    <tr style=\"text-align: right;\">\n",
       "      <th></th>\n",
       "      <th>https://senscience.ai/frontiers/borja/MACROALGAE.csv/datecollected</th>\n",
       "      <th>https://senscience.ai/frontiers/borja/MACROALGAE.csv/taxanameid</th>\n",
       "      <th>https://senscience.ai/frontiers/borja/MACROALGAE.csv/parameter_value</th>\n",
       "    </tr>\n",
       "  </thead>\n",
       "  <tbody>\n",
       "    <tr>\n",
       "      <th>count</th>\n",
       "      <td>28373</td>\n",
       "      <td>2.837300e+04</td>\n",
       "      <td>28373.000000</td>\n",
       "    </tr>\n",
       "    <tr>\n",
       "      <th>mean</th>\n",
       "      <td>2014-06-30 19:47:57.792267264</td>\n",
       "      <td>2.045011e+05</td>\n",
       "      <td>18.516019</td>\n",
       "    </tr>\n",
       "    <tr>\n",
       "      <th>min</th>\n",
       "      <td>2002-04-15 00:00:00</td>\n",
       "      <td>2.150000e+02</td>\n",
       "      <td>0.100000</td>\n",
       "    </tr>\n",
       "    <tr>\n",
       "      <th>25%</th>\n",
       "      <td>2009-07-26 00:00:00</td>\n",
       "      <td>1.406850e+05</td>\n",
       "      <td>2.500000</td>\n",
       "    </tr>\n",
       "    <tr>\n",
       "      <th>50%</th>\n",
       "      <td>2015-05-18 00:00:00</td>\n",
       "      <td>1.451520e+05</td>\n",
       "      <td>2.500000</td>\n",
       "    </tr>\n",
       "    <tr>\n",
       "      <th>75%</th>\n",
       "      <td>2019-07-05 00:00:00</td>\n",
       "      <td>1.459500e+05</td>\n",
       "      <td>37.500000</td>\n",
       "    </tr>\n",
       "    <tr>\n",
       "      <th>max</th>\n",
       "      <td>2023-09-03 00:00:00</td>\n",
       "      <td>1.568393e+06</td>\n",
       "      <td>87.500000</td>\n",
       "    </tr>\n",
       "    <tr>\n",
       "      <th>std</th>\n",
       "      <td>NaN</td>\n",
       "      <td>2.013511e+05</td>\n",
       "      <td>24.589760</td>\n",
       "    </tr>\n",
       "  </tbody>\n",
       "</table>\n",
       "</div>"
      ],
      "text/plain": [
       "      https://senscience.ai/frontiers/borja/MACROALGAE.csv/datecollected  \\\n",
       "count                                              28373                   \n",
       "mean                       2014-06-30 19:47:57.792267264                   \n",
       "min                                  2002-04-15 00:00:00                   \n",
       "25%                                  2009-07-26 00:00:00                   \n",
       "50%                                  2015-05-18 00:00:00                   \n",
       "75%                                  2019-07-05 00:00:00                   \n",
       "max                                  2023-09-03 00:00:00                   \n",
       "std                                                  NaN                   \n",
       "\n",
       "       https://senscience.ai/frontiers/borja/MACROALGAE.csv/taxanameid  \\\n",
       "count                                       2.837300e+04                 \n",
       "mean                                        2.045011e+05                 \n",
       "min                                         2.150000e+02                 \n",
       "25%                                         1.406850e+05                 \n",
       "50%                                         1.451520e+05                 \n",
       "75%                                         1.459500e+05                 \n",
       "max                                         1.568393e+06                 \n",
       "std                                         2.013511e+05                 \n",
       "\n",
       "       https://senscience.ai/frontiers/borja/MACROALGAE.csv/parameter_value  \n",
       "count                                       28373.000000                     \n",
       "mean                                           18.516019                     \n",
       "min                                             0.100000                     \n",
       "25%                                             2.500000                     \n",
       "50%                                             2.500000                     \n",
       "75%                                            37.500000                     \n",
       "max                                            87.500000                     \n",
       "std                                            24.589760                     "
      ]
     },
     "metadata": {},
     "output_type": "display_data"
    },
    {
     "data": {
      "text/markdown": [
       "---"
      ],
      "text/plain": [
       "<IPython.core.display.Markdown object>"
      ]
     },
     "metadata": {},
     "output_type": "display_data"
    },
    {
     "data": {
      "text/markdown": [
       "#### https://senscience.ai/frontiers/borja/FISH.csv"
      ],
      "text/plain": [
       "<IPython.core.display.Markdown object>"
      ]
     },
     "metadata": {},
     "output_type": "display_data"
    },
    {
     "data": {
      "text/html": [
       "<div>\n",
       "<style scoped>\n",
       "    .dataframe tbody tr th:only-of-type {\n",
       "        vertical-align: middle;\n",
       "    }\n",
       "\n",
       "    .dataframe tbody tr th {\n",
       "        vertical-align: top;\n",
       "    }\n",
       "\n",
       "    .dataframe thead th {\n",
       "        text-align: right;\n",
       "    }\n",
       "</style>\n",
       "<table border=\"1\" class=\"dataframe\">\n",
       "  <thead>\n",
       "    <tr style=\"text-align: right;\">\n",
       "      <th></th>\n",
       "      <th>https://senscience.ai/frontiers/borja/FISH.csv/datecollected</th>\n",
       "      <th>https://senscience.ai/frontiers/borja/FISH.csv/minimumdepthinmeters</th>\n",
       "      <th>https://senscience.ai/frontiers/borja/FISH.csv/maximumdepthinmeters</th>\n",
       "      <th>https://senscience.ai/frontiers/borja/FISH.csv/taxanameid</th>\n",
       "      <th>https://senscience.ai/frontiers/borja/FISH.csv/parameter_value</th>\n",
       "    </tr>\n",
       "  </thead>\n",
       "  <tbody>\n",
       "    <tr>\n",
       "      <th>count</th>\n",
       "      <td>3629</td>\n",
       "      <td>3629.000000</td>\n",
       "      <td>3629.000000</td>\n",
       "      <td>3629.000000</td>\n",
       "      <td>3629.000000</td>\n",
       "    </tr>\n",
       "    <tr>\n",
       "      <th>mean</th>\n",
       "      <td>2010-02-21 13:36:37.299531520</td>\n",
       "      <td>0.984541</td>\n",
       "      <td>11.430642</td>\n",
       "      <td>125788.807661</td>\n",
       "      <td>21.364592</td>\n",
       "    </tr>\n",
       "    <tr>\n",
       "      <th>min</th>\n",
       "      <td>1989-10-04 00:00:00</td>\n",
       "      <td>0.000000</td>\n",
       "      <td>2.700000</td>\n",
       "      <td>2824.000000</td>\n",
       "      <td>1.000000</td>\n",
       "    </tr>\n",
       "    <tr>\n",
       "      <th>25%</th>\n",
       "      <td>2003-10-22 00:00:00</td>\n",
       "      <td>0.000000</td>\n",
       "      <td>4.000000</td>\n",
       "      <td>107398.000000</td>\n",
       "      <td>1.000000</td>\n",
       "    </tr>\n",
       "    <tr>\n",
       "      <th>50%</th>\n",
       "      <td>2010-05-10 00:00:00</td>\n",
       "      <td>0.000000</td>\n",
       "      <td>9.400000</td>\n",
       "      <td>125999.000000</td>\n",
       "      <td>3.000000</td>\n",
       "    </tr>\n",
       "    <tr>\n",
       "      <th>75%</th>\n",
       "      <td>2017-09-28 00:00:00</td>\n",
       "      <td>0.500000</td>\n",
       "      <td>12.000000</td>\n",
       "      <td>127055.000000</td>\n",
       "      <td>11.000000</td>\n",
       "    </tr>\n",
       "    <tr>\n",
       "      <th>max</th>\n",
       "      <td>2023-10-10 00:00:00</td>\n",
       "      <td>11.500000</td>\n",
       "      <td>34.500000</td>\n",
       "      <td>823881.000000</td>\n",
       "      <td>1845.000000</td>\n",
       "    </tr>\n",
       "    <tr>\n",
       "      <th>std</th>\n",
       "      <td>NaN</td>\n",
       "      <td>2.247286</td>\n",
       "      <td>10.484329</td>\n",
       "      <td>42356.862679</td>\n",
       "      <td>78.034340</td>\n",
       "    </tr>\n",
       "  </tbody>\n",
       "</table>\n",
       "</div>"
      ],
      "text/plain": [
       "      https://senscience.ai/frontiers/borja/FISH.csv/datecollected  \\\n",
       "count                                               3629             \n",
       "mean                       2010-02-21 13:36:37.299531520             \n",
       "min                                  1989-10-04 00:00:00             \n",
       "25%                                  2003-10-22 00:00:00             \n",
       "50%                                  2010-05-10 00:00:00             \n",
       "75%                                  2017-09-28 00:00:00             \n",
       "max                                  2023-10-10 00:00:00             \n",
       "std                                                  NaN             \n",
       "\n",
       "       https://senscience.ai/frontiers/borja/FISH.csv/minimumdepthinmeters  \\\n",
       "count                                        3629.000000                     \n",
       "mean                                            0.984541                     \n",
       "min                                             0.000000                     \n",
       "25%                                             0.000000                     \n",
       "50%                                             0.000000                     \n",
       "75%                                             0.500000                     \n",
       "max                                            11.500000                     \n",
       "std                                             2.247286                     \n",
       "\n",
       "       https://senscience.ai/frontiers/borja/FISH.csv/maximumdepthinmeters  \\\n",
       "count                                        3629.000000                     \n",
       "mean                                           11.430642                     \n",
       "min                                             2.700000                     \n",
       "25%                                             4.000000                     \n",
       "50%                                             9.400000                     \n",
       "75%                                            12.000000                     \n",
       "max                                            34.500000                     \n",
       "std                                            10.484329                     \n",
       "\n",
       "       https://senscience.ai/frontiers/borja/FISH.csv/taxanameid  \\\n",
       "count                                        3629.000000           \n",
       "mean                                       125788.807661           \n",
       "min                                          2824.000000           \n",
       "25%                                        107398.000000           \n",
       "50%                                        125999.000000           \n",
       "75%                                        127055.000000           \n",
       "max                                        823881.000000           \n",
       "std                                         42356.862679           \n",
       "\n",
       "       https://senscience.ai/frontiers/borja/FISH.csv/parameter_value  \n",
       "count                                        3629.000000               \n",
       "mean                                           21.364592               \n",
       "min                                             1.000000               \n",
       "25%                                             1.000000               \n",
       "50%                                             3.000000               \n",
       "75%                                            11.000000               \n",
       "max                                          1845.000000               \n",
       "std                                            78.034340               "
      ]
     },
     "metadata": {},
     "output_type": "display_data"
    },
    {
     "data": {
      "text/markdown": [
       "---"
      ],
      "text/plain": [
       "<IPython.core.display.Markdown object>"
      ]
     },
     "metadata": {},
     "output_type": "display_data"
    }
   ],
   "source": [
    "for name, df in dataframes.items():\n",
    "    display(Markdown(f\"#### {name}\"))\n",
    "    display(df.describe())\n",
    "    display(Markdown(\"---\"))"
   ]
  },
  {
   "cell_type": "markdown",
   "metadata": {},
   "source": [
    "### 4.3 Univariate Analysis"
   ]
  },
  {
   "cell_type": "code",
   "execution_count": 8,
   "metadata": {},
   "outputs": [
    {
     "data": {
      "text/plain": [
       "Text(0, 0.5, 'Average Parameter Value')"
      ]
     },
     "execution_count": 8,
     "metadata": {},
     "output_type": "execute_result"
    },
    {
     "data": {
      "image/png": "[encoded data removed]",
      "text/plain": [
       "<Figure size 640x480 with 1 Axes>"
      ]
     },
     "metadata": {},
     "output_type": "display_data"
    }
   ],
   "source": [
    "for name, df in dataframes.items():\n",
    "    datecollected_column = f\"{name}/datecollected\"\n",
    "    parameter_value_column = f\"{name}/parameter_value\"\n",
    "    sheet_name = name.split(\"/\")[-1]\n",
    "\n",
    "    df[\"yearcollected\"] = df[datecollected_column].dt.year\n",
    "    grouped = df.groupby(\"yearcollected\", as_index=False).mean(numeric_only=True)\n",
    "    plt.plot(grouped[\"yearcollected\"], grouped[parameter_value_column], marker=\".\", label=sheet_name)\n",
    "\n",
    "plt.grid(True)\n",
    "plt.legend(bbox_to_anchor=(1.0, 1.0))\n",
    "plt.xlabel(\"Year\")\n",
    "plt.ylabel(\"Average Parameter Value\")"
   ]
  },
  {
   "cell_type": "markdown",
   "metadata": {},
   "source": [
    "## 6. Conclusion\n",
    "Summarize key findings and observations from the dataset exploration."
   ]
  },
  {
   "cell_type": "markdown",
   "metadata": {},
   "source": [
    "In this notebook, we successfully loaded and explored a dataset using the `mlcroissant` library. We reviewed the available record sets and fields, extracted data into a DataFrame, and performed basic exploratory data analysis. Key findings include the distribution patterns of parameter values and insights into site-specific data groupings. This analysis provides a foundation for further in-depth research and data modeling."
   ]
  }
 ],
 "metadata": {
  "kernelspec": {
   "display_name": "Python 3 (ipykernel)",
   "language": "python",
   "name": "python3"
  },
  "language_info": {
   "codemirror_mode": {
    "name": "ipython",
    "version": 3
   },
   "file_extension": ".py",
   "mimetype": "text/x-python",
   "name": "python",
   "nbconvert_exporter": "python",
   "pygments_lexer": "ipython3",
   "version": "3.11.6"
  }
 },
 "nbformat": 4,
 "nbformat_minor": 4
}
