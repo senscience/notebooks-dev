{
 "cells": [
  {
   "cell_type": "markdown",
   "metadata": {},
   "source": [
    "# Macroalgae Distribution and Abundance in Intertidal Zones Exploration with `mlcroissant`\n",
    "This notebook provides a guide for loading and exploring a dataset using the `mlcroissant` library.\n",
    "\n",
    "### Dataset Source\n",
    "The dataset source is provided via a Croissant schema URL."
   ]
  },
  {
   "cell_type": "code",
   "execution_count": null,
   "metadata": {},
   "outputs": [],
   "source": [
    "# Ensure `mlcroissant` library is installed\n",
    "!pip install mlcroissant"
   ]
  },
  {
   "cell_type": "markdown",
   "metadata": {},
   "source": [
    "## 1. Data Loading\n",
    "Load metadata and records from the dataset using `mlcroissant`."
   ]
  },
  {
   "cell_type": "code",
   "execution_count": null,
   "metadata": {},
   "outputs": [],
   "source": [
    "import mlcroissant as mlc\n",
    "import pandas as pd\n",
    "\n",
    "# Define the dataset URL\n",
    "url = 'http://127.0.0.1:8000/api/portals/10.82843/b564-ax61/fair2.json'\n",
    "\n",
    "# Load the dataset metadata\n",
    "dataset = mlc.Dataset(url)\n",
    "metadata = dataset.metadata\n",
    "print(f\"{metadata.name}: {metadata.description}\")"
   ]
  },
  {
   "cell_type": "markdown",
   "metadata": {},
   "source": [
    "## 2. Data Overview\n",
    "Review available record sets, fields, and their IDs."
   ]
  },
  {
   "cell_type": "code",
   "execution_count": null,
   "metadata": {},
   "outputs": [],
   "source": [
    "# List the record sets available in the dataset\n",
    "record_sets = dataset.record_sets\n",
    "for record_set in record_sets:\n",
    "    print(f\"RecordSet: {record_set['@id']}\")\n",
    "    for field in record_set['field']:\n",
    "        print(f\"  Field: {field['@id']} - {field['name']}\")"
   ]
  },
  {
   "cell_type": "markdown",
   "metadata": {},
   "source": [
    "## 3. Data Extraction\n",
    "Load data from a specific record set into a DataFrame for analysis. Use the record set and field `@id`s from the overview."
   ]
  },
  {
   "cell_type": "code",
   "execution_count": null,
   "metadata": {},
   "outputs": [],
   "source": [
    "# Extract data from each record set\n",
    "record_sets_ids = [\n",
    "    'http://127.0.0.1:8000/sense/olnkgergre/aa3a4f6f-cd92-4436-ba33-ce356ebad266',\n",
    "    'http://127.0.0.1:8000/sense/olnkgergre/ae3f4329-2900-4e8c-8ea2-c1905a4e43ce'\n",
    "]\n",
    "dataframes = {}\n",
    "\n",
    "for record_set_id in record_sets_ids:\n",
    "    records = list(dataset.records(record_set=record_set_id))\n",
    "    dataframes[record_set_id] = pd.DataFrame(records)\n",
    "\n",
    "# Display available columns in one of the dataframes\n",
    "print(dataframes[record_sets_ids[0]].columns.tolist())\n",
    "dataframes[record_sets_ids[0]].head()"
   ]
  },
  {
   "cell_type": "markdown",
   "metadata": {},
   "source": [
    "## 4. Exploratory Data Analysis (EDA)\n",
    "Apply common data processing steps, such as filtering records based on specific criteria, normalizing numeric fields, and categorizing data. This section should include operations like removing outliers, transforming data distributions, or grouping data by key attributes to prepare it for further analysis."
   ]
  },
  {
   "cell_type": "code",
   "execution_count": null,
   "metadata": {},
   "outputs": [],
   "source": [
    "# Select a numeric field for analysis\n",
    "record_set_id = record_sets_ids[0]  # Choose a specific record set\n",
    "numeric_field = 'http://127.0.0.1:8000/sense/olnkgergre/e55c0944-2ca2-4347-87b7-b5597753d39f'  # 'parameter_value'\n",
    "\n",
    "threshold = 10\n",
    "filtered_df = dataframes[record_set_id][dataframes[record_set_id][numeric_field] > threshold]\n",
    "print(f\"Filtered records with {numeric_field} > {threshold}:\")\n",
    "print(filtered_df.head())\n",
    "\n",
    "filtered_df[f\"{numeric_field}_normalized\"] = (filtered_df[numeric_field] - filtered_df[numeric_field].mean()) / filtered_df[numeric_field].std()\n",
    "print(f\"Normalized {numeric_field} for filtered records:\")\n",
    "print(filtered_df[[numeric_field, f\"{numeric_field}_normalized\"]].head())\n",
    "\n",
    "group_field = 'http://127.0.0.1:8000/sense/olnkgergre/97bd4beb-6bc9-4e5f-b729-f1ed4d87fcf7'  # 'taxaname'\n",
    "if group_field in dataframes[record_set_id].columns:\n",
    "    grouped_df = filtered_df.groupby(group_field).mean()\n",
    "    print(f\"Grouped data by {group_field}:\")\n",
    "    print(grouped_df.head())"
   ]
  },
  {
   "cell_type": "markdown",
   "metadata": {},
   "source": [
    "## 5. Visualization\n",
    "Visualize data distributions or relationships between fields in the dataset."
   ]
  },
  {
   "cell_type": "code",
   "execution_count": null,
   "metadata": {},
   "outputs": [],
   "source": [
    "import matplotlib.pyplot as plt\n",
    "import seaborn as sns\n",
    "\n",
    "# Plot distribution of normalized parameter values\n",
    "plt.figure(figsize=(10, 6))\n",
    "sns.histplot(filtered_df[f\"{numeric_field}_normalized\"], bins=30, kde=True)\n",
    "plt.title('Distribution of Normalized Parameter Values')\n",
    "plt.xlabel('Normalized Value')\n",
    "plt.ylabel('Frequency')\n",
    "plt.show()"
   ]
  },
  {
   "cell_type": "markdown",
   "metadata": {},
   "source": [
    "## 6. Conclusion\n",
    "Summarize key findings and observations from the dataset exploration."
   ]
  },
  {
   "cell_type": "markdown",
   "metadata": {},
   "source": [
    "In this exploration, we successfully loaded and examined the Macroalgae Distribution and Abundance dataset using `mlcroissant`. Key steps included data extraction, filtering, normalization, and visualization, providing insights into macroalgae coverage percentages across various sites. The dataset's comprehensive coverage and consistent sampling efforts offer valuable information for ecological and biodiversity analysis."
   ]
  }
 ],
 "metadata": {
  "kernelspec": {
   "display_name": "Python 3",
   "language": "python",
   "name": "python3"
  },
  "language_info": {
   "name": "python",
   "version": "3.8"
  }
 },
 "nbformat": 4,
 "nbformat_minor": 2
}