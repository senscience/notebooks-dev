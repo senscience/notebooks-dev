{
 "cells": [
  {
   "cell_type": "markdown",
   "metadata": {},
   "source": [
    "# Bay of Biscay Marine Monitoring Dataset Exploration with `mlcroissant`\n",
    "This notebook provides a guide for loading and exploring the Bay of Biscay Marine Monitoring dataset using the `mlcroissant` library.\n",
    "\n",
    "### Dataset Source\n",
    "The dataset source is provided via a Croissant schema URL."
   ]
  },
  {
   "cell_type": "code",
   "execution_count": null,
   "metadata": {},
   "outputs": [],
   "source": [
    "# Ensure `mlcroissant` library is installed\n",
    "!pip install mlcroissant"
   ]
  },
  {
   "cell_type": "markdown",
   "metadata": {},
   "source": [
    "## 1. Data Loading\n",
    "Load metadata and records from the dataset using `mlcroissant`."
   ]
  },
  {
   "cell_type": "code",
   "execution_count": null,
   "metadata": {},
   "outputs": [],
   "source": [
    "import mlcroissant as mlc\n",
    "import pandas as pd\n",
    "\n",
    "# Define the dataset URL\n",
    "url = 'http://127.0.0.1:8000/api/portals/10.82843/mfcq-0459/fair2.json'\n",
    "\n",
    "# Load the dataset\n",
    "dataset = mlc.Dataset(url)\n",
    "metadata = dataset.metadata\n",
    "print(f\"{metadata['name']}: {metadata['description']}\")"
   ]
  },
  {
   "cell_type": "markdown",
   "metadata": {},
   "source": [
    "## 2. Data Overview\n",
    "Review available record sets, fields, and their IDs."
   ]
  },
  {
   "cell_type": "code",
   "execution_count": null,
   "metadata": {},
   "outputs": [],
   "source": [
    "# Display record sets in the dataset\n",
    "for record_set in metadata['recordSet']:\n",
    "    print(f\"Record Set ID: {record_set['@id']}\")\n",
    "    for field in record_set['field']:\n",
    "        print(f\"  Field ID: {field['@id']} - Name: {field['name']}\")"
   ]
  },
  {
   "cell_type": "markdown",
   "metadata": {},
   "source": [
    "## 3. Data Extraction\n",
    "Load data from a specific record set into a DataFrame for analysis. Use the record set and field `@id`s from the overview."
   ]
  },
  {
   "cell_type": "code",
   "execution_count": null,
   "metadata": {},
   "outputs": [],
   "source": [
    "# Extract data from each record set\n",
    "record_sets = [\n",
    "    'http://127.0.0.1:8000/sense/test-colab-1/41f02852-29a6-47b1-b685-eada6124f217',\n",
    "    'http://127.0.0.1:8000/sense/test-colab-1/55882445-6fea-4ca9-93d3-648aaaf1f58c',\n",
    "    'http://127.0.0.1:8000/sense/test-colab-1/7cc073b8-d338-4419-b96f-dfbe0d79e674'\n",
    "]\n",
    "dataframes = {}\n",
    "\n",
    "for record_set in record_sets:\n",
    "    records = list(dataset.records(record_set=record_set))\n",
    "    dataframes[record_set] = pd.DataFrame(records)\n",
    "\n",
    "# Display columns of the first record set\n",
    "print(dataframes[record_sets[0]].columns.tolist())\n",
    "dataframes[record_sets[0]].head()"
   ]
  },
  {
   "cell_type": "markdown",
   "metadata": {},
   "source": [
    "## 4. Exploratory Data Analysis (EDA)\n",
    "Apply common data processing steps, such as filtering records based on specific criteria, normalizing numeric fields, and categorizing data."
   ]
  },
  {
   "cell_type": "code",
   "execution_count": null,
   "metadata": {},
   "outputs": [],
   "source": [
    "# Select a numeric field for analysis from the first record set\n",
    "numeric_field = 'http://127.0.0.1:8000/sense/test-colab-1/dfceb0a3-15c5-40b8-b4d5-af793acfd2cc'\n",
    "\n",
    "threshold = 10\n",
    "filtered_df = dataframes[record_sets[0]][dataframes[record_sets[0]][numeric_field] > threshold]\n",
    "print(f\"Filtered records with {numeric_field} > {threshold}:\")\n",
    "print(filtered_df.head())\n",
    "\n",
    "filtered_df[f\"{numeric_field}_normalized\"] = (filtered_df[numeric_field] - filtered_df[numeric_field].mean()) / filtered_df[numeric_field].std()\n",
    "print(f\"Normalized {numeric_field} for filtered records:\")\n",
    "print(filtered_df[[numeric_field, f\"{numeric_field}_normalized\"]].head())\n",
    "\n",
    "group_field = 'http://127.0.0.1:8000/sense/test-colab-1/4c17d92b-7ddc-4b74-8e83-703e1bf784c1'\n",
    "if group_field in dataframes[record_sets[0]].columns:\n",
    "    grouped_df = filtered_df.groupby(group_field).mean()\n",
    "    print(f\"Grouped data by {group_field}:\")\n",
    "    print(grouped_df.head())"
   ]
  },
  {
   "cell_type": "markdown",
   "metadata": {},
   "source": [
    "## 5. Visualization\n",
    "Visualize data distributions or relationships between fields in the dataset."
   ]
  },
  {
   "cell_type": "code",
   "execution_count": null,
   "metadata": {},
   "outputs": [],
   "source": [
    "import matplotlib.pyplot as plt\n",
    "\n",
    "# Histogram of the numeric field\n",
    "plt.hist(dataframes[record_sets[0]][numeric_field], bins=50, alpha=0.7)\n",
    "plt.title('Distribution of Parameter Values')\n",
    "plt.xlabel('Parameter Value')\n",
    "plt.ylabel('Frequency')\n",
    "plt.show()"
   ]
  },
  {
   "cell_type": "markdown",
   "metadata": {},
   "source": [
    "## 6. Conclusion\n",
    "Summarize key findings and observations from the dataset exploration."
   ]
  },
  {
   "cell_type": "markdown",
   "metadata": {},
   "source": [
    "Through this exploration of the Bay of Biscay Marine Monitoring dataset, we have loaded and examined the structure and some sample entries of the data. We applied basic filtering and normalization techniques to prepare the data for further analysis. Visualizations provide insight into the distribution of parameters within the dataset, supporting ecological and environmental research."
   ]
  }
 ],
 "metadata": {
  "kernelspec": {
   "display_name": "Python 3",
   "language": "python",
   "name": "python3"
  },
  "language_info": {
   "name": "python",
   "version": "3.8"
  }
 },
 "nbformat": 4,
 "nbformat_minor": 2
}