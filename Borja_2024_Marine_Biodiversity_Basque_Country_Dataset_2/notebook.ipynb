{
 "cells": [
  {
   "cell_type": "markdown",
   "metadata": {},
   "source": [
    "# Marine Biodiversity Observations in Basque Country Estuaries and Coasts Exploration with `mlcroissant`\n",
    "This notebook provides a guide for loading and exploring the Marine Biodiversity Observations dataset using the `mlcroissant` library.\n",
    "\n",
    "### Dataset Source\n",
    "The dataset source is provided via a Croissant schema URL."
   ]
  },
  {
   "cell_type": "code",
   "execution_count": null,
   "metadata": {},
   "outputs": [],
   "source": [
    "# Ensure `mlcroissant` library is installed\n",
    "!pip install mlcroissant"
   ]
  },
  {
   "cell_type": "markdown",
   "metadata": {},
   "source": [
    "## 1. Data Loading\n",
    "Load metadata and records from the dataset using `mlcroissant`."
   ]
  },
  {
   "cell_type": "code",
   "execution_count": null,
   "metadata": {},
   "outputs": [],
   "source": [
    "import mlcroissant as mlc\n",
    "import pandas as pd\n",
    "\n",
    "# Define the dataset URL\n",
    "url = 'http://127.0.0.1:8000/api/portals/10.82843/ecsh-pr64/fair2.json'\n",
    "\n",
    "# Load the dataset metadata\n",
    "dataset = mlc.Dataset(url)\n",
    "metadata = dataset.metadata\n",
    "print(f\"{metadata.name}: {metadata.description}\")"
   ]
  },
  {
   "cell_type": "markdown",
   "metadata": {},
   "source": [
    "## 2. Data Overview\n",
    "Review available record sets, fields, and their IDs."
   ]
  },
  {
   "cell_type": "code",
   "execution_count": null,
   "metadata": {},
   "outputs": [],
   "source": [
    "for record_set in metadata.recordSet:\n",
    "    print(f\"RecordSet: {record_set['@id']}\")\n",
    "    for field in record_set['field']:\n",
    "        print(f\"  Field: {field['@id']} - {field['name']}\")\n"
   ]
  },
  {
   "cell_type": "markdown",
   "metadata": {},
   "source": [
    "## 3. Data Extraction\n",
    "Load data from a specific record set into a DataFrame for analysis. Use the record set and field `@id`s from the overview."
   ]
  },
  {
   "cell_type": "code",
   "execution_count": null,
   "metadata": {},
   "outputs": [],
   "source": [
    "# Extract data from each record set\n",
    "record_sets = [\n",
    "    'http://127.0.0.1:8000/sense/lnerwgerreegr/84aeff68-0da5-4fe8-9610-7a636702b25f',  # Macroalgae\n",
    "    'http://127.0.0.1:8000/sense/lnerwgerreegr/e1521e79-aa2b-47b2-9016-01f946e88870',  # Phytoplankton\n",
    "    'http://127.0.0.1:8000/sense/lnerwgerreegr/e91e4a97-5a2b-4e7a-923a-81ec8208510f'   # Invertebrates\n",
    "]\n",
    "dataframes = {}\n",
    "\n",
    "for record_set in record_sets:\n",
    "    records = list(dataset.records(record_set=record_set))\n",
    "    dataframes[record_set] = pd.DataFrame(records)\n",
    "\n",
    "# Display columns for a specific record set\n",
    "selected_record_set = 'http://127.0.0.1:8000/sense/lnerwgerreegr/84aeff68-0da5-4fe8-9610-7a636702b25f'\n",
    "print(dataframes[selected_record_set].columns.tolist())\n",
    "dataframes[selected_record_set].head()"
   ]
  },
  {
   "cell_type": "markdown",
   "metadata": {},
   "source": [
    "## 4. Exploratory Data Analysis (EDA)\n",
    "Apply common data processing steps, such as filtering records based on specific criteria, normalizing numeric fields, and categorizing data. This section should include operations like removing outliers, transforming data distributions, or grouping data by key attributes to prepare it for further analysis."
   ]
  },
  {
   "cell_type": "code",
   "execution_count": null,
   "metadata": {},
   "outputs": [],
   "source": [
    "# Select a numeric field for analysis\n",
    "numeric_field = 'parameter_value'\n",
    "\n",
    "threshold = 10\n",
    "filtered_df = dataframes[selected_record_set][dataframes[selected_record_set][numeric_field] > threshold]\n",
    "print(f\"Filtered records with {numeric_field} > {threshold}:\")\n",
    "print(filtered_df.head())\n",
    "\n",
    "filtered_df[f\"{numeric_field}_normalized\"] = (filtered_df[numeric_field] - filtered_df[numeric_field].mean()) / filtered_df[numeric_field].std()\n",
    "print(f\"Normalized {numeric_field} for filtered records:\")\n",
    "print(filtered_df[[numeric_field, f\"{numeric_field}_normalized\"]].head())\n",
    "\n",
    "group_field = 'siteid'\n",
    "if group_field in dataframes[selected_record_set].columns:\n",
    "    grouped_df = filtered_df.groupby(group_field).mean()\n",
    "    print(f\"Grouped data by {group_field}:\")\n",
    "    print(grouped_df.head())"
   ]
  },
  {
   "cell_type": "markdown",
   "metadata": {},
   "source": [
    "## 5. Visualization\n",
    "Visualize data distributions or relationships between fields in the dataset."
   ]
  },
  {
   "cell_type": "code",
   "execution_count": null,
   "metadata": {},
   "outputs": [],
   "source": [
    "import matplotlib.pyplot as plt\n",
    "import seaborn as sns\n",
    "\n",
    "# Visualize the distribution of a numeric field\n",
    "plt.figure(figsize=(10, 6))\n",
    "sns.histplot(filtered_df[numeric_field], bins=30, kde=True)\n",
    "plt.title('Distribution of Parameter Value')\n",
    "plt.xlabel('Parameter Value')\n",
    "plt.ylabel('Frequency')\n",
    "plt.show()\n",
    "\n",
    "# Visualize relationship between numeric field and siteid\n",
    "plt.figure(figsize=(12, 8))\n",
    "sns.boxplot(data=filtered_df, x=group_field, y=numeric_field)\n",
    "plt.xticks(rotation=90)\n",
    "plt.title('Boxplot of Parameter Value by Site')\n",
    "plt.xlabel('Site ID')\n",
    "plt.ylabel('Parameter Value')\n",
    "plt.show()"
   ]
  },
  {
   "cell_type": "markdown",
   "metadata": {},
   "source": [
    "## 6. Conclusion\n",
    "Summarize key findings and observations from the dataset exploration."
   ]
  },
  {
   "cell_type": "markdown",
   "metadata": {},
   "source": [
    "In this exploration, we loaded and examined the Marine Biodiversity dataset using `mlcroissant`. We reviewed record sets and fields, extracted data into DataFrames, and performed exploratory data analysis focusing on parameter values. The visualizations provided insights into the distribution and site-specific variations of the data.\n",
    "\n",
    "This analysis demonstrates the potential of leveraging `mlcroissant` for streamlined data handling and exploration in ecological studies."
   ]
  }
 ],
 "metadata": {
  "kernelspec": {
   "display_name": "Python 3",
   "language": "python",
   "name": "python3"
  },
  "language_info": {
   "name": "python",
   "version": "3.8"
  }
 },
 "nbformat": 4,
 "nbformat_minor": 2
}