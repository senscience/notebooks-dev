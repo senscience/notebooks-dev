{
 "cells": [
  {
   "cell_type": "markdown",
   "metadata": {
    "id": "Ow7g8UyK9_g8"
   },
   "source": [
    "# Explore the Marine Biodiversity and Environmental Data Package with `mlcroissant`\n",
    "\n",
    "## Introduction\n",
    "This dataset from **Borja et al.** provides 38 years of environmental monitoring data (1995–2023) tracks 130 environmental variables across water, sediments, and biota in the Basque Country’s coastal areas. Developed with the Basque Water Agency (URA), it enables analysis of human impacts and ecosystem management.\n",
    "\n",
    "Learn more:\n",
    "- Data Package doi: 10.82843/xy24-x579\n",
    "- Frontiers Data Article doi: 10.3389/focsu.2024.1528837\n",
    "\n",
    "As a FAIR² Data Package, it ensures accessibility, interoperability, and AI-readiness, supporting research and policy aligned with European directives. FAIR² datasets follow the MLCommons **Croissant** 🥐 format for machine learning datasets. See the [MLCommons Croissant Format Specification](https://docs.mlcommons.org/croissant/docs/croissant-spec.html).\n",
    "\n",
    "This notebook provides a step-by-step guide for loading the dataset using the `mlcroissant` Python library."
   ]
  },
  {
   "cell_type": "markdown",
   "metadata": {
    "id": "Q5e9wHsd_u8l"
   },
   "source": [
    "### Install and import required libraries"
   ]
  },
  {
   "cell_type": "code",
   "execution_count": 1,
   "metadata": {
    "colab": {
     "base_uri": "https://localhost:8080/"
    },
    "executionInfo": {
     "elapsed": 11540,
     "status": "ok",
     "timestamp": 1738740457062,
     "user": {
      "displayName": "Cristina González",
      "userId": "11235768240184641454"
     },
     "user_tz": -60
    },
    "id": "xuYN_u7T-U0N",
    "outputId": "0f90e35a-0af4-44fc-8766-366bf307cc90"
   },
   "outputs": [],
   "source": [
    "# Install mlcroissant from the source\n",
    "# !sudo apt-get install python3-dev graphviz libgraphviz-dev pkg-config\n",
    "# !pip install mlcroissant[dev]"
   ]
  },
  {
   "cell_type": "code",
   "execution_count": null,
   "metadata": {},
   "outputs": [],
   "source": [
    "# To install it directly from the github repository\n",
    "# !pip install \"git+https://github.com/${GITHUB_REPOSITORY:-mlcommons/croissant}.git@${GITHUB_HEAD_REF:-main}#subdirectory=python/mlcroissant&egg=mlcroissant[dev]\""
   ]
  },
  {
   "cell_type": "code",
   "execution_count": 2,
   "metadata": {
    "executionInfo": {
     "elapsed": 4253,
     "status": "ok",
     "timestamp": 1738740551788,
     "user": {
      "displayName": "Cristina González",
      "userId": "11235768240184641454"
     },
     "user_tz": -60
    },
    "id": "vmqyOu_29_hC"
   },
   "outputs": [],
   "source": [
    "import mlcroissant as mlc\n",
    "import pandas as pd\n",
    "import seaborn as sns\n",
    "import matplotlib.pyplot as plt\n",
    "\n",
    "from tabulate import tabulate\n",
    "from IPython.display import Markdown"
   ]
  },
  {
   "cell_type": "markdown",
   "metadata": {
    "id": "UCfCQUpK9_hE"
   },
   "source": [
    "## 1. Data Loading\n",
    "Load metadata and records from the dataset using `mlcroissant` and the URL of the FAIR<sup>2</sup> Data Package."
   ]
  },
  {
   "cell_type": "code",
   "execution_count": 19,
   "metadata": {
    "colab": {
     "base_uri": "https://localhost:8080/"
    },
    "executionInfo": {
     "elapsed": 1662,
     "status": "ok",
     "timestamp": 1738740558370,
     "user": {
      "displayName": "Cristina González",
      "userId": "11235768240184641454"
     },
     "user_tz": -60
    },
    "id": "-Y6BD-1E9_hE",
    "outputId": "ac9e71c9-40aa-456e-e30a-cfd000239b58"
   },
   "outputs": [
    {
     "name": "stderr",
     "output_type": "stream",
     "text": [
      "WARNING:absl:WARNING: The JSON-LD `@context` is not standard. Refer to the official @context (e.g., from the example datasets in https://github.com/mlcommons/croissant/tree/main/datasets/1.0). The different keys are: {'subField', 'fileProperty', 'transform', 'examples', 'jsonPath', 'sc', 'parentField', 'separator', 'key', 'data', 'repeated', 'includes', 'md5', '@language', 'format', 'regex', 'path', 'replace', 'fileSet', 'isLiveDataset', 'references'}\n"
     ]
    },
    {
     "name": "stdout",
     "output_type": "stream",
     "text": [
      "Borja_2025_Marine_Biodiversity_and_Environmental_Data_Dataset: This dataset encompasses extensive long-term monitoring data from the Basque Country, focusing on assessing the responsiveness of 83 environmental variables across water, sediment, biota, phytoplankton, macroinvertebrates, and fish. It includes metadata and biodiversity data from various aquatic environments, detailing site-specific identifiers, sampling methods, and instruments used. The dataset is crucial for understanding trends in environmental quality and the effects of human pressures and management actions over time.\n"
     ]
    }
   ],
   "source": [
    "# Provide the dataset URL\n",
    "url = 'https://senscience.dev.internal.senscience.cloud/doi/10.82843/pm80-mh77/fair2.json'\n",
    "\n",
    "# Load the dataset metadata\n",
    "dataset = mlc.Dataset(url)\n",
    "metadata = dataset.metadata.to_json()\n",
    "print(f\"{metadata['name']}: {metadata['description']}\")"
   ]
  },
  {
   "cell_type": "markdown",
   "metadata": {
    "id": "hWb1iejO9_hF"
   },
   "source": [
    "## 2. Data Overview\n",
    "\n",
    "In the **Croissant** format, a RecordSet represents a structured collection of records, where each record is a granular dataset unit (e.g., an image, text file, or table row). It defines the structure of these records using a set of fields, such as the columns in a table or sheet, as seen in this example."
   ]
  },
  {
   "cell_type": "markdown",
   "metadata": {},
   "source": [
    "### 2.1 Review available RecordSets"
   ]
  },
  {
   "cell_type": "code",
   "execution_count": 4,
   "metadata": {
    "executionInfo": {
     "elapsed": 5,
     "status": "ok",
     "timestamp": 1738740693722,
     "user": {
      "displayName": "Cristina González",
      "userId": "11235768240184641454"
     },
     "user_tz": -60
    },
    "id": "yXd4zEhl9_hF"
   },
   "outputs": [],
   "source": [
    "# Format the list column as a Markdown-compatible string\n",
    "def format_list_column(row):\n",
    "    if isinstance(row, list):\n",
    "        return \"\\n\".join(f\"- {item}\" for item in row)  # Bullet point list\n",
    "    return str(row)"
   ]
  },
  {
   "cell_type": "code",
   "execution_count": 5,
   "metadata": {
    "colab": {
     "base_uri": "https://localhost:8080/",
     "height": 1000
    },
    "executionInfo": {
     "elapsed": 387,
     "status": "ok",
     "timestamp": 1738740707333,
     "user": {
      "displayName": "Cristina González",
      "userId": "11235768240184641454"
     },
     "user_tz": -60
    },
    "id": "ue7-uq0V9_hG",
    "outputId": "3644aa63-e194-4d89-ecd6-9c3cc2b56e1a"
   },
   "outputs": [
    {
     "data": {
      "text/markdown": [
       "| Record Set ID                                                                                                           | Description                                                                                                                                                                                                                                                                                                                                                                                                                                                                                                                                                                               |\n",
       "|:------------------------------------------------------------------------------------------------------------------------|:------------------------------------------------------------------------------------------------------------------------------------------------------------------------------------------------------------------------------------------------------------------------------------------------------------------------------------------------------------------------------------------------------------------------------------------------------------------------------------------------------------------------------------------------------------------------------------------|\n",
       "| https://senscience.ai/frontiers/borja/README.csv                                                                        | The datasheet encompasses metadata and biodiversity data related to diverse aquatic environments. It includes information on taxonomic groups, site-specific sampling identifiers, sampling methods, and descriptions of instruments used. Examples include fish and Gillnetting, with references to specific sites like LTER_400. The data covers various descriptive fields such as taxonomic classification, site, and method details, providing a comprehensive overview of aquatic biodiversity research.                                                                            |\n",
       "| https://senscience.ai/frontiers/borja/METADATA.csv                                                                      | The datasheet contains metadata about environmental sampling in the Bay of Biscay, Spain. It details locations (site names and IDs), geographical coordinates, and timespan of data collection from 1989 to 2023. It categorizes samples into taxa groups and provides protocols for sampling. Contact information for involved researchers is included, listing names and emails. The dataset covers various taxa such as water, macroalgae, and invertebrates, and is collected consistently across multiple years and sites.                                                           |\n",
       "| https://senscience.ai/frontiers/borja/WATER.csv                                                                         | The dataset contains water quality measurements, including parameters like temperature, salinity, dissolved oxygen, and pH, collected from various sites. It includes metadata such as date collected, site ID, sample ID, and record basis. The dataset also provides depth information and sampling effort, with parameter values and standard units. The data spans multiple years, with repeated observations for several parameters across different locations.                                                                                                                      |\n",
       "| https://senscience.ai/frontiers/borja/BIOTA.csv                                                                         | The dataset captures biota sample information, detailing collection dates, locations, sample IDs, and species (taxonomy) names with corresponding IDs. It includes environmental parameters measured in biota, the units of these measurements, and specific measurement values. The dataset uniformly records specimens as \"Frozen Specimen\" from intertidal zones, with consistent sampling efforts noted. Key taxa include \"Mytilus galloprovincialis,\" \"Magallana gigas,\" and \"Magallana angulata.\" It offers insight into biotic composition and related environmental observations. |\n",
       "| https://senscience.ai/frontiers/borja/SEDIMENTS.csv                                                                     | The dataset captures sediment samples with details on collection dates, site IDs, and sample IDs. It includes metadata such as basis of record, depth measurements, and sampling effort. Key parameters measured include organic matter percentage, gravel, mud, and metal concentrations, alongside redox potential, with respective values and standard units. The dataset provides insights into sediment composition and characteristics across various sites and depths, offering valuable information for environmental and geological studies.                                     |\n",
       "| https://senscience.ai/frontiers/borja/PHYTOPLANKTON.csv                                                                 | The dataset records phytoplankton abundance, collected at various sites on specific dates, identified by unique sample IDs. It includes taxonomic information, depth measurements, and consistent recording effort. All observations, based on material samples, use standardized units and focus on abundance parameters, providing insights into phytoplankton distribution across different locations and times. The dataset is comprehensive, with no missing values, facilitating detailed ecological studies and analysis.                                                          |\n",
       "| https://senscience.ai/frontiers/borja/MACROALGAE.csv                                                                    | The dataset contains macroalgae observations, detailing collection dates, site identifiers, sample identifiers, and taxonomic data. Observations are consistently recorded as human observations in intertidal zones, with a constant sampling effort and depth range. Each entry includes a taxon name and ID, with coverage percentages as measured parameters, all standardized in percentage units. The data provides a comprehensive record of macroalgae coverage across various sites over time.                                                                                   |\n",
       "| https://senscience.ai/frontiers/borja/INVERTEBRATES.csv                                                                 | The datasheet documents invertebrate abundance across various sites and dates, detailing parameters like site ID, sample ID, taxonomic names, and their corresponding IDs. It includes metadata such as depth, sampling effort, and records classified as \"MaterialSample.\" The dataset captures both minimum and maximum depths, with a consistent unit of \"Ind/m2\" for parameter values, focusing on invertebrate sampling efforts and abundance.                                                                                                                                       |\n",
       "| https://senscience.ai/frontiers/borja/FISH.csv                                                                          | The datasheet contains data on fish abundance collected from various sites over a span of years. It includes details like site IDs, sample IDs, collection dates, and taxonomic information. Depth measurements, both minimum and maximum, are recorded along with sampling efforts. The observations are categorized under a \"HumanObservation\" record type and parameterized by abundance with values expressed in two unit variations, \"Ind\" and \"ind\".                                                                                                                                |\n",
       "| https://senscience.ai/frontiers/borja/METHOD.csv                                                                        | The datasheet contains information on environmental sampling protocols, detailing various taxa groups like sediments, water, and biota, alongside the instruments used, sampling protocols, and references to related documentation. Descriptions provide insights into the sampling frequency and methodology in different environments, such as coastal and estuarine areas. The data offers metadata linked to scientific studies and protocols, emphasizing the procedural aspects of environmental monitoring.                                                                       |\n",
       "| https://senscience.ai/frontiers/borja/AUTHORS.csv                                                                       | The datasheet contains information about authors, including their last names, first names, and middle initials. It includes details on whether they are in the author list, their email addresses, ORCID identifiers, and affiliations with departments and institutions. Additionally, it provides institutional details such as street addresses, city, zip code, and country. Most authors are affiliated with AZTI and are based in Spain, with Pasaia being a frequent city of affiliation.                                                                                          |\n",
       "| https://api.dev.senscience.cloud/frontiers/8704cfcf-0667-4eaf-b0b1-679597df683f-16/1f815237-2720-4af1-8a91-0a68ec18fef2 | The datasheet provides analytical data on various environmental subgroups, detailing chemical parameters and their respective units. It includes information on analysis methods and codes, capturing diverse testing techniques like gas chromatography and mass spectrometry. The fields cover distinct categories such as sediments, water, and biota, and feature alphanumeric codes for specific chemicals or compounds analyzed. The datasheet appears to structure metadata essential for understanding environmental chemical analysis.                                           |"
      ],
      "text/plain": [
       "<IPython.core.display.Markdown object>"
      ]
     },
     "metadata": {},
     "output_type": "display_data"
    }
   ],
   "source": [
    "# List all the record sets available in the dataset\n",
    "df = pd.DataFrame(metadata[\"recordSet\"])\n",
    "columns_to_keep = {\n",
    "    \"@id\": \"Record Set ID\",\n",
    "    \"description\": \"Description\"\n",
    "}\n",
    "df = df[list(columns_to_keep.keys())]\n",
    "df = df.rename(columns=columns_to_keep)\n",
    "\n",
    "# Convert DataFrame to Markdown table\n",
    "markdown_table = tabulate(df, headers=\"keys\", tablefmt=\"pipe\", showindex=False)\n",
    "\n",
    "# Render the table as Markdown in Jupyter\n",
    "display(Markdown(markdown_table))"
   ]
  },
  {
   "cell_type": "markdown",
   "metadata": {
    "id": "EOhaQDGn9_hG"
   },
   "source": [
    "## 3. Data Extraction\n",
    "\n",
    "#### 3.1 Load data from a specific record set into a DataFrame for analysis. \n",
    "\n",
    "In this example we will focus on the data records related to the biodiversity of the sampled areas (phytoplankton, invertebrates, macroalgae, and fish). To that end we can use the RecordSet `@id`s from the overview"
   ]
  },
  {
   "cell_type": "code",
   "execution_count": 6,
   "metadata": {
    "colab": {
     "base_uri": "https://localhost:8080/",
     "height": 1000
    },
    "executionInfo": {
     "elapsed": 40760,
     "status": "ok",
     "timestamp": 1738740775777,
     "user": {
      "displayName": "Cristina González",
      "userId": "11235768240184641454"
     },
     "user_tz": -60
    },
    "id": "EmhscIDQ9_hH",
    "outputId": "9d9d3934-25ba-448f-8357-6a12ff04f925"
   },
   "outputs": [],
   "source": [
    "record_set_ids = [\n",
    "    'https://sen.science/10.71728/r1rj-f947/record-sets/PHYTOPLANKTON',\n",
    "    'https://sen.science/10.71728/r1rj-f947/record-sets/INVERTEBRATES',\n",
    "    'https://sen.science/10.71728/r1rj-f947/record-sets/MACROALGAE',\n",
    "    'https://sen.science/10.71728/r1rj-f947/record-sets/FISH'\n",
    "]\n",
    "\n",
    "dataframes = {\n",
    "    record_set_id: pd.DataFrame(list(dataset.records(record_set=record_set_id)))\n",
    "    for record_set_id in record_set_ids\n",
    "}"
   ]
  },
  {
   "cell_type": "code",
   "execution_count": 8,
   "metadata": {},
   "outputs": [
    {
     "data": {
      "text/markdown": [
       "#### https://senscience.ai/frontiers/borja/PHYTOPLANKTON.csv"
      ],
      "text/plain": [
       "<IPython.core.display.Markdown object>"
      ]
     },
     "metadata": {},
     "output_type": "display_data"
    },
    {
     "data": {
      "text/html": [
       "<div>\n",
       "<style scoped>\n",
       "    .dataframe tbody tr th:only-of-type {\n",
       "        vertical-align: middle;\n",
       "    }\n",
       "\n",
       "    .dataframe tbody tr th {\n",
       "        vertical-align: top;\n",
       "    }\n",
       "\n",
       "    .dataframe thead th {\n",
       "        text-align: right;\n",
       "    }\n",
       "</style>\n",
       "<table border=\"1\" class=\"dataframe\">\n",
       "  <thead>\n",
       "    <tr style=\"text-align: right;\">\n",
       "      <th></th>\n",
       "      <th>datecollected</th>\n",
       "      <th>siteid</th>\n",
       "      <th>sampleid</th>\n",
       "      <th>basisofrecord</th>\n",
       "      <th>minimumdepthinmeters</th>\n",
       "      <th>maximumdepthinmeters</th>\n",
       "      <th>taxaname</th>\n",
       "      <th>taxanameid</th>\n",
       "      <th>samplingeffort</th>\n",
       "      <th>parameter</th>\n",
       "      <th>parameter_value</th>\n",
       "      <th>parameter_standardunit</th>\n",
       "    </tr>\n",
       "  </thead>\n",
       "  <tbody>\n",
       "    <tr>\n",
       "      <th>0</th>\n",
       "      <td>2002-04-22</td>\n",
       "      <td>E-BI10</td>\n",
       "      <td>E-BI10_20020422</td>\n",
       "      <td>MaterialSample</td>\n",
       "      <td>0</td>\n",
       "      <td>0.5</td>\n",
       "      <td>Cryptomonas</td>\n",
       "      <td>106282</td>\n",
       "      <td>125 ml</td>\n",
       "      <td>Abundance</td>\n",
       "      <td>4.20</td>\n",
       "      <td>cel/ml</td>\n",
       "    </tr>\n",
       "    <tr>\n",
       "      <th>1</th>\n",
       "      <td>2002-04-22</td>\n",
       "      <td>E-BI10</td>\n",
       "      <td>E-BI10_20020422</td>\n",
       "      <td>MaterialSample</td>\n",
       "      <td>0</td>\n",
       "      <td>0.5</td>\n",
       "      <td>Eutreptiella</td>\n",
       "      <td>17657</td>\n",
       "      <td>125 ml</td>\n",
       "      <td>Abundance</td>\n",
       "      <td>170.00</td>\n",
       "      <td>cel/ml</td>\n",
       "    </tr>\n",
       "    <tr>\n",
       "      <th>2</th>\n",
       "      <td>2002-04-22</td>\n",
       "      <td>E-BI10</td>\n",
       "      <td>E-BI10_20020422</td>\n",
       "      <td>MaterialSample</td>\n",
       "      <td>0</td>\n",
       "      <td>0.5</td>\n",
       "      <td>Melosira varians</td>\n",
       "      <td>149043</td>\n",
       "      <td>125 ml</td>\n",
       "      <td>Abundance</td>\n",
       "      <td>0.24</td>\n",
       "      <td>cel/ml</td>\n",
       "    </tr>\n",
       "    <tr>\n",
       "      <th>3</th>\n",
       "      <td>2002-04-22</td>\n",
       "      <td>E-BI10</td>\n",
       "      <td>E-BI10_20020422</td>\n",
       "      <td>MaterialSample</td>\n",
       "      <td>0</td>\n",
       "      <td>0.5</td>\n",
       "      <td>Melosira nummuloides</td>\n",
       "      <td>149044</td>\n",
       "      <td>125 ml</td>\n",
       "      <td>Abundance</td>\n",
       "      <td>1.28</td>\n",
       "      <td>cel/ml</td>\n",
       "    </tr>\n",
       "    <tr>\n",
       "      <th>4</th>\n",
       "      <td>2002-04-22</td>\n",
       "      <td>E-BI10</td>\n",
       "      <td>E-BI10_20020422</td>\n",
       "      <td>MaterialSample</td>\n",
       "      <td>0</td>\n",
       "      <td>0.5</td>\n",
       "      <td>Navicula</td>\n",
       "      <td>149142</td>\n",
       "      <td>125 ml</td>\n",
       "      <td>Abundance</td>\n",
       "      <td>94.00</td>\n",
       "      <td>cel/ml</td>\n",
       "    </tr>\n",
       "  </tbody>\n",
       "</table>\n",
       "</div>"
      ],
      "text/plain": [
       "  datecollected  siteid         sampleid   basisofrecord  \\\n",
       "0    2002-04-22  E-BI10  E-BI10_20020422  MaterialSample   \n",
       "1    2002-04-22  E-BI10  E-BI10_20020422  MaterialSample   \n",
       "2    2002-04-22  E-BI10  E-BI10_20020422  MaterialSample   \n",
       "3    2002-04-22  E-BI10  E-BI10_20020422  MaterialSample   \n",
       "4    2002-04-22  E-BI10  E-BI10_20020422  MaterialSample   \n",
       "\n",
       "   minimumdepthinmeters  maximumdepthinmeters              taxaname  \\\n",
       "0                     0                   0.5           Cryptomonas   \n",
       "1                     0                   0.5          Eutreptiella   \n",
       "2                     0                   0.5      Melosira varians   \n",
       "3                     0                   0.5  Melosira nummuloides   \n",
       "4                     0                   0.5              Navicula   \n",
       "\n",
       "   taxanameid samplingeffort  parameter  parameter_value  \\\n",
       "0      106282         125 ml  Abundance             4.20   \n",
       "1       17657         125 ml  Abundance           170.00   \n",
       "2      149043         125 ml  Abundance             0.24   \n",
       "3      149044         125 ml  Abundance             1.28   \n",
       "4      149142         125 ml  Abundance            94.00   \n",
       "\n",
       "  parameter_standardunit  \n",
       "0                 cel/ml  \n",
       "1                 cel/ml  \n",
       "2                 cel/ml  \n",
       "3                 cel/ml  \n",
       "4                 cel/ml  "
      ]
     },
     "metadata": {},
     "output_type": "display_data"
    },
    {
     "data": {
      "text/markdown": [
       "---"
      ],
      "text/plain": [
       "<IPython.core.display.Markdown object>"
      ]
     },
     "metadata": {},
     "output_type": "display_data"
    },
    {
     "data": {
      "text/markdown": [
       "#### https://senscience.ai/frontiers/borja/INVERTEBRATES.csv"
      ],
      "text/plain": [
       "<IPython.core.display.Markdown object>"
      ]
     },
     "metadata": {},
     "output_type": "display_data"
    },
    {
     "data": {
      "text/html": [
       "<div>\n",
       "<style scoped>\n",
       "    .dataframe tbody tr th:only-of-type {\n",
       "        vertical-align: middle;\n",
       "    }\n",
       "\n",
       "    .dataframe tbody tr th {\n",
       "        vertical-align: top;\n",
       "    }\n",
       "\n",
       "    .dataframe thead th {\n",
       "        text-align: right;\n",
       "    }\n",
       "</style>\n",
       "<table border=\"1\" class=\"dataframe\">\n",
       "  <thead>\n",
       "    <tr style=\"text-align: right;\">\n",
       "      <th></th>\n",
       "      <th>datecollected</th>\n",
       "      <th>siteid</th>\n",
       "      <th>sampleid</th>\n",
       "      <th>basisofrecord</th>\n",
       "      <th>minimumdepthinmeters</th>\n",
       "      <th>maximumdepthinmeters</th>\n",
       "      <th>taxaname</th>\n",
       "      <th>taxanameid</th>\n",
       "      <th>samplingeffort</th>\n",
       "      <th>parameter</th>\n",
       "      <th>parameter_value</th>\n",
       "      <th>parameter_standardunit</th>\n",
       "    </tr>\n",
       "  </thead>\n",
       "  <tbody>\n",
       "    <tr>\n",
       "      <th>0</th>\n",
       "      <td>2010-01-20</td>\n",
       "      <td>E-A5</td>\n",
       "      <td>E-A5_20100120</td>\n",
       "      <td>MaterialSample</td>\n",
       "      <td>Intertidal</td>\n",
       "      <td>Intertidal</td>\n",
       "      <td>Potamopyrgus antipodarum</td>\n",
       "      <td>147123</td>\n",
       "      <td>0.25 m2 * 3</td>\n",
       "      <td>Abundance</td>\n",
       "      <td>5.33</td>\n",
       "      <td>Ind/m2</td>\n",
       "    </tr>\n",
       "    <tr>\n",
       "      <th>1</th>\n",
       "      <td>2013-01-30</td>\n",
       "      <td>E-A5</td>\n",
       "      <td>E-A5_20130130</td>\n",
       "      <td>MaterialSample</td>\n",
       "      <td>Intertidal</td>\n",
       "      <td>Intertidal</td>\n",
       "      <td>Trematoda</td>\n",
       "      <td>19948</td>\n",
       "      <td>0.25 m2 * 3</td>\n",
       "      <td>Abundance</td>\n",
       "      <td>1.33</td>\n",
       "      <td>Ind/m2</td>\n",
       "    </tr>\n",
       "    <tr>\n",
       "      <th>2</th>\n",
       "      <td>2016-01-26</td>\n",
       "      <td>E-A5</td>\n",
       "      <td>E-A5_20160126</td>\n",
       "      <td>MaterialSample</td>\n",
       "      <td>Intertidal</td>\n",
       "      <td>Intertidal</td>\n",
       "      <td>NEMERTEA</td>\n",
       "      <td>152391</td>\n",
       "      <td>0.25 m2 * 3</td>\n",
       "      <td>Abundance</td>\n",
       "      <td>1.00</td>\n",
       "      <td>Ind/m2</td>\n",
       "    </tr>\n",
       "    <tr>\n",
       "      <th>3</th>\n",
       "      <td>2019-01-21</td>\n",
       "      <td>E-A5</td>\n",
       "      <td>E-A5_20190121</td>\n",
       "      <td>MaterialSample</td>\n",
       "      <td>Intertidal</td>\n",
       "      <td>Intertidal</td>\n",
       "      <td>NEMERTEA</td>\n",
       "      <td>152391</td>\n",
       "      <td>0.25 m2 * 3</td>\n",
       "      <td>Abundance</td>\n",
       "      <td>3.00</td>\n",
       "      <td>Ind/m2</td>\n",
       "    </tr>\n",
       "    <tr>\n",
       "      <th>4</th>\n",
       "      <td>2021-03-15</td>\n",
       "      <td>E-A5</td>\n",
       "      <td>E-A5_20210315</td>\n",
       "      <td>MaterialSample</td>\n",
       "      <td>Intertidal</td>\n",
       "      <td>Intertidal</td>\n",
       "      <td>NEMERTEA</td>\n",
       "      <td>152391</td>\n",
       "      <td>0.25 m2 * 3</td>\n",
       "      <td>Abundance</td>\n",
       "      <td>1.00</td>\n",
       "      <td>Ind/m2</td>\n",
       "    </tr>\n",
       "  </tbody>\n",
       "</table>\n",
       "</div>"
      ],
      "text/plain": [
       "  datecollected siteid       sampleid   basisofrecord minimumdepthinmeters  \\\n",
       "0    2010-01-20   E-A5  E-A5_20100120  MaterialSample           Intertidal   \n",
       "1    2013-01-30   E-A5  E-A5_20130130  MaterialSample           Intertidal   \n",
       "2    2016-01-26   E-A5  E-A5_20160126  MaterialSample           Intertidal   \n",
       "3    2019-01-21   E-A5  E-A5_20190121  MaterialSample           Intertidal   \n",
       "4    2021-03-15   E-A5  E-A5_20210315  MaterialSample           Intertidal   \n",
       "\n",
       "  maximumdepthinmeters                  taxaname  taxanameid samplingeffort  \\\n",
       "0           Intertidal  Potamopyrgus antipodarum      147123    0.25 m2 * 3   \n",
       "1           Intertidal                 Trematoda       19948    0.25 m2 * 3   \n",
       "2           Intertidal                  NEMERTEA      152391    0.25 m2 * 3   \n",
       "3           Intertidal                  NEMERTEA      152391    0.25 m2 * 3   \n",
       "4           Intertidal                  NEMERTEA      152391    0.25 m2 * 3   \n",
       "\n",
       "   parameter  parameter_value parameter_standardunit  \n",
       "0  Abundance             5.33                 Ind/m2  \n",
       "1  Abundance             1.33                 Ind/m2  \n",
       "2  Abundance             1.00                 Ind/m2  \n",
       "3  Abundance             3.00                 Ind/m2  \n",
       "4  Abundance             1.00                 Ind/m2  "
      ]
     },
     "metadata": {},
     "output_type": "display_data"
    },
    {
     "data": {
      "text/markdown": [
       "---"
      ],
      "text/plain": [
       "<IPython.core.display.Markdown object>"
      ]
     },
     "metadata": {},
     "output_type": "display_data"
    },
    {
     "data": {
      "text/markdown": [
       "#### https://senscience.ai/frontiers/borja/MACROALGAE.csv"
      ],
      "text/plain": [
       "<IPython.core.display.Markdown object>"
      ]
     },
     "metadata": {},
     "output_type": "display_data"
    },
    {
     "data": {
      "text/html": [
       "<div>\n",
       "<style scoped>\n",
       "    .dataframe tbody tr th:only-of-type {\n",
       "        vertical-align: middle;\n",
       "    }\n",
       "\n",
       "    .dataframe tbody tr th {\n",
       "        vertical-align: top;\n",
       "    }\n",
       "\n",
       "    .dataframe thead th {\n",
       "        text-align: right;\n",
       "    }\n",
       "</style>\n",
       "<table border=\"1\" class=\"dataframe\">\n",
       "  <thead>\n",
       "    <tr style=\"text-align: right;\">\n",
       "      <th></th>\n",
       "      <th>datecollected</th>\n",
       "      <th>siteid</th>\n",
       "      <th>sampleid</th>\n",
       "      <th>basisofrecord</th>\n",
       "      <th>minimumdepthinmeters</th>\n",
       "      <th>maximumdepthinmeters</th>\n",
       "      <th>taxaname</th>\n",
       "      <th>taxanameid</th>\n",
       "      <th>samplingeffort</th>\n",
       "      <th>parameter</th>\n",
       "      <th>parameter_value</th>\n",
       "      <th>parameter_standardunit</th>\n",
       "    </tr>\n",
       "  </thead>\n",
       "  <tbody>\n",
       "    <tr>\n",
       "      <th>0</th>\n",
       "      <td>2002-05-22</td>\n",
       "      <td>M-EA1</td>\n",
       "      <td>M-EA1_20020522</td>\n",
       "      <td>HumanObservation</td>\n",
       "      <td>Intertidal</td>\n",
       "      <td>Intertidal</td>\n",
       "      <td>Enteromorpha sp.</td>\n",
       "      <td>144294</td>\n",
       "      <td>0.25 m2</td>\n",
       "      <td>Coverage</td>\n",
       "      <td>37.5</td>\n",
       "      <td>%</td>\n",
       "    </tr>\n",
       "    <tr>\n",
       "      <th>1</th>\n",
       "      <td>2005-06-06</td>\n",
       "      <td>M-EA1</td>\n",
       "      <td>M-EA1_20050606</td>\n",
       "      <td>HumanObservation</td>\n",
       "      <td>Intertidal</td>\n",
       "      <td>Intertidal</td>\n",
       "      <td>Enteromorpha sp.</td>\n",
       "      <td>144294</td>\n",
       "      <td>0.25 m2</td>\n",
       "      <td>Coverage</td>\n",
       "      <td>87.5</td>\n",
       "      <td>%</td>\n",
       "    </tr>\n",
       "    <tr>\n",
       "      <th>2</th>\n",
       "      <td>2008-06-03</td>\n",
       "      <td>M-EA1</td>\n",
       "      <td>M-EA1_20080603</td>\n",
       "      <td>HumanObservation</td>\n",
       "      <td>Intertidal</td>\n",
       "      <td>Intertidal</td>\n",
       "      <td>Enteromorpha sp.</td>\n",
       "      <td>144294</td>\n",
       "      <td>0.25 m2</td>\n",
       "      <td>Coverage</td>\n",
       "      <td>87.5</td>\n",
       "      <td>%</td>\n",
       "    </tr>\n",
       "    <tr>\n",
       "      <th>3</th>\n",
       "      <td>2011-05-05</td>\n",
       "      <td>M-EA1</td>\n",
       "      <td>M-EA1_20110505</td>\n",
       "      <td>HumanObservation</td>\n",
       "      <td>Intertidal</td>\n",
       "      <td>Intertidal</td>\n",
       "      <td>Enteromorpha sp.</td>\n",
       "      <td>144294</td>\n",
       "      <td>0.25 m2</td>\n",
       "      <td>Coverage</td>\n",
       "      <td>87.5</td>\n",
       "      <td>%</td>\n",
       "    </tr>\n",
       "    <tr>\n",
       "      <th>4</th>\n",
       "      <td>2014-05-14</td>\n",
       "      <td>M-EA1</td>\n",
       "      <td>M-EA1_20140514</td>\n",
       "      <td>HumanObservation</td>\n",
       "      <td>Intertidal</td>\n",
       "      <td>Intertidal</td>\n",
       "      <td>Enteromorpha sp.</td>\n",
       "      <td>144294</td>\n",
       "      <td>0.25 m2</td>\n",
       "      <td>Coverage</td>\n",
       "      <td>87.5</td>\n",
       "      <td>%</td>\n",
       "    </tr>\n",
       "  </tbody>\n",
       "</table>\n",
       "</div>"
      ],
      "text/plain": [
       "  datecollected siteid        sampleid     basisofrecord minimumdepthinmeters  \\\n",
       "0    2002-05-22  M-EA1  M-EA1_20020522  HumanObservation           Intertidal   \n",
       "1    2005-06-06  M-EA1  M-EA1_20050606  HumanObservation           Intertidal   \n",
       "2    2008-06-03  M-EA1  M-EA1_20080603  HumanObservation           Intertidal   \n",
       "3    2011-05-05  M-EA1  M-EA1_20110505  HumanObservation           Intertidal   \n",
       "4    2014-05-14  M-EA1  M-EA1_20140514  HumanObservation           Intertidal   \n",
       "\n",
       "  maximumdepthinmeters          taxaname  taxanameid samplingeffort parameter  \\\n",
       "0           Intertidal  Enteromorpha sp.      144294        0.25 m2  Coverage   \n",
       "1           Intertidal  Enteromorpha sp.      144294        0.25 m2  Coverage   \n",
       "2           Intertidal  Enteromorpha sp.      144294        0.25 m2  Coverage   \n",
       "3           Intertidal  Enteromorpha sp.      144294        0.25 m2  Coverage   \n",
       "4           Intertidal  Enteromorpha sp.      144294        0.25 m2  Coverage   \n",
       "\n",
       "   parameter_value parameter_standardunit  \n",
       "0             37.5                      %  \n",
       "1             87.5                      %  \n",
       "2             87.5                      %  \n",
       "3             87.5                      %  \n",
       "4             87.5                      %  "
      ]
     },
     "metadata": {},
     "output_type": "display_data"
    },
    {
     "data": {
      "text/markdown": [
       "---"
      ],
      "text/plain": [
       "<IPython.core.display.Markdown object>"
      ]
     },
     "metadata": {},
     "output_type": "display_data"
    },
    {
     "data": {
      "text/markdown": [
       "#### https://senscience.ai/frontiers/borja/FISH.csv"
      ],
      "text/plain": [
       "<IPython.core.display.Markdown object>"
      ]
     },
     "metadata": {},
     "output_type": "display_data"
    },
    {
     "data": {
      "text/html": [
       "<div>\n",
       "<style scoped>\n",
       "    .dataframe tbody tr th:only-of-type {\n",
       "        vertical-align: middle;\n",
       "    }\n",
       "\n",
       "    .dataframe tbody tr th {\n",
       "        vertical-align: top;\n",
       "    }\n",
       "\n",
       "    .dataframe thead th {\n",
       "        text-align: right;\n",
       "    }\n",
       "</style>\n",
       "<table border=\"1\" class=\"dataframe\">\n",
       "  <thead>\n",
       "    <tr style=\"text-align: right;\">\n",
       "      <th></th>\n",
       "      <th>datecollected</th>\n",
       "      <th>siteid</th>\n",
       "      <th>sampleid</th>\n",
       "      <th>basisofrecord</th>\n",
       "      <th>minimumdepthinmeters</th>\n",
       "      <th>maximumdepthinmeters</th>\n",
       "      <th>taxaname</th>\n",
       "      <th>taxanameid</th>\n",
       "      <th>samplingeffort</th>\n",
       "      <th>parameter</th>\n",
       "      <th>parameter_value</th>\n",
       "      <th>parameter_standardunit</th>\n",
       "    </tr>\n",
       "  </thead>\n",
       "  <tbody>\n",
       "    <tr>\n",
       "      <th>0</th>\n",
       "      <td>2008-09-26</td>\n",
       "      <td>AAE</td>\n",
       "      <td>AAE_20080926</td>\n",
       "      <td>HumanObservation</td>\n",
       "      <td>0.0</td>\n",
       "      <td>4.0</td>\n",
       "      <td>Palaemon sp.</td>\n",
       "      <td>107032</td>\n",
       "      <td>Three hauls, 1.5 m wide beam trawl, net of 10 ...</td>\n",
       "      <td>Abundance</td>\n",
       "      <td>1.0</td>\n",
       "      <td>ind</td>\n",
       "    </tr>\n",
       "    <tr>\n",
       "      <th>1</th>\n",
       "      <td>2017-10-11</td>\n",
       "      <td>AAE</td>\n",
       "      <td>AAE_20171011</td>\n",
       "      <td>HumanObservation</td>\n",
       "      <td>0.0</td>\n",
       "      <td>4.0</td>\n",
       "      <td>Palaemon sp.</td>\n",
       "      <td>107032</td>\n",
       "      <td>Three hauls, 1.5 m wide beam trawl, net of 10 ...</td>\n",
       "      <td>Abundance</td>\n",
       "      <td>2.0</td>\n",
       "      <td>Ind</td>\n",
       "    </tr>\n",
       "    <tr>\n",
       "      <th>2</th>\n",
       "      <td>2020-10-08</td>\n",
       "      <td>AAE</td>\n",
       "      <td>AAE_20201008</td>\n",
       "      <td>HumanObservation</td>\n",
       "      <td>0.0</td>\n",
       "      <td>4.0</td>\n",
       "      <td>Palaemon sp.</td>\n",
       "      <td>107032</td>\n",
       "      <td>Three hauls, 1.5 m wide beam trawl, net of 10 ...</td>\n",
       "      <td>Abundance</td>\n",
       "      <td>3.0</td>\n",
       "      <td>Ind</td>\n",
       "    </tr>\n",
       "    <tr>\n",
       "      <th>3</th>\n",
       "      <td>2002-09-19</td>\n",
       "      <td>AAE</td>\n",
       "      <td>AAE_20020919</td>\n",
       "      <td>HumanObservation</td>\n",
       "      <td>0.0</td>\n",
       "      <td>4.0</td>\n",
       "      <td>Crangon crangon</td>\n",
       "      <td>107552</td>\n",
       "      <td>Three hauls, 1.5 m wide beam trawl, net of 10 ...</td>\n",
       "      <td>Abundance</td>\n",
       "      <td>2.0</td>\n",
       "      <td>ind</td>\n",
       "    </tr>\n",
       "    <tr>\n",
       "      <th>4</th>\n",
       "      <td>2017-10-11</td>\n",
       "      <td>AAE</td>\n",
       "      <td>AAE_20171011</td>\n",
       "      <td>HumanObservation</td>\n",
       "      <td>0.0</td>\n",
       "      <td>4.0</td>\n",
       "      <td>Crangon crangon</td>\n",
       "      <td>107552</td>\n",
       "      <td>Three hauls, 1.5 m wide beam trawl, net of 10 ...</td>\n",
       "      <td>Abundance</td>\n",
       "      <td>4.0</td>\n",
       "      <td>Ind</td>\n",
       "    </tr>\n",
       "  </tbody>\n",
       "</table>\n",
       "</div>"
      ],
      "text/plain": [
       "  datecollected siteid      sampleid     basisofrecord  minimumdepthinmeters  \\\n",
       "0    2008-09-26    AAE  AAE_20080926  HumanObservation                   0.0   \n",
       "1    2017-10-11    AAE  AAE_20171011  HumanObservation                   0.0   \n",
       "2    2020-10-08    AAE  AAE_20201008  HumanObservation                   0.0   \n",
       "3    2002-09-19    AAE  AAE_20020919  HumanObservation                   0.0   \n",
       "4    2017-10-11    AAE  AAE_20171011  HumanObservation                   0.0   \n",
       "\n",
       "   maximumdepthinmeters         taxaname  taxanameid  \\\n",
       "0                   4.0     Palaemon sp.      107032   \n",
       "1                   4.0     Palaemon sp.      107032   \n",
       "2                   4.0     Palaemon sp.      107032   \n",
       "3                   4.0  Crangon crangon      107552   \n",
       "4                   4.0  Crangon crangon      107552   \n",
       "\n",
       "                                      samplingeffort  parameter  \\\n",
       "0  Three hauls, 1.5 m wide beam trawl, net of 10 ...  Abundance   \n",
       "1  Three hauls, 1.5 m wide beam trawl, net of 10 ...  Abundance   \n",
       "2  Three hauls, 1.5 m wide beam trawl, net of 10 ...  Abundance   \n",
       "3  Three hauls, 1.5 m wide beam trawl, net of 10 ...  Abundance   \n",
       "4  Three hauls, 1.5 m wide beam trawl, net of 10 ...  Abundance   \n",
       "\n",
       "   parameter_value parameter_standardunit  \n",
       "0              1.0                    ind  \n",
       "1              2.0                    Ind  \n",
       "2              3.0                    Ind  \n",
       "3              2.0                    ind  \n",
       "4              4.0                    Ind  "
      ]
     },
     "metadata": {},
     "output_type": "display_data"
    },
    {
     "data": {
      "text/markdown": [
       "---"
      ],
      "text/plain": [
       "<IPython.core.display.Markdown object>"
      ]
     },
     "metadata": {},
     "output_type": "display_data"
    }
   ],
   "source": [
    "# Display the first rows of each dataframe\n",
    "for name, df in dataframes.items():\n",
    "    display(Markdown(f\"#### {name}\"))\n",
    "    display(df.head())\n",
    "    display(Markdown(\"---\"))"
   ]
  },
  {
   "cell_type": "markdown",
   "metadata": {},
   "source": [
    "From the preview, we can see that the tables contain population data for various species, categorized by taxonomic name (taxa). For phytoplankton, invertebrates, and fish, the dataset records species abundance, while macroalgae are measured in terms of coverage percentage."
   ]
  },
  {
   "cell_type": "markdown",
   "metadata": {
    "id": "_LHVEdbs9_hH"
   },
   "source": [
    "## 4. Exploratory Data Analysis (EDA)\n",
    "\n",
    "To grasp the dataset’s key characteristics, identify patterns, and detect anomalies, we begin with Exploratory Data Analysis (EDA)."
   ]
  },
  {
   "cell_type": "markdown",
   "metadata": {
    "id": "O6AsFuTB9_hH"
   },
   "source": [
    "### 4.1 Identify missing values\n",
    "Check the size and completeness of the dataframes"
   ]
  },
  {
   "cell_type": "code",
   "execution_count": 9,
   "metadata": {},
   "outputs": [
    {
     "name": "stdout",
     "output_type": "stream",
     "text": [
      "Dataframe 'https://senscience.ai/frontiers/borja/PHYTOPLANKTON.csv' has no missing values.\n",
      "Dataframe 'https://senscience.ai/frontiers/borja/INVERTEBRATES.csv' has no missing values.\n",
      "Dataframe 'https://senscience.ai/frontiers/borja/MACROALGAE.csv' has no missing values.\n",
      "Dataframe 'https://senscience.ai/frontiers/borja/FISH.csv' has no missing values.\n"
     ]
    }
   ],
   "source": [
    "for name, df in dataframes.items():\n",
    "    missing_columns = df.columns[df.isnull().any()].tolist()\n",
    "    if missing_columns:\n",
    "        print(f\"Dataframe '{name}' has missing values in columns: {missing_columns}\")\n",
    "    else:\n",
    "        print(f\"Dataframe '{name}' has no missing values.\")"
   ]
  },
  {
   "cell_type": "markdown",
   "metadata": {
    "id": "Og2mpakx9_hI"
   },
   "source": [
    "### 4.2 Summary statistics"
   ]
  },
  {
   "cell_type": "markdown",
   "metadata": {},
   "source": [
    "As seen in Section 2, our initial exploration revealed that the dataset captures biodiversity trends in the sampled regions of the Bay of Biscay over the years. This includes species abundance—measured as the number of individual specimens or, in the case of algae, as surface coverage. Given this, it is essential to examine the statistical summaries of these measurements for each dataframe."
   ]
  },
  {
   "cell_type": "code",
   "execution_count": 10,
   "metadata": {},
   "outputs": [
    {
     "data": {
      "text/markdown": [
       "### Summary Statistics for PHYTOPLANKTON Abundance"
      ],
      "text/plain": [
       "<IPython.core.display.Markdown object>"
      ]
     },
     "metadata": {},
     "output_type": "display_data"
    },
    {
     "data": {
      "text/html": [
       "<div>\n",
       "<style scoped>\n",
       "    .dataframe tbody tr th:only-of-type {\n",
       "        vertical-align: middle;\n",
       "    }\n",
       "\n",
       "    .dataframe tbody tr th {\n",
       "        vertical-align: top;\n",
       "    }\n",
       "\n",
       "    .dataframe thead th {\n",
       "        text-align: right;\n",
       "    }\n",
       "</style>\n",
       "<table border=\"1\" class=\"dataframe\">\n",
       "  <thead>\n",
       "    <tr style=\"text-align: right;\">\n",
       "      <th></th>\n",
       "      <th>Taxa</th>\n",
       "      <th>Mean</th>\n",
       "      <th>Std</th>\n",
       "      <th>Min</th>\n",
       "      <th>Max</th>\n",
       "      <th>Count</th>\n",
       "    </tr>\n",
       "  </thead>\n",
       "  <tbody>\n",
       "    <tr>\n",
       "      <th>331</th>\n",
       "      <td>Plagioselmis</td>\n",
       "      <td>115.948598</td>\n",
       "      <td>374.732164</td>\n",
       "      <td>0.001</td>\n",
       "      <td>6159.600</td>\n",
       "      <td>1988</td>\n",
       "    </tr>\n",
       "    <tr>\n",
       "      <th>318</th>\n",
       "      <td>Pennales</td>\n",
       "      <td>103.285597</td>\n",
       "      <td>349.168496</td>\n",
       "      <td>0.001</td>\n",
       "      <td>7986.240</td>\n",
       "      <td>1864</td>\n",
       "    </tr>\n",
       "    <tr>\n",
       "      <th>187</th>\n",
       "      <td>Gymnodiniales</td>\n",
       "      <td>24.016398</td>\n",
       "      <td>37.842873</td>\n",
       "      <td>0.001</td>\n",
       "      <td>875.088</td>\n",
       "      <td>1564</td>\n",
       "    </tr>\n",
       "    <tr>\n",
       "      <th>396</th>\n",
       "      <td>Pyramimonas</td>\n",
       "      <td>45.614601</td>\n",
       "      <td>150.259149</td>\n",
       "      <td>0.001</td>\n",
       "      <td>2463.840</td>\n",
       "      <td>1511</td>\n",
       "    </tr>\n",
       "    <tr>\n",
       "      <th>447</th>\n",
       "      <td>Teleaulax</td>\n",
       "      <td>98.015364</td>\n",
       "      <td>409.773832</td>\n",
       "      <td>0.001</td>\n",
       "      <td>7858.800</td>\n",
       "      <td>1446</td>\n",
       "    </tr>\n",
       "    <tr>\n",
       "      <th>...</th>\n",
       "      <td>...</td>\n",
       "      <td>...</td>\n",
       "      <td>...</td>\n",
       "      <td>...</td>\n",
       "      <td>...</td>\n",
       "      <td>...</td>\n",
       "    </tr>\n",
       "    <tr>\n",
       "      <th>202</th>\n",
       "      <td>Halosphaera</td>\n",
       "      <td>0.001000</td>\n",
       "      <td>NaN</td>\n",
       "      <td>0.001</td>\n",
       "      <td>0.001</td>\n",
       "      <td>1</td>\n",
       "    </tr>\n",
       "    <tr>\n",
       "      <th>430</th>\n",
       "      <td>Scrippsiella precaria</td>\n",
       "      <td>8.496000</td>\n",
       "      <td>NaN</td>\n",
       "      <td>8.496</td>\n",
       "      <td>8.496</td>\n",
       "      <td>1</td>\n",
       "    </tr>\n",
       "    <tr>\n",
       "      <th>208</th>\n",
       "      <td>Helicotheca</td>\n",
       "      <td>0.001000</td>\n",
       "      <td>NaN</td>\n",
       "      <td>0.001</td>\n",
       "      <td>0.001</td>\n",
       "      <td>1</td>\n",
       "    </tr>\n",
       "    <tr>\n",
       "      <th>217</th>\n",
       "      <td>Heterodinium milneri</td>\n",
       "      <td>0.020000</td>\n",
       "      <td>NaN</td>\n",
       "      <td>0.020</td>\n",
       "      <td>0.020</td>\n",
       "      <td>1</td>\n",
       "    </tr>\n",
       "    <tr>\n",
       "      <th>504</th>\n",
       "      <td>Xanthidium</td>\n",
       "      <td>42.480000</td>\n",
       "      <td>NaN</td>\n",
       "      <td>42.480</td>\n",
       "      <td>42.480</td>\n",
       "      <td>1</td>\n",
       "    </tr>\n",
       "  </tbody>\n",
       "</table>\n",
       "<p>505 rows × 6 columns</p>\n",
       "</div>"
      ],
      "text/plain": [
       "                      Taxa        Mean         Std     Min       Max  Count\n",
       "331           Plagioselmis  115.948598  374.732164   0.001  6159.600   1988\n",
       "318               Pennales  103.285597  349.168496   0.001  7986.240   1864\n",
       "187          Gymnodiniales   24.016398   37.842873   0.001   875.088   1564\n",
       "396            Pyramimonas   45.614601  150.259149   0.001  2463.840   1511\n",
       "447              Teleaulax   98.015364  409.773832   0.001  7858.800   1446\n",
       "..                     ...         ...         ...     ...       ...    ...\n",
       "202            Halosphaera    0.001000         NaN   0.001     0.001      1\n",
       "430  Scrippsiella precaria    8.496000         NaN   8.496     8.496      1\n",
       "208            Helicotheca    0.001000         NaN   0.001     0.001      1\n",
       "217   Heterodinium milneri    0.020000         NaN   0.020     0.020      1\n",
       "504             Xanthidium   42.480000         NaN  42.480    42.480      1\n",
       "\n",
       "[505 rows x 6 columns]"
      ]
     },
     "metadata": {},
     "output_type": "display_data"
    },
    {
     "data": {
      "text/markdown": [
       "---"
      ],
      "text/plain": [
       "<IPython.core.display.Markdown object>"
      ]
     },
     "metadata": {},
     "output_type": "display_data"
    },
    {
     "data": {
      "text/markdown": [
       "### Summary Statistics for INVERTEBRATES Abundance"
      ],
      "text/plain": [
       "<IPython.core.display.Markdown object>"
      ]
     },
     "metadata": {},
     "output_type": "display_data"
    },
    {
     "data": {
      "text/html": [
       "<div>\n",
       "<style scoped>\n",
       "    .dataframe tbody tr th:only-of-type {\n",
       "        vertical-align: middle;\n",
       "    }\n",
       "\n",
       "    .dataframe tbody tr th {\n",
       "        vertical-align: top;\n",
       "    }\n",
       "\n",
       "    .dataframe thead th {\n",
       "        text-align: right;\n",
       "    }\n",
       "</style>\n",
       "<table border=\"1\" class=\"dataframe\">\n",
       "  <thead>\n",
       "    <tr style=\"text-align: right;\">\n",
       "      <th></th>\n",
       "      <th>Taxa</th>\n",
       "      <th>Mean</th>\n",
       "      <th>Std</th>\n",
       "      <th>Min</th>\n",
       "      <th>Max</th>\n",
       "      <th>Count</th>\n",
       "    </tr>\n",
       "  </thead>\n",
       "  <tbody>\n",
       "    <tr>\n",
       "      <th>942</th>\n",
       "      <td>Oligochaeta</td>\n",
       "      <td>430.678620</td>\n",
       "      <td>1267.729420</td>\n",
       "      <td>0.67</td>\n",
       "      <td>14997.33</td>\n",
       "      <td>652</td>\n",
       "    </tr>\n",
       "    <tr>\n",
       "      <th>234</th>\n",
       "      <td>Capitella capitata</td>\n",
       "      <td>502.023098</td>\n",
       "      <td>2019.363131</td>\n",
       "      <td>0.67</td>\n",
       "      <td>35484.75</td>\n",
       "      <td>510</td>\n",
       "    </tr>\n",
       "    <tr>\n",
       "      <th>587</th>\n",
       "      <td>Hediste diversicolor</td>\n",
       "      <td>148.624711</td>\n",
       "      <td>310.971083</td>\n",
       "      <td>0.67</td>\n",
       "      <td>2838.42</td>\n",
       "      <td>484</td>\n",
       "    </tr>\n",
       "    <tr>\n",
       "      <th>347</th>\n",
       "      <td>Cyathura carinata</td>\n",
       "      <td>122.390000</td>\n",
       "      <td>196.125996</td>\n",
       "      <td>0.67</td>\n",
       "      <td>1417.00</td>\n",
       "      <td>450</td>\n",
       "    </tr>\n",
       "    <tr>\n",
       "      <th>1067</th>\n",
       "      <td>Peringia ulvae</td>\n",
       "      <td>159.076936</td>\n",
       "      <td>973.792231</td>\n",
       "      <td>1.00</td>\n",
       "      <td>18687.00</td>\n",
       "      <td>421</td>\n",
       "    </tr>\n",
       "    <tr>\n",
       "      <th>...</th>\n",
       "      <td>...</td>\n",
       "      <td>...</td>\n",
       "      <td>...</td>\n",
       "      <td>...</td>\n",
       "      <td>...</td>\n",
       "      <td>...</td>\n",
       "    </tr>\n",
       "    <tr>\n",
       "      <th>737</th>\n",
       "      <td>Lyonsiidae</td>\n",
       "      <td>0.670000</td>\n",
       "      <td>NaN</td>\n",
       "      <td>0.67</td>\n",
       "      <td>0.67</td>\n",
       "      <td>1</td>\n",
       "    </tr>\n",
       "    <tr>\n",
       "      <th>743</th>\n",
       "      <td>Lytocarpia myriophyllum</td>\n",
       "      <td>3.330000</td>\n",
       "      <td>NaN</td>\n",
       "      <td>3.33</td>\n",
       "      <td>3.33</td>\n",
       "      <td>1</td>\n",
       "    </tr>\n",
       "    <tr>\n",
       "      <th>1</th>\n",
       "      <td>ARABELLIDAE</td>\n",
       "      <td>3.330000</td>\n",
       "      <td>NaN</td>\n",
       "      <td>3.33</td>\n",
       "      <td>3.33</td>\n",
       "      <td>1</td>\n",
       "    </tr>\n",
       "    <tr>\n",
       "      <th>748</th>\n",
       "      <td>Macropodia linaresi</td>\n",
       "      <td>3.000000</td>\n",
       "      <td>NaN</td>\n",
       "      <td>3.00</td>\n",
       "      <td>3.00</td>\n",
       "      <td>1</td>\n",
       "    </tr>\n",
       "    <tr>\n",
       "      <th>1492</th>\n",
       "      <td>Zenobiana prismatica</td>\n",
       "      <td>2.670000</td>\n",
       "      <td>NaN</td>\n",
       "      <td>2.67</td>\n",
       "      <td>2.67</td>\n",
       "      <td>1</td>\n",
       "    </tr>\n",
       "  </tbody>\n",
       "</table>\n",
       "<p>1493 rows × 6 columns</p>\n",
       "</div>"
      ],
      "text/plain": [
       "                         Taxa        Mean          Std   Min       Max  Count\n",
       "942               Oligochaeta  430.678620  1267.729420  0.67  14997.33    652\n",
       "234        Capitella capitata  502.023098  2019.363131  0.67  35484.75    510\n",
       "587      Hediste diversicolor  148.624711   310.971083  0.67   2838.42    484\n",
       "347         Cyathura carinata  122.390000   196.125996  0.67   1417.00    450\n",
       "1067           Peringia ulvae  159.076936   973.792231  1.00  18687.00    421\n",
       "...                       ...         ...          ...   ...       ...    ...\n",
       "737                Lyonsiidae    0.670000          NaN  0.67      0.67      1\n",
       "743   Lytocarpia myriophyllum    3.330000          NaN  3.33      3.33      1\n",
       "1                 ARABELLIDAE    3.330000          NaN  3.33      3.33      1\n",
       "748       Macropodia linaresi    3.000000          NaN  3.00      3.00      1\n",
       "1492     Zenobiana prismatica    2.670000          NaN  2.67      2.67      1\n",
       "\n",
       "[1493 rows x 6 columns]"
      ]
     },
     "metadata": {},
     "output_type": "display_data"
    },
    {
     "data": {
      "text/markdown": [
       "---"
      ],
      "text/plain": [
       "<IPython.core.display.Markdown object>"
      ]
     },
     "metadata": {},
     "output_type": "display_data"
    },
    {
     "data": {
      "text/markdown": [
       "### Summary Statistics for MACROALGAE Coverage"
      ],
      "text/plain": [
       "<IPython.core.display.Markdown object>"
      ]
     },
     "metadata": {},
     "output_type": "display_data"
    },
    {
     "data": {
      "text/html": [
       "<div>\n",
       "<style scoped>\n",
       "    .dataframe tbody tr th:only-of-type {\n",
       "        vertical-align: middle;\n",
       "    }\n",
       "\n",
       "    .dataframe tbody tr th {\n",
       "        vertical-align: top;\n",
       "    }\n",
       "\n",
       "    .dataframe thead th {\n",
       "        text-align: right;\n",
       "    }\n",
       "</style>\n",
       "<table border=\"1\" class=\"dataframe\">\n",
       "  <thead>\n",
       "    <tr style=\"text-align: right;\">\n",
       "      <th></th>\n",
       "      <th>Taxa</th>\n",
       "      <th>Mean</th>\n",
       "      <th>Std</th>\n",
       "      <th>Min</th>\n",
       "      <th>Max</th>\n",
       "      <th>Count</th>\n",
       "    </tr>\n",
       "  </thead>\n",
       "  <tbody>\n",
       "    <tr>\n",
       "      <th>188</th>\n",
       "      <td>Lithophyllum incrustans</td>\n",
       "      <td>41.128136</td>\n",
       "      <td>31.383030</td>\n",
       "      <td>0.1</td>\n",
       "      <td>87.5</td>\n",
       "      <td>1116</td>\n",
       "    </tr>\n",
       "    <tr>\n",
       "      <th>222</th>\n",
       "      <td>Patella intermedia</td>\n",
       "      <td>24.544166</td>\n",
       "      <td>20.706821</td>\n",
       "      <td>0.1</td>\n",
       "      <td>87.5</td>\n",
       "      <td>1037</td>\n",
       "    </tr>\n",
       "    <tr>\n",
       "      <th>71</th>\n",
       "      <td>Chthamalus sp.</td>\n",
       "      <td>28.088725</td>\n",
       "      <td>27.663079</td>\n",
       "      <td>0.1</td>\n",
       "      <td>87.5</td>\n",
       "      <td>1020</td>\n",
       "    </tr>\n",
       "    <tr>\n",
       "      <th>118</th>\n",
       "      <td>Ellisolandia elongata</td>\n",
       "      <td>39.021292</td>\n",
       "      <td>31.232549</td>\n",
       "      <td>0.1</td>\n",
       "      <td>87.5</td>\n",
       "      <td>944</td>\n",
       "    </tr>\n",
       "    <tr>\n",
       "      <th>202</th>\n",
       "      <td>Melarhaphe neritoides</td>\n",
       "      <td>23.088203</td>\n",
       "      <td>22.284158</td>\n",
       "      <td>0.1</td>\n",
       "      <td>87.5</td>\n",
       "      <td>907</td>\n",
       "    </tr>\n",
       "    <tr>\n",
       "      <th>...</th>\n",
       "      <td>...</td>\n",
       "      <td>...</td>\n",
       "      <td>...</td>\n",
       "      <td>...</td>\n",
       "      <td>...</td>\n",
       "      <td>...</td>\n",
       "    </tr>\n",
       "    <tr>\n",
       "      <th>90</th>\n",
       "      <td>Codium vermilara</td>\n",
       "      <td>0.100000</td>\n",
       "      <td>NaN</td>\n",
       "      <td>0.1</td>\n",
       "      <td>0.1</td>\n",
       "      <td>1</td>\n",
       "    </tr>\n",
       "    <tr>\n",
       "      <th>80</th>\n",
       "      <td>Cladophora pseudopellucida</td>\n",
       "      <td>0.100000</td>\n",
       "      <td>NaN</td>\n",
       "      <td>0.1</td>\n",
       "      <td>0.1</td>\n",
       "      <td>1</td>\n",
       "    </tr>\n",
       "    <tr>\n",
       "      <th>273</th>\n",
       "      <td>Spirobranchus polytrema</td>\n",
       "      <td>0.100000</td>\n",
       "      <td>NaN</td>\n",
       "      <td>0.1</td>\n",
       "      <td>0.1</td>\n",
       "      <td>1</td>\n",
       "    </tr>\n",
       "    <tr>\n",
       "      <th>274</th>\n",
       "      <td>Spongiidae</td>\n",
       "      <td>0.100000</td>\n",
       "      <td>NaN</td>\n",
       "      <td>0.1</td>\n",
       "      <td>0.1</td>\n",
       "      <td>1</td>\n",
       "    </tr>\n",
       "    <tr>\n",
       "      <th>0</th>\n",
       "      <td>Acanthochitona crinita</td>\n",
       "      <td>0.100000</td>\n",
       "      <td>NaN</td>\n",
       "      <td>0.1</td>\n",
       "      <td>0.1</td>\n",
       "      <td>1</td>\n",
       "    </tr>\n",
       "  </tbody>\n",
       "</table>\n",
       "<p>306 rows × 6 columns</p>\n",
       "</div>"
      ],
      "text/plain": [
       "                           Taxa       Mean        Std  Min   Max  Count\n",
       "188     Lithophyllum incrustans  41.128136  31.383030  0.1  87.5   1116\n",
       "222          Patella intermedia  24.544166  20.706821  0.1  87.5   1037\n",
       "71               Chthamalus sp.  28.088725  27.663079  0.1  87.5   1020\n",
       "118       Ellisolandia elongata  39.021292  31.232549  0.1  87.5    944\n",
       "202       Melarhaphe neritoides  23.088203  22.284158  0.1  87.5    907\n",
       "..                          ...        ...        ...  ...   ...    ...\n",
       "90             Codium vermilara   0.100000        NaN  0.1   0.1      1\n",
       "80   Cladophora pseudopellucida   0.100000        NaN  0.1   0.1      1\n",
       "273     Spirobranchus polytrema   0.100000        NaN  0.1   0.1      1\n",
       "274                  Spongiidae   0.100000        NaN  0.1   0.1      1\n",
       "0        Acanthochitona crinita   0.100000        NaN  0.1   0.1      1\n",
       "\n",
       "[306 rows x 6 columns]"
      ]
     },
     "metadata": {},
     "output_type": "display_data"
    },
    {
     "data": {
      "text/markdown": [
       "---"
      ],
      "text/plain": [
       "<IPython.core.display.Markdown object>"
      ]
     },
     "metadata": {},
     "output_type": "display_data"
    },
    {
     "data": {
      "text/markdown": [
       "### Summary Statistics for FISH Abundance"
      ],
      "text/plain": [
       "<IPython.core.display.Markdown object>"
      ]
     },
     "metadata": {},
     "output_type": "display_data"
    },
    {
     "data": {
      "text/html": [
       "<div>\n",
       "<style scoped>\n",
       "    .dataframe tbody tr th:only-of-type {\n",
       "        vertical-align: middle;\n",
       "    }\n",
       "\n",
       "    .dataframe tbody tr th {\n",
       "        vertical-align: top;\n",
       "    }\n",
       "\n",
       "    .dataframe thead th {\n",
       "        text-align: right;\n",
       "    }\n",
       "</style>\n",
       "<table border=\"1\" class=\"dataframe\">\n",
       "  <thead>\n",
       "    <tr style=\"text-align: right;\">\n",
       "      <th></th>\n",
       "      <th>Taxa</th>\n",
       "      <th>Mean</th>\n",
       "      <th>Std</th>\n",
       "      <th>Min</th>\n",
       "      <th>Max</th>\n",
       "      <th>Count</th>\n",
       "    </tr>\n",
       "  </thead>\n",
       "  <tbody>\n",
       "    <tr>\n",
       "      <th>14</th>\n",
       "      <td>Carcinus maenas</td>\n",
       "      <td>37.476440</td>\n",
       "      <td>88.956368</td>\n",
       "      <td>1.0</td>\n",
       "      <td>903.0</td>\n",
       "      <td>372</td>\n",
       "    </tr>\n",
       "    <tr>\n",
       "      <th>93</th>\n",
       "      <td>Pomatoschistus sp.</td>\n",
       "      <td>67.250000</td>\n",
       "      <td>128.046861</td>\n",
       "      <td>1.0</td>\n",
       "      <td>1094.0</td>\n",
       "      <td>360</td>\n",
       "    </tr>\n",
       "    <tr>\n",
       "      <th>42</th>\n",
       "      <td>Gobius niger</td>\n",
       "      <td>11.592857</td>\n",
       "      <td>27.270028</td>\n",
       "      <td>1.0</td>\n",
       "      <td>270.0</td>\n",
       "      <td>280</td>\n",
       "    </tr>\n",
       "    <tr>\n",
       "      <th>22</th>\n",
       "      <td>Crangon crangon</td>\n",
       "      <td>64.034615</td>\n",
       "      <td>184.882501</td>\n",
       "      <td>1.0</td>\n",
       "      <td>1845.0</td>\n",
       "      <td>260</td>\n",
       "    </tr>\n",
       "    <tr>\n",
       "      <th>109</th>\n",
       "      <td>Solea solea</td>\n",
       "      <td>11.492248</td>\n",
       "      <td>42.610282</td>\n",
       "      <td>1.0</td>\n",
       "      <td>616.0</td>\n",
       "      <td>258</td>\n",
       "    </tr>\n",
       "    <tr>\n",
       "      <th>...</th>\n",
       "      <td>...</td>\n",
       "      <td>...</td>\n",
       "      <td>...</td>\n",
       "      <td>...</td>\n",
       "      <td>...</td>\n",
       "      <td>...</td>\n",
       "    </tr>\n",
       "    <tr>\n",
       "      <th>83</th>\n",
       "      <td>Pandalina brevirostris</td>\n",
       "      <td>2.000000</td>\n",
       "      <td>NaN</td>\n",
       "      <td>2.0</td>\n",
       "      <td>2.0</td>\n",
       "      <td>1</td>\n",
       "    </tr>\n",
       "    <tr>\n",
       "      <th>94</th>\n",
       "      <td>Portumnus latipes</td>\n",
       "      <td>1.000000</td>\n",
       "      <td>NaN</td>\n",
       "      <td>1.0</td>\n",
       "      <td>1.0</td>\n",
       "      <td>1</td>\n",
       "    </tr>\n",
       "    <tr>\n",
       "      <th>95</th>\n",
       "      <td>Praunus flexuosus</td>\n",
       "      <td>1.000000</td>\n",
       "      <td>NaN</td>\n",
       "      <td>1.0</td>\n",
       "      <td>1.0</td>\n",
       "      <td>1</td>\n",
       "    </tr>\n",
       "    <tr>\n",
       "      <th>99</th>\n",
       "      <td>Processa spp.</td>\n",
       "      <td>1.000000</td>\n",
       "      <td>NaN</td>\n",
       "      <td>1.0</td>\n",
       "      <td>1.0</td>\n",
       "      <td>1</td>\n",
       "    </tr>\n",
       "    <tr>\n",
       "      <th>131</th>\n",
       "      <td>pisidia longicornis</td>\n",
       "      <td>5.000000</td>\n",
       "      <td>NaN</td>\n",
       "      <td>5.0</td>\n",
       "      <td>5.0</td>\n",
       "      <td>1</td>\n",
       "    </tr>\n",
       "  </tbody>\n",
       "</table>\n",
       "<p>132 rows × 6 columns</p>\n",
       "</div>"
      ],
      "text/plain": [
       "                       Taxa       Mean         Std  Min     Max  Count\n",
       "14          Carcinus maenas  37.476440   88.956368  1.0   903.0    372\n",
       "93       Pomatoschistus sp.  67.250000  128.046861  1.0  1094.0    360\n",
       "42             Gobius niger  11.592857   27.270028  1.0   270.0    280\n",
       "22          Crangon crangon  64.034615  184.882501  1.0  1845.0    260\n",
       "109             Solea solea  11.492248   42.610282  1.0   616.0    258\n",
       "..                      ...        ...         ...  ...     ...    ...\n",
       "83   Pandalina brevirostris   2.000000         NaN  2.0     2.0      1\n",
       "94        Portumnus latipes   1.000000         NaN  1.0     1.0      1\n",
       "95        Praunus flexuosus   1.000000         NaN  1.0     1.0      1\n",
       "99            Processa spp.   1.000000         NaN  1.0     1.0      1\n",
       "131     pisidia longicornis   5.000000         NaN  5.0     5.0      1\n",
       "\n",
       "[132 rows x 6 columns]"
      ]
     },
     "metadata": {},
     "output_type": "display_data"
    },
    {
     "data": {
      "text/markdown": [
       "---"
      ],
      "text/plain": [
       "<IPython.core.display.Markdown object>"
      ]
     },
     "metadata": {},
     "output_type": "display_data"
    }
   ],
   "source": [
    "summary_stats_dict = {}\n",
    "for name, df in dataframes.items():\n",
    "    summary_stats = df.groupby('taxaname').agg({\n",
    "        'parameter_value': ['mean', 'std', 'min', 'max', 'count']\n",
    "    }).reset_index()\n",
    "    summary_stats.columns = ['Taxa', 'Mean', 'Std', 'Min', 'Max', 'Count']\n",
    "    \n",
    "    # Order by count\n",
    "    summary_stats = summary_stats.sort_values(by='Count', ascending=False)\n",
    "    summary_stats_dict[name] = summary_stats\n",
    "    \n",
    "    display(Markdown(f\"### Summary Statistics for {name.split('/')[-1].split('.csv')[0]} {df['parameter'][0]}\"))\n",
    "    display(summary_stats)\n",
    "    display(Markdown(\"---\"))"
   ]
  },
  {
   "cell_type": "markdown",
   "metadata": {
    "vscode": {
     "languageId": "markdown"
    }
   },
   "source": [
    "### Summary of Tables: Mean and Taxa Diversity\n",
    "\n",
    "The dataset comprises multiple tables, each representing different categories of marine biodiversity data, including phytoplankton, invertebrates, macroalgae, and fish. Below is a summary focusing on the mean values and taxa diversity for each category:\n",
    "\n",
    "1. **Phytoplankton**:\n",
    "    - **Number of Unique Species**: 505\n",
    "    - **Mean Abundance**: The dataset records the abundance of various phytoplankton species, with mean values calculated for each species. The mean abundance provides insights into the average population size of each species across different sampling sites and times.\n",
    "\n",
    "2. **Invertebrates**:\n",
    "    - **Number of Unique Species**: 1493\n",
    "    - **Mean Abundance**: Invertebrate data includes a wide range of species with varying mean abundance values. The mean values help identify the most and least common invertebrate species in the sampled areas.\n",
    "\n",
    "3. **Macroalgae**:\n",
    "    - **Number of Unique Species**: 306\n",
    "    - **Mean Coverage**: Unlike other categories, macroalgae are measured in terms of coverage percentage. The mean coverage values indicate the average surface area occupied by each macroalgae species, providing insights into their distribution and dominance in the ecosystem.\n",
    "\n",
    "4. **Fish**:\n",
    "    - **Number of Unique Species**: 132\n",
    "    - **Mean Abundance**: Fish data includes species abundance measured in individual counts. The mean values highlight the average number of individuals per species, helping to understand the population dynamics of different fish species.\n",
    "\n",
    "Overall, the dataset reveals significant diversity in marine species across different categories, with invertebrates showing the highest number of unique species. The mean values for each category provide valuable information on the average population sizes and coverage, aiding in the analysis of biodiversity trends and ecosystem health."
   ]
  },
  {
   "cell_type": "markdown",
   "metadata": {},
   "source": [
    "#### 4.2.1 Example: Exploring the Abundance of the FISH Category"
   ]
  },
  {
   "cell_type": "markdown",
   "metadata": {},
   "source": [
    "We can take a look at the 10 most sampled unique fish taxa"
   ]
  },
  {
   "cell_type": "code",
   "execution_count": 11,
   "metadata": {},
   "outputs": [],
   "source": [
    "# Select the first 10 Taxa names\n",
    "top_10_taxa = summary_stats.head(10)"
   ]
  },
  {
   "cell_type": "code",
   "execution_count": 12,
   "metadata": {},
   "outputs": [
    {
     "name": "stderr",
     "output_type": "stream",
     "text": [
      "/var/folders/8g/f4f8zf495qlbs48mpj39dznm0000gp/T/ipykernel_38857/113548442.py:3: FutureWarning: \n",
      "\n",
      "Passing `palette` without assigning `hue` is deprecated and will be removed in v0.14.0. Assign the `x` variable to `hue` and set `legend=False` for the same effect.\n",
      "\n",
      "  ax = sns.barplot(y='Count', x='Taxa', data=top_10_taxa, palette='viridis')\n"
     ]
    },
    {
     "data": {
      "image/png": "[encoded data removed]",
      "text/plain": [
       "<Figure size 2200x600 with 2 Axes>"
      ]
     },
     "metadata": {},
     "output_type": "display_data"
    }
   ],
   "source": [
    "# Plot the count of the first 10 taxa vs the mean value of the parameter_value with inverted axes\n",
    "plt.figure(figsize=(22, 6))\n",
    "ax = sns.barplot(y='Count', x='Taxa', data=top_10_taxa, palette='viridis')\n",
    "ax.set_ylabel('Samples')\n",
    "ax.set_xlabel('Taxa')\n",
    "ax2 = ax.twinx()\n",
    "sns.lineplot(y='Mean', x='Taxa', data=top_10_taxa, ax=ax2, color='red', marker='o')\n",
    "ax2.set_ylabel(f\"({df['parameter_standardunit'][0]})\")\n",
    "plt.title(f\"Number of Samples of the First 10 Taxa vs Mean {df['parameter'][0]}\")\n",
    "plt.xticks(rotation=45)\n",
    "plt.show()"
   ]
  },
  {
   "cell_type": "markdown",
   "metadata": {},
   "source": [
    "The figure above illustrates the relationship between the number of samples and the mean abundance of the top 10 most sampled fish taxa. The bar plot represents the number of samples for each taxa, while the line plot shows the mean abundance of these taxa. The x-axis lists the taxa names, and the y-axis on the left indicates the number of samples, while the y-axis on the right shows the mean abundance in individual counts (ind). The plot highlights that the average abundance of species is not always proportional to the number of samples taken. For instance, the Gobius niger is relatively less abundant than the Crangon crangon fish, even though they were sampled almost the same number of times."
   ]
  },
  {
   "cell_type": "markdown",
   "metadata": {},
   "source": [
    "## 5. Analysis of the Biodiversity Over the Years"
   ]
  },
  {
   "cell_type": "markdown",
   "metadata": {},
   "source": [
    "In this subsection we focuse on the evolution of the biodiversity richness over the years. See Figure 3 of the FAIR² Data Article."
   ]
  },
  {
   "cell_type": "code",
   "execution_count": 13,
   "metadata": {},
   "outputs": [],
   "source": [
    "x_column = 'datecollected'\n",
    "new_x_column = \"year_collected\"\n",
    "\n",
    "def x_transformation(df):\n",
    "    # keep only the year\n",
    "    return pd.to_datetime(df[x_column], format='%Y-%m-%d').dt.year\n",
    "\n",
    "for name, df in dataframes.items():    \n",
    "    # execute transformations\n",
    "    df[new_x_column] = x_transformation(df)"
   ]
  },
  {
   "cell_type": "code",
   "execution_count": 14,
   "metadata": {},
   "outputs": [
    {
     "data": {
      "image/png": "[encoded data removed]",
      "text/plain": [
       "<Figure size 1400x800 with 1 Axes>"
      ]
     },
     "metadata": {},
     "output_type": "display_data"
    }
   ],
   "source": [
    "# Plot the change over the species diversity reachness (unique taxa) over the years\n",
    "plt.figure(figsize=(14, 8))\n",
    "\n",
    "for name, df in dataframes.items():\n",
    "    unique_taxa_per_year = df.groupby('year_collected')['taxaname'].nunique().reset_index()\n",
    "    plt.plot(unique_taxa_per_year['year_collected'], unique_taxa_per_year['taxaname'], marker='o', label=name.split('/')[-1])\n",
    "\n",
    "plt.xlabel('Year Collected')\n",
    "plt.ylabel('Number of Unique Taxa')\n",
    "plt.title('Number of Unique Taxa per Year Collected')\n",
    "plt.legend()\n",
    "plt.grid(True)\n",
    "plt.show()"
   ]
  },
  {
   "cell_type": "markdown",
   "metadata": {},
   "source": [
    "The figure above illustrates the trend in the number of unique taxa collected each year from 1989 to 2023. Each line represents a different category of marine biodiversity data, including phytoplankton, invertebrates, macroalgae, and fish. The x-axis shows the years of data collection, while the y-axis indicates the number of unique taxa identified in each year. The plot highlights the changes in biodiversity richness over time, providing insights into the temporal dynamics of species diversity in the sampled regions. The overall trend shows fluctuations in the number of unique taxa, reflecting variations in environmental conditions and sampling efforts across different years."
   ]
  },
  {
   "cell_type": "markdown",
   "metadata": {
    "id": "ZUtiDdz-9_hJ"
   },
   "source": [
    "## 5. Observations\n"
   ]
  },
  {
   "cell_type": "markdown",
   "metadata": {},
   "source": [
    "1. **Dataset Overview**:\n",
    "    - The dataset provides extensive long-term monitoring data from the Basque Country, covering various environmental variables across water, sediments, and biota.\n",
    "    - The dataset includes multiple record sets, each representing different categories of marine biodiversity data, such as phytoplankton, invertebrates, macroalgae, and fish.\n",
    "\n",
    "2. **Data Completeness**:\n",
    "    - The dataframes for each record set were checked for missing values. Most dataframes had no missing values, indicating a high level of data completeness.\n",
    "\n",
    "3. **Summary Statistics**:\n",
    "    - Summary statistics were calculated for each record set, focusing on species abundance and coverage.\n",
    "    - The dataset revealed significant diversity in marine species, with invertebrates showing the highest number of unique species (1493), followed by phytoplankton (505), macroalgae (306), and fish (132).\n",
    "\n",
    "4. **Top 10 Most Sampled Fish Taxa**:\n",
    "    - The top 10 most sampled fish taxa were identified, with Carcinus maenas being the most sampled species.\n",
    "    - A plot illustrating the relationship between the number of samples and the mean abundance of these taxa showed that the average abundance of species is not always proportional to the number of samples taken.\n",
    "\n",
    "5. **Biodiversity Trends Over the Years**:\n",
    "    - The number of unique taxa collected each year from 1989 to 2023 was analyzed.\n",
    "    - The plot showed fluctuations in the number of unique taxa over time, reflecting variations in environmental conditions and sampling efforts across different years.\n",
    "\n",
    "\n",
    "Overall, the dataset reveals valuable information on marine biodiversity trends and ecosystem health in the Basque Country's coastal areas. The analysis highlights the richness and diversity of species, as well as temporal dynamics and potential correlations within the data."
   ]
  },
  {
   "cell_type": "markdown",
   "metadata": {
    "id": "wgnfSw8e9_hJ"
   },
   "source": [
    "## Conclusion\n",
    "In this notebook, we successfully explored the Marine Biodiversity and Environmental Data Package using the `mlcroissant` library. We began by loading the dataset and reviewing its metadata, followed by extracting specific record sets into dataframes for detailed analysis. Through exploratory data analysis (EDA), we identified missing values, calculated summary statistics, and visualized the abundance of various taxa. Our analysis revealed significant biodiversity in the Basque Country's coastal areas, with invertebrates showing the highest number of unique species. We also examined the temporal trends in species diversity, highlighting fluctuations over the years. The insights gained from this dataset provide valuable information for understanding marine biodiversity trends and ecosystem health, supporting research and policy aligned with environmental management and conservation efforts."
   ]
  }
 ],
 "metadata": {
  "colab": {
   "provenance": [
    {
     "file_id": "https://github.com/senscience/notebooks-dev/blob/main/Borja_2024_Marine_Biodiversity_Environmental_Data_Dataset/notebook.ipynb",
     "timestamp": 1738739986817
    }
   ]
  },
  "kernelspec": {
   "display_name": "Python 3",
   "language": "python",
   "name": "python3"
  },
  "language_info": {
   "codemirror_mode": {
    "name": "ipython",
    "version": 3
   },
   "file_extension": ".py",
   "mimetype": "text/x-python",
   "name": "python",
   "nbconvert_exporter": "python",
   "pygments_lexer": "ipython3",
   "version": "3.11.11"
  }
 },
 "nbformat": 4,
 "nbformat_minor": 0
}
