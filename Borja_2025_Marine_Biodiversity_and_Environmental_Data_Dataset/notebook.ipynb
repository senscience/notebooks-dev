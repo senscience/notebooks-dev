{
 "cells": [
  {
   "cell_type": "markdown",
   "metadata": {
    "id": "Ow7g8UyK9_g8"
   },
   "source": [
    "# Explore the Marine Biodiversity and Environmental Data Package with `mlcroissant`\n",
    "\n",
    "## Introduction\n",
    "This dataset from **Borja et al.** provides 38 years of environmental monitoring data (1995–2023) tracks 130 environmental variables across water, sediments, and biota in the Basque Country’s coastal areas. Developed with the Basque Water Agency (URA), it enables analysis of human impacts and ecosystem management.\n",
    "\n",
    "Learn more:\n",
    "- Data Package doi: [10.71728/r1rj-f947](https://sen.science/doi/10.71728/r1rj-f947)\n",
    "- Frontiers Data Article doi: [10.3389/focsu.2024.1528837](https:.//doi.org/10.3389/focsu.2024.1528837)\n",
    "\n",
    "As a FAIR² Data Package, it ensures accessibility, interoperability, and AI-readiness, supporting research and policy aligned with European directives. FAIR² datasets follow the MLCommons **Croissant** 🥐 format for machine learning datasets. See the [MLCommons Croissant Format Specification](https://docs.mlcommons.org/croissant/docs/croissant-spec.html).\n",
    "\n",
    "This notebook provides a step-by-step guide for loading the dataset using the `mlcroissant` Python library."
   ]
  },
  {
   "cell_type": "markdown",
   "metadata": {
    "id": "Q5e9wHsd_u8l"
   },
   "source": [
    "### Install and import required libraries"
   ]
  },
  {
   "cell_type": "code",
   "execution_count": null,
   "metadata": {
    "colab": {
     "base_uri": "https://localhost:8080/"
    },
    "executionInfo": {
     "elapsed": 11540,
     "status": "ok",
     "timestamp": 1738740457062,
     "user": {
      "displayName": "Cristina González",
      "userId": "11235768240184641454"
     },
     "user_tz": -60
    },
    "id": "xuYN_u7T-U0N",
    "outputId": "0f90e35a-0af4-44fc-8766-366bf307cc90"
   },
   "outputs": [],
   "source": [
    "# Install mlcroissant from the source\n",
    "# !sudo apt-get install python3-dev graphviz libgraphviz-dev pkg-config\n",
    "# !pip install mlcroissant[dev]"
   ]
  },
  {
   "cell_type": "code",
   "execution_count": null,
   "metadata": {},
   "outputs": [],
   "source": [
    "# To install it directly from the github repository\n",
    "# !pip install \"git+https://github.com/${GITHUB_REPOSITORY:-mlcommons/croissant}.git@${GITHUB_HEAD_REF:-main}#subdirectory=python/mlcroissant&egg=mlcroissant[dev]\""
   ]
  },
  {
   "cell_type": "code",
   "execution_count": null,
   "metadata": {
    "executionInfo": {
     "elapsed": 4253,
     "status": "ok",
     "timestamp": 1738740551788,
     "user": {
      "displayName": "Cristina González",
      "userId": "11235768240184641454"
     },
     "user_tz": -60
    },
    "id": "vmqyOu_29_hC"
   },
   "outputs": [],
   "source": [
    "import mlcroissant as mlc\n",
    "import pandas as pd\n",
    "import seaborn as sns\n",
    "import matplotlib.pyplot as plt\n",
    "\n",
    "from tabulate import tabulate\n",
    "from IPython.display import Markdown"
   ]
  },
  {
   "cell_type": "markdown",
   "metadata": {
    "id": "UCfCQUpK9_hE"
   },
   "source": [
    "## 1. Data Loading\n",
    "Load metadata and records from the dataset using `mlcroissant` and the URL of the FAIR<sup>2</sup> Data Package."
   ]
  },
  {
   "cell_type": "code",
   "execution_count": null,
   "metadata": {
    "colab": {
     "base_uri": "https://localhost:8080/"
    },
    "executionInfo": {
     "elapsed": 1662,
     "status": "ok",
     "timestamp": 1738740558370,
     "user": {
      "displayName": "Cristina González",
      "userId": "11235768240184641454"
     },
     "user_tz": -60
    },
    "id": "-Y6BD-1E9_hE",
    "outputId": "ac9e71c9-40aa-456e-e30a-cfd000239b58"
   },
   "outputs": [],
   "source": [
    "# Provide the dataset URL\n",
    "url = 'https://sen.science/doi/10.71728/r1rj-f947/fair2.json'\n",
    "\n",
    "# Load the dataset metadata\n",
    "dataset = mlc.Dataset(url)\n",
    "metadata = dataset.metadata.to_json()\n",
    "print(f\"{metadata['name']}: {metadata['description']}\")"
   ]
  },
  {
   "cell_type": "markdown",
   "metadata": {
    "id": "hWb1iejO9_hF"
   },
   "source": [
    "## 2. Data Overview\n",
    "\n",
    "In the **Croissant** format, a RecordSet represents a structured collection of records, where each record is a granular dataset unit (e.g., an image, text file, or table row). It defines the structure of these records using a set of fields, such as the columns in a table or sheet, as seen in this example."
   ]
  },
  {
   "cell_type": "markdown",
   "metadata": {},
   "source": [
    "### 2.1 Review available RecordSets"
   ]
  },
  {
   "cell_type": "code",
   "execution_count": null,
   "metadata": {
    "executionInfo": {
     "elapsed": 5,
     "status": "ok",
     "timestamp": 1738740693722,
     "user": {
      "displayName": "Cristina González",
      "userId": "11235768240184641454"
     },
     "user_tz": -60
    },
    "id": "yXd4zEhl9_hF"
   },
   "outputs": [],
   "source": [
    "# Format the list column as a Markdown-compatible string\n",
    "def format_list_column(row):\n",
    "    if isinstance(row, list):\n",
    "        return \"\\n\".join(f\"- {item}\" for item in row)  # Bullet point list\n",
    "    return str(row)"
   ]
  },
  {
   "cell_type": "code",
   "execution_count": null,
   "metadata": {
    "colab": {
     "base_uri": "https://localhost:8080/",
     "height": 1000
    },
    "executionInfo": {
     "elapsed": 387,
     "status": "ok",
     "timestamp": 1738740707333,
     "user": {
      "displayName": "Cristina González",
      "userId": "11235768240184641454"
     },
     "user_tz": -60
    },
    "id": "ue7-uq0V9_hG",
    "outputId": "3644aa63-e194-4d89-ecd6-9c3cc2b56e1a"
   },
   "outputs": [],
   "source": [
    "# List all the record sets available in the dataset\n",
    "df = pd.DataFrame(metadata[\"recordSet\"])\n",
    "columns_to_keep = {\n",
    "    \"@id\": \"Record Set ID\",\n",
    "    \"description\": \"Description\"\n",
    "}\n",
    "df = df[list(columns_to_keep.keys())]\n",
    "df = df.rename(columns=columns_to_keep)\n",
    "\n",
    "# Convert DataFrame to Markdown table\n",
    "markdown_table = tabulate(df, headers=\"keys\", tablefmt=\"pipe\", showindex=False)\n",
    "\n",
    "# Render the table as Markdown in Jupyter\n",
    "display(Markdown(markdown_table))"
   ]
  },
  {
   "cell_type": "markdown",
   "metadata": {
    "id": "EOhaQDGn9_hG"
   },
   "source": [
    "## 3. Data Extraction\n",
    "\n",
    "#### 3.1 Load data from a specific record set into a DataFrame for analysis. \n",
    "\n",
    "In this example we will focus on the data records related to the biodiversity of the sampled areas (phytoplankton, invertebrates, macroalgae, and fish). To that end we can use the RecordSet `@id`s from the overview"
   ]
  },
  {
   "cell_type": "code",
   "execution_count": null,
   "metadata": {
    "colab": {
     "base_uri": "https://localhost:8080/",
     "height": 1000
    },
    "executionInfo": {
     "elapsed": 40760,
     "status": "ok",
     "timestamp": 1738740775777,
     "user": {
      "displayName": "Cristina González",
      "userId": "11235768240184641454"
     },
     "user_tz": -60
    },
    "id": "EmhscIDQ9_hH",
    "outputId": "9d9d3934-25ba-448f-8357-6a12ff04f925"
   },
   "outputs": [],
   "source": [
    "record_set_ids = [\n",
    "    'https://sen.science/10.71728/r1rj-f947/record-sets/PHYTOPLANKTON',\n",
    "    'https://sen.science/10.71728/r1rj-f947/record-sets/INVERTEBRATES',\n",
    "    'https://sen.science/10.71728/r1rj-f947/record-sets/MACROALGAE',\n",
    "    'https://sen.science/10.71728/r1rj-f947/record-sets/FISH'\n",
    "]\n",
    "\n",
    "dataframes = {\n",
    "    record_set_id: pd.DataFrame(list(dataset.records(record_set=record_set_id)))\n",
    "    for record_set_id in record_set_ids\n",
    "}"
   ]
  },
  {
   "cell_type": "code",
   "execution_count": null,
   "metadata": {},
   "outputs": [],
   "source": [
    "prefix = \"https://sen.science/doi/10.71728/r1rj-f947/\"\n",
    "\n",
    "for name, df in dataframes.items():\n",
    "    df.rename(columns=lambda x: x.replace(prefix, \"\").split(\"/\")[-1], inplace=True)"
   ]
  },
  {
   "cell_type": "code",
   "execution_count": null,
   "metadata": {},
   "outputs": [],
   "source": [
    "# Display the first rows of each dataframe\n",
    "for name, df in dataframes.items():\n",
    "    display(Markdown(f\"#### {name}\"))\n",
    "    display(df.head())\n",
    "    display(Markdown(\"---\"))"
   ]
  },
  {
   "cell_type": "markdown",
   "metadata": {},
   "source": [
    "From the preview, we can see that the tables contain population data for various species, categorized by taxonomic name (taxa). For phytoplankton, invertebrates, and fish, the dataset records species abundance, while macroalgae are measured in terms of coverage percentage."
   ]
  },
  {
   "cell_type": "markdown",
   "metadata": {
    "id": "_LHVEdbs9_hH"
   },
   "source": [
    "## 4. Exploratory Data Analysis (EDA)\n",
    "\n",
    "To grasp the dataset’s key characteristics, identify patterns, and detect anomalies, we begin with Exploratory Data Analysis (EDA)."
   ]
  },
  {
   "cell_type": "markdown",
   "metadata": {
    "id": "O6AsFuTB9_hH"
   },
   "source": [
    "### 4.1 Identify missing values\n",
    "Check the size and completeness of the dataframes"
   ]
  },
  {
   "cell_type": "code",
   "execution_count": null,
   "metadata": {},
   "outputs": [],
   "source": [
    "for name, df in dataframes.items():\n",
    "    missing_columns = df.columns[df.isnull().any()].tolist()\n",
    "    if missing_columns:\n",
    "        print(f\"Dataframe '{name}' has missing values in columns: {missing_columns}\")\n",
    "    else:\n",
    "        print(f\"Dataframe '{name}' has no missing values.\")"
   ]
  },
  {
   "cell_type": "markdown",
   "metadata": {
    "id": "Og2mpakx9_hI"
   },
   "source": [
    "### 4.2 Summary statistics"
   ]
  },
  {
   "cell_type": "markdown",
   "metadata": {},
   "source": [
    "As seen in Section 2, our initial exploration revealed that the dataset captures biodiversity trends in the sampled regions of the Bay of Biscay over the years. This includes species abundance—measured as the number of individual specimens or, in the case of algae, as surface coverage. Given this, it is essential to examine the statistical summaries of these measurements for each dataframe."
   ]
  },
  {
   "cell_type": "code",
   "execution_count": null,
   "metadata": {},
   "outputs": [],
   "source": [
    "summary_stats_dict = {}\n",
    "for name, df in dataframes.items():\n",
    "    summary_stats = df.groupby('taxaname').agg({\n",
    "        'parameter_value': ['mean', 'std', 'min', 'max', 'count']\n",
    "    }).reset_index()\n",
    "    summary_stats.columns = ['Taxa', 'Mean', 'Std', 'Min', 'Max', 'Count']\n",
    "    \n",
    "    # Order by count\n",
    "    summary_stats = summary_stats.sort_values(by='Count', ascending=False)\n",
    "    summary_stats_dict[name] = summary_stats\n",
    "    \n",
    "    display(Markdown(f\"### Summary Statistics for {name.split('/')[-1].split('.csv')[0]} {df['parameter'][0]}\"))\n",
    "    display(summary_stats)\n",
    "    display(Markdown(\"---\"))"
   ]
  },
  {
   "cell_type": "markdown",
   "metadata": {
    "vscode": {
     "languageId": "markdown"
    }
   },
   "source": [
    "### Summary of Tables: Mean and Taxa Diversity\n",
    "\n",
    "The dataset comprises multiple tables, each representing different categories of marine biodiversity data, including phytoplankton, invertebrates, macroalgae, and fish. Below is a summary focusing on the mean values and taxa diversity for each category:\n",
    "\n",
    "1. **Phytoplankton**:\n",
    "    - **Number of Unique Species**: 505\n",
    "    - **Mean Abundance**: The dataset records the abundance of various phytoplankton species, with mean values calculated for each species. The mean abundance provides insights into the average population size of each species across different sampling sites and times.\n",
    "\n",
    "2. **Invertebrates**:\n",
    "    - **Number of Unique Species**: 1493\n",
    "    - **Mean Abundance**: Invertebrate data includes a wide range of species with varying mean abundance values. The mean values help identify the most and least common invertebrate species in the sampled areas.\n",
    "\n",
    "3. **Macroalgae**:\n",
    "    - **Number of Unique Species**: 306\n",
    "    - **Mean Coverage**: Unlike other categories, macroalgae are measured in terms of coverage percentage. The mean coverage values indicate the average surface area occupied by each macroalgae species, providing insights into their distribution and dominance in the ecosystem.\n",
    "\n",
    "4. **Fish**:\n",
    "    - **Number of Unique Species**: 132\n",
    "    - **Mean Abundance**: Fish data includes species abundance measured in individual counts. The mean values highlight the average number of individuals per species, helping to understand the population dynamics of different fish species.\n",
    "\n",
    "Overall, the dataset reveals significant diversity in marine species across different categories, with invertebrates showing the highest number of unique species. The mean values for each category provide valuable information on the average population sizes and coverage, aiding in the analysis of biodiversity trends and ecosystem health."
   ]
  },
  {
   "cell_type": "markdown",
   "metadata": {},
   "source": [
    "#### 4.2.1 Example: Exploring the Abundance of the FISH Category"
   ]
  },
  {
   "cell_type": "markdown",
   "metadata": {},
   "source": [
    "We can take a look at the 10 most sampled unique fish taxa"
   ]
  },
  {
   "cell_type": "code",
   "execution_count": null,
   "metadata": {},
   "outputs": [],
   "source": [
    "# Select the first 10 Taxa names\n",
    "top_10_taxa = summary_stats.head(10)"
   ]
  },
  {
   "cell_type": "code",
   "execution_count": null,
   "metadata": {},
   "outputs": [],
   "source": [
    "# Plot the count of the first 10 taxa vs the mean value of the parameter_value with inverted axes\n",
    "plt.figure(figsize=(22, 6))\n",
    "ax = sns.barplot(y='Count', x='Taxa', data=top_10_taxa, palette='viridis')\n",
    "ax.set_ylabel('Samples')\n",
    "ax.set_xlabel('Taxa')\n",
    "ax2 = ax.twinx()\n",
    "sns.lineplot(y='Mean', x='Taxa', data=top_10_taxa, ax=ax2, color='red', marker='o')\n",
    "ax2.set_ylabel(f\"({df['parameter_standardunit'][0]})\")\n",
    "plt.title(f\"Number of Samples of the First 10 Taxa vs Mean {df['parameter'][0]}\")\n",
    "plt.xticks(rotation=45)\n",
    "plt.show()"
   ]
  },
  {
   "cell_type": "markdown",
   "metadata": {},
   "source": [
    "The figure above illustrates the relationship between the number of samples and the mean abundance of the top 10 most sampled fish taxa. The bar plot represents the number of samples for each taxa, while the line plot shows the mean abundance of these taxa. The x-axis lists the taxa names, and the y-axis on the left indicates the number of samples, while the y-axis on the right shows the mean abundance in individual counts (ind). The plot highlights that the average abundance of species is not always proportional to the number of samples taken. For instance, the Gobius niger is relatively less abundant than the Crangon crangon fish, even though they were sampled almost the same number of times."
   ]
  },
  {
   "cell_type": "markdown",
   "metadata": {},
   "source": [
    "## 5. Analysis of the Biodiversity Over the Years"
   ]
  },
  {
   "cell_type": "markdown",
   "metadata": {},
   "source": [
    "In this subsection we focuse on the evolution of the biodiversity richness over the years. See Figure 3 of the FAIR² Data Article."
   ]
  },
  {
   "cell_type": "code",
   "execution_count": null,
   "metadata": {},
   "outputs": [],
   "source": [
    "x_column = 'datecollected'\n",
    "new_x_column = \"year_collected\"\n",
    "\n",
    "def x_transformation(df):\n",
    "    # keep only the year\n",
    "    return pd.to_datetime(df[x_column], format='%Y-%m-%d').dt.year\n",
    "\n",
    "for name, df in dataframes.items():    \n",
    "    # execute transformations\n",
    "    df[new_x_column] = x_transformation(df)"
   ]
  },
  {
   "cell_type": "code",
   "execution_count": null,
   "metadata": {},
   "outputs": [],
   "source": [
    "# Plot the change over the species diversity reachness (unique taxa) over the years\n",
    "plt.figure(figsize=(14, 8))\n",
    "\n",
    "for name, df in dataframes.items():\n",
    "    unique_taxa_per_year = df.groupby('year_collected')['taxaname'].nunique().reset_index()\n",
    "    plt.plot(unique_taxa_per_year['year_collected'], unique_taxa_per_year['taxaname'], marker='o', label=name.split('/')[-1])\n",
    "\n",
    "plt.xlabel('Year Collected')\n",
    "plt.ylabel('Number of Unique Taxa')\n",
    "plt.title('Number of Unique Taxa per Year Collected')\n",
    "plt.legend()\n",
    "plt.grid(True)\n",
    "plt.show()"
   ]
  },
  {
   "cell_type": "markdown",
   "metadata": {},
   "source": [
    "The figure above illustrates the trend in the number of unique taxa collected each year from 1989 to 2023. Each line represents a different category of marine biodiversity data, including phytoplankton, invertebrates, macroalgae, and fish. The x-axis shows the years of data collection, while the y-axis indicates the number of unique taxa identified in each year. The plot highlights the changes in biodiversity richness over time, providing insights into the temporal dynamics of species diversity in the sampled regions. The overall trend shows fluctuations in the number of unique taxa, reflecting variations in environmental conditions and sampling efforts across different years."
   ]
  },
  {
   "cell_type": "markdown",
   "metadata": {
    "id": "ZUtiDdz-9_hJ"
   },
   "source": [
    "## 5. Observations\n"
   ]
  },
  {
   "cell_type": "markdown",
   "metadata": {},
   "source": [
    "1. **Dataset Overview**:\n",
    "    - The dataset provides extensive long-term monitoring data from the Basque Country, covering various environmental variables across water, sediments, and biota.\n",
    "    - The dataset includes multiple record sets, each representing different categories of marine biodiversity data, such as phytoplankton, invertebrates, macroalgae, and fish.\n",
    "\n",
    "2. **Data Completeness**:\n",
    "    - The dataframes for each record set were checked for missing values. Most dataframes had no missing values, indicating a high level of data completeness.\n",
    "\n",
    "3. **Summary Statistics**:\n",
    "    - Summary statistics were calculated for each record set, focusing on species abundance and coverage.\n",
    "    - The dataset revealed significant diversity in marine species, with invertebrates showing the highest number of unique species (1493), followed by phytoplankton (505), macroalgae (306), and fish (132).\n",
    "\n",
    "4. **Top 10 Most Sampled Fish Taxa**:\n",
    "    - The top 10 most sampled fish taxa were identified, with Carcinus maenas being the most sampled species.\n",
    "    - A plot illustrating the relationship between the number of samples and the mean abundance of these taxa showed that the average abundance of species is not always proportional to the number of samples taken.\n",
    "\n",
    "5. **Biodiversity Trends Over the Years**:\n",
    "    - The number of unique taxa collected each year from 1989 to 2023 was analyzed.\n",
    "    - The plot showed fluctuations in the number of unique taxa over time, reflecting variations in environmental conditions and sampling efforts across different years.\n",
    "\n",
    "\n",
    "Overall, the dataset reveals valuable information on marine biodiversity trends and ecosystem health in the Basque Country's coastal areas. The analysis highlights the richness and diversity of species, as well as temporal dynamics and potential correlations within the data."
   ]
  },
  {
   "cell_type": "markdown",
   "metadata": {
    "id": "wgnfSw8e9_hJ"
   },
   "source": [
    "## Conclusion\n",
    "In this notebook, we successfully explored the Marine Biodiversity and Environmental Data Package using the `mlcroissant` library. We began by loading the dataset and reviewing its metadata, followed by extracting specific record sets into dataframes for detailed analysis. Through exploratory data analysis (EDA), we identified missing values, calculated summary statistics, and visualized the abundance of various taxa. Our analysis revealed significant biodiversity in the Basque Country's coastal areas, with invertebrates showing the highest number of unique species. We also examined the temporal trends in species diversity, highlighting fluctuations over the years. The insights gained from this dataset provide valuable information for understanding marine biodiversity trends and ecosystem health, supporting research and policy aligned with environmental management and conservation efforts."
   ]
  }
 ],
 "metadata": {
  "colab": {
   "provenance": [
    {
     "file_id": "https://github.com/senscience/notebooks-dev/blob/main/Borja_2024_Marine_Biodiversity_Environmental_Data_Dataset/notebook.ipynb",
     "timestamp": 1738739986817
    }
   ]
  },
  "kernelspec": {
   "display_name": "Python 3",
   "language": "python",
   "name": "python3"
  },
  "language_info": {
   "codemirror_mode": {
    "name": "ipython",
    "version": 3
   },
   "file_extension": ".py",
   "mimetype": "text/x-python",
   "name": "python",
   "nbconvert_exporter": "python",
   "pygments_lexer": "ipython3",
   "version": "3.11.11"
  }
 },
 "nbformat": 4,
 "nbformat_minor": 0
}
